{
 "cells": [
  {
   "cell_type": "markdown",
   "metadata": {},
   "source": [
    "# <center> PV - Segmentation - Preprocessing </center>"
   ]
  },
  {
   "cell_type": "markdown",
   "metadata": {},
   "source": [
    "This notebook splits the large rasters from the Duke Energy Initative PV satellite imagery dataset and creates binary masks based on polygon annotations, in order to prepare data for training in a Mask R-CNN model."
   ]
  },
  {
   "cell_type": "code",
   "execution_count": 1,
   "metadata": {},
   "outputs": [],
   "source": [
    "import os\n",
    "import geopandas as gpd\n",
    "import glob\n",
    "import rasterio as rio\n",
    "import matplotlib.pyplot as plt\n",
    "import numpy as np\n",
    "from PIL import Image, ImageDraw\n",
    "from ast import literal_eval\n",
    "import imageio\n",
    "from itertools import product\n",
    "import image_slicer\n",
    "import skimage.io as io\n",
    "from skimage import img_as_ubyte\n",
    "import random\n",
    "import shutil\n",
    "%matplotlib inline"
   ]
  },
  {
   "cell_type": "markdown",
   "metadata": {},
   "source": [
    "## Preprocessing of Duke dataset"
   ]
  },
  {
   "cell_type": "markdown",
   "metadata": {},
   "source": [
    "The dataset gathered by Duke university contains hundreds of large scale TIF images of 4 cities in California, along with polygons corresponding to each PV array in the images.\n",
    "\n",
    "To build a dataset for training, we will split the large TIF images in chunks of size 500x500 pixels. We will then create the corresponding binary masks, with potentially several masks per image chunk (for different solar array instances)."
   ]
  },
  {
   "cell_type": "markdown",
   "metadata": {},
   "source": [
    "### Experiments"
   ]
  },
  {
   "cell_type": "markdown",
   "metadata": {},
   "source": [
    "Here, we try several techniques, mostly using `rasterio`, to crop images and masks. In our final workflow (next section) we will present more efficient methods."
   ]
  },
  {
   "cell_type": "markdown",
   "metadata": {},
   "source": [
    "#### Build image dataset"
   ]
  },
  {
   "cell_type": "markdown",
   "metadata": {},
   "source": [
    "* Load labels for the city of Modesto"
   ]
  },
  {
   "cell_type": "code",
   "execution_count": 8,
   "metadata": {
    "scrolled": false
   },
   "outputs": [
    {
     "name": "stdout",
     "output_type": "stream",
     "text": [
      "There are 582 PV polygons for Modesto\n"
     ]
    },
    {
     "data": {
      "text/html": [
       "<div>\n",
       "<style scoped>\n",
       "    .dataframe tbody tr th:only-of-type {\n",
       "        vertical-align: middle;\n",
       "    }\n",
       "\n",
       "    .dataframe tbody tr th {\n",
       "        vertical-align: top;\n",
       "    }\n",
       "\n",
       "    .dataframe thead th {\n",
       "        text-align: right;\n",
       "    }\n",
       "</style>\n",
       "<table border=\"1\" class=\"dataframe\">\n",
       "  <thead>\n",
       "    <tr style=\"text-align: right;\">\n",
       "      <th></th>\n",
       "      <th>polygon_id</th>\n",
       "      <th>centroid_latitude</th>\n",
       "      <th>centroid_longitude</th>\n",
       "      <th>centroid_latitude_pixels</th>\n",
       "      <th>centroid_longitude_pixels</th>\n",
       "      <th>city</th>\n",
       "      <th>area_pixels</th>\n",
       "      <th>area_meters</th>\n",
       "      <th>image_name</th>\n",
       "      <th>nw_corner_of_image_latitude</th>\n",
       "      <th>nw_corner_of_image_longitude</th>\n",
       "      <th>se_corner_of_image_latitude</th>\n",
       "      <th>se_corner_of_image_longitude</th>\n",
       "      <th>datum</th>\n",
       "      <th>projection_zone</th>\n",
       "      <th>resolution</th>\n",
       "      <th>jaccard_index</th>\n",
       "      <th>polygon_vertices_pixels</th>\n",
       "      <th>geometry</th>\n",
       "    </tr>\n",
       "  </thead>\n",
       "  <tbody>\n",
       "    <tr>\n",
       "      <th>14710</th>\n",
       "      <td>14804</td>\n",
       "      <td>37.646419</td>\n",
       "      <td>-121.001768</td>\n",
       "      <td>120.907616</td>\n",
       "      <td>4292.078275</td>\n",
       "      <td>Modesto</td>\n",
       "      <td>30.191414</td>\n",
       "      <td>335.460156</td>\n",
       "      <td>10sfg750670</td>\n",
       "      <td>37.646992</td>\n",
       "      <td>-121.016347</td>\n",
       "      <td>37.633194</td>\n",
       "      <td>-120.999714</td>\n",
       "      <td>NAD83</td>\n",
       "      <td>10</td>\n",
       "      <td>0.3</td>\n",
       "      <td>0.903454</td>\n",
       "      <td>[ [ 4306.3662979999999, 119.6673471 ], [ 4307....</td>\n",
       "      <td>POLYGON ((-121.00172 37.64642, -121.00172 37.6...</td>\n",
       "    </tr>\n",
       "  </tbody>\n",
       "</table>\n",
       "</div>"
      ],
      "text/plain": [
       "       polygon_id  centroid_latitude  centroid_longitude  \\\n",
       "14710       14804          37.646419         -121.001768   \n",
       "\n",
       "       centroid_latitude_pixels  centroid_longitude_pixels     city  \\\n",
       "14710                120.907616                4292.078275  Modesto   \n",
       "\n",
       "       area_pixels  area_meters   image_name  nw_corner_of_image_latitude  \\\n",
       "14710    30.191414   335.460156  10sfg750670                    37.646992   \n",
       "\n",
       "       nw_corner_of_image_longitude  se_corner_of_image_latitude  \\\n",
       "14710                   -121.016347                    37.633194   \n",
       "\n",
       "       se_corner_of_image_longitude  datum projection_zone  resolution  \\\n",
       "14710                   -120.999714  NAD83              10         0.3   \n",
       "\n",
       "       jaccard_index                            polygon_vertices_pixels  \\\n",
       "14710       0.903454  [ [ 4306.3662979999999, 119.6673471 ], [ 4307....   \n",
       "\n",
       "                                                geometry  \n",
       "14710  POLYGON ((-121.00172 37.64642, -121.00172 37.6...  "
      ]
     },
     "execution_count": 8,
     "metadata": {},
     "output_type": "execute_result"
    }
   ],
   "source": [
    "labels = gpd.read_file(\"../Data/Duke/3385780_polygons/SolarArrayPolygons.geojson\")\n",
    "labels = labels[labels['city']=='Modesto']\n",
    "print('There are {} PV polygons for Modesto'.format(labels.shape[0]))\n",
    "labels.head(1)"
   ]
  },
  {
   "cell_type": "markdown",
   "metadata": {},
   "source": [
    "* Crop rasters around polygons"
   ]
  },
  {
   "cell_type": "code",
   "execution_count": 75,
   "metadata": {},
   "outputs": [],
   "source": [
    "filenames = glob.glob('../Data/Duke/3385789_Modesto/10sfg*.tif') # list image names\n",
    "filenames.sort()\n",
    "N = 300 # set the NxN window for cropping\n",
    "outfile = '../Data/Duke/Modesto_cropped/{}_{}.tif' # define the path for cropped images"
   ]
  },
  {
   "cell_type": "code",
   "execution_count": 77,
   "metadata": {
    "scrolled": false
   },
   "outputs": [
    {
     "name": "stdout",
     "output_type": "stream",
     "text": [
      "12 images of dim 300x300 pixels written based on 10sfg735670.tif\n",
      "7 images of dim 300x300 pixels written based on 10sfg735685.tif\n",
      "3 images of dim 300x300 pixels written based on 10sfg750655.tif\n",
      "10 images of dim 300x300 pixels written based on 10sfg750670.tif\n",
      "60 images of dim 300x300 pixels written based on 10sfg750685.tif\n",
      "0 images of dim 300x300 pixels written based on 10sfg765655.tif\n",
      "18 images of dim 300x300 pixels written based on 10sfg765670.tif\n",
      "41 images of dim 300x300 pixels written based on 10sfg765685.tif\n",
      "1 images of dim 300x300 pixels written based on 10sfg780655.tif\n",
      "29 images of dim 300x300 pixels written based on 10sfg780670.tif\n",
      "40 images of dim 300x300 pixels written based on 10sfg780685.tif\n",
      "14 images of dim 300x300 pixels written based on 10sfg795655.tif\n",
      "35 images of dim 300x300 pixels written based on 10sfg795670.tif\n",
      "74 images of dim 300x300 pixels written based on 10sfg795685.tif\n",
      "0 images of dim 300x300 pixels written based on 10sfg810655.tif\n",
      "15 images of dim 300x300 pixels written based on 10sfg810670.tif\n",
      "156 images of dim 300x300 pixels written based on 10sfg810685.tif\n",
      "20 images of dim 300x300 pixels written based on 10sfg825655.tif\n",
      "10 images of dim 300x300 pixels written based on 10sfg825670.tif\n",
      "37 images of dim 300x300 pixels written based on 10sfg825685.tif\n",
      "\n",
      "582 images written in total\n"
     ]
    }
   ],
   "source": [
    "total=0\n",
    "\n",
    "for image in filenames:\n",
    "    \n",
    "    # Extract pixel coord list for corresponding polygon centroids\n",
    "    polygons = labels[labels['image_name'] == image[-15:-4]]\n",
    "    pixel_coord = [coord for coord in zip(list(polygons.centroid_longitude_pixels), list(polygons.centroid_latitude_pixels))]\n",
    "    counter = len(pixel_coord)\n",
    "\n",
    "    # Open the raster\n",
    "    with rio.open(image) as dataset:\n",
    "        # Loop through your list of coords\n",
    "        for i, (px, py) in enumerate(pixel_coord):\n",
    "\n",
    "            # Build the NxN window\n",
    "            window = rio.windows.Window(px - N//2, py - N//2, N, N)\n",
    "\n",
    "            # Clip the data in the window (clip is a nbands * N * N numpy array)\n",
    "            clip = dataset.read(window=window)\n",
    "\n",
    "            # Write out the new files\n",
    "            meta = dataset.meta\n",
    "            meta['width'], meta['height'] = N, N\n",
    "            meta['transform'] = rio.windows.transform(window, dataset.transform)\n",
    "\n",
    "            with rio.open(outfile.format(image[-15:-4], i), 'w', **meta) as dst:\n",
    "                dst.write(clip)\n",
    "\n",
    "    print('{} images of dim {}x{} pixels written based on {}'.format(counter, N, N, image[-15:]))\n",
    "    total += counter\n",
    "\n",
    "print('\\n{} images written in total'.format(total))"
   ]
  },
  {
   "cell_type": "code",
   "execution_count": 5,
   "metadata": {
    "scrolled": false
   },
   "outputs": [
    {
     "name": "stdout",
     "output_type": "stream",
     "text": [
      "EPSG:26910\n"
     ]
    },
    {
     "data": {
      "text/plain": [
       "<function DatasetReader.close>"
      ]
     },
     "execution_count": 5,
     "metadata": {},
     "output_type": "execute_result"
    }
   ],
   "source": [
    "# Check one of the images\n",
    "src=rio.open('../Data/Duke/Modesto_cropped/10sfg735670_2.tif')\n",
    "print(src.crs)\n",
    "src.close"
   ]
  },
  {
   "cell_type": "markdown",
   "metadata": {},
   "source": [
    "* Crop rasters with sliding window"
   ]
  },
  {
   "cell_type": "code",
   "execution_count": 97,
   "metadata": {},
   "outputs": [],
   "source": [
    "filenames = glob.glob('../Data/Duke/3385789_Modesto/*.tif') # list image names\n",
    "filenames.sort()\n",
    "outfile = '../Data/Duke/Modesto_cropped_2/{}_{}_{}.tif' # define the path for cropped images"
   ]
  },
  {
   "cell_type": "code",
   "execution_count": 98,
   "metadata": {},
   "outputs": [],
   "source": [
    "def get_tiles(ds, width=500, height=500):\n",
    "    ncols, nrows = ds.meta['width'], ds.meta['height']\n",
    "    offsets = product(range(0, ncols, width), range(0, nrows, height))\n",
    "    big_window = windows.Window(col_off=0, row_off=0, width=ncols, height=nrows)\n",
    "    for col_off, row_off in offsets:\n",
    "        window = windows.Window(col_off=col_off, row_off=row_off, width=width, height=height).intersection(big_window)\n",
    "        transform = windows.transform(window, ds.transform)\n",
    "        yield window, transform"
   ]
  },
  {
   "cell_type": "code",
   "execution_count": 101,
   "metadata": {},
   "outputs": [
    {
     "name": "stdout",
     "output_type": "stream",
     "text": [
      "\n",
      "1800 images written in total\n"
     ]
    }
   ],
   "source": [
    "counter=0\n",
    "\n",
    "for image in filenames:\n",
    "       \n",
    "    with rio.open(image) as inds:\n",
    "\n",
    "        meta = inds.meta.copy()\n",
    "        \n",
    "        for window, transform in get_tiles(inds):\n",
    "            meta['transform'] = transform\n",
    "            meta['width'], meta['height'] = window.width, window.height\n",
    "            outpath = outfile.format(image[-15:-4], int(window.col_off), int(window.row_off))\n",
    "            with rio.open(outpath, 'w', **meta) as outds:\n",
    "                outds.write(inds.read(window=window))\n",
    "            counter += 1\n",
    "\n",
    "print('\\n{} images written in total'.format(counter))"
   ]
  },
  {
   "cell_type": "markdown",
   "metadata": {},
   "source": [
    "#### Build corresponding masks"
   ]
  },
  {
   "cell_type": "markdown",
   "metadata": {},
   "source": [
    "There is a subtility in creating the masks.  There can be several polygons in the same image, and we have to make sure that after we crop the images, each small image can still have several polygon instances. But we only have the coordinates of each polygon in the pixel space of the large images (5000x5000), which obliges us to build the mask before cropping.\n",
    "\n",
    "Therefore we will:\n",
    "\n",
    "1. Iterate through polygons and can create 1 large mask per polygon  \n",
    "2. For each large image, stack its masks into an array of shape (5000, 5000, nb_instances_in_large_image)  \n",
    "3. Crop these arrays (through all instance layers) around the borders defined by each polygon centroid. We will therefore have as many mask arrays as small images, with each mask array of shape (300, 300, nb_instances_in_large_image)  \n",
    "4. Delete the empty mask layers, so that we finally get, for each small image, a mask array of shape (300, 300, nb_instances_in_small_image)"
   ]
  },
  {
   "cell_type": "markdown",
   "metadata": {},
   "source": [
    "* Several masks for 1 image + cropped masks"
   ]
  },
  {
   "cell_type": "markdown",
   "metadata": {},
   "source": [
    "In this section we (1) build several masks for each of the original images (1 mask per polygon), and (2) we crop these masks the same way as images."
   ]
  },
  {
   "cell_type": "code",
   "execution_count": 72,
   "metadata": {},
   "outputs": [],
   "source": [
    "total=0\n",
    "N = 300\n",
    "masks=[]\n",
    "cropped_masks=[]\n",
    "\n",
    "def create_masks(image_folder, image_len, labels_path, cropping_window, city):\n",
    "\n",
    "    # Load image names from image_folder and polygon coordinates from labels_path\n",
    "    filenames = glob.glob(os.path.join(image_folder, '*.tif'))\n",
    "    filenames.sort()\n",
    "    N = cropping_window # set the NxN window for cropping\n",
    "\n",
    "    labels = gpd.read_file(labels_path)\n",
    "    labels = labels[labels['city']==city]\n",
    "\n",
    "    for image in filenames:\n",
    "        print(image)\n",
    "        \n",
    "        # Extract pixel coordinates of polygons\n",
    "        polygons = labels[labels['image_name'] == image[-15:-4]]\n",
    "        polygons['pixel_polygons'] = polygons.polygon_vertices_pixels.apply(lambda x: literal_eval(x))\n",
    "        poly_coord = []\n",
    "        for sub_list in list(polygons.pixel_polygons):\n",
    "            new_sub_list = [item for tuples in sub_list for item in tuples]\n",
    "            poly_coord.append(new_sub_list)\n",
    "\n",
    "        # Extract pixel coordinates of centroids\n",
    "        centr_coord = [coord for coord in zip(list(polygons.centroid_longitude_pixels), list(polygons.centroid_latitude_pixels))]\n",
    "\n",
    "        # Create masks for the specific image\n",
    "        width = image_len\n",
    "        height = image_len\n",
    "        masks_image = []\n",
    "        for i in range(len(poly_coord)):\n",
    "            img = Image.new('L', (width, height), 0) # 'L' = 8-bit pixels, black and white\n",
    "            ImageDraw.Draw(img).polygon(poly_coord[i], outline=1, fill=1) # polygon = [(x1,y1),(x2,y2),...] or [x1,y1,x2,y2,...]\n",
    "            mask_i = np.array(img)\n",
    "            masks_image.append(mask_i)\n",
    "        masks_image = np.asarray(masks_image)\n",
    "\n",
    "        # Crop masks\n",
    "        cropped_masks_image = []\n",
    "        for i, (px, py) in enumerate(centr_coord):\n",
    "            cropped_mask_i = masks_image[:, round(py)-N//2:round(py)+N//2, round(px)-N//2:round(px)+N//2]\n",
    "            \n",
    "            cropped_masks_image.append(cropped_mask_i)\n",
    "        print(type(cropped_masks_image))\n",
    "        plt.imshow(cropped_masks_image[11])\n",
    "        \n",
    "        cropped_masks_image = np.asarray(cropped_masks_image, dtype=np.float32)\n",
    "        print(cropped_masks_image.shape)\n",
    "\n",
    "        # Delete empty masks\n",
    "        cropped_masks_image = np.compress((cropped_masks_image==0).sum(axis=(0,1)), cropped_masks_image, axis=2)\n",
    "        \n",
    "        # Counters\n",
    "        counter = len(poly_coord)\n",
    "        print('{} polygon masks created for {}'.format(counter, image[-15:]))\n",
    "        total += counter\n",
    "\n",
    "    print('\\n{} masks created in total'.format(total))"
   ]
  },
  {
   "cell_type": "code",
   "execution_count": null,
   "metadata": {},
   "outputs": [],
   "source": [
    "create_masks(image_folder = '../Data/Duke/3385789_Modesto/',\n",
    "             image_len = 5000,\n",
    "             labels_path = \"../Data/Duke/3385780_polygons/SolarArrayPolygons.geojson\", \n",
    "             cropping_window = 300, \n",
    "             city = 'Modesto')"
   ]
  },
  {
   "cell_type": "code",
   "execution_count": 27,
   "metadata": {},
   "outputs": [
    {
     "name": "stdout",
     "output_type": "stream",
     "text": [
      "20\n",
      "20\n"
     ]
    }
   ],
   "source": [
    "print(len(cropped_masks))\n",
    "print(len(masks))"
   ]
  },
  {
   "cell_type": "code",
   "execution_count": 28,
   "metadata": {},
   "outputs": [
    {
     "name": "stdout",
     "output_type": "stream",
     "text": [
      "(300, 300)\n",
      "(5000, 5000)\n"
     ]
    }
   ],
   "source": [
    "print(cropped_masks[0][2].shape)\n",
    "print(masks[0][2].shape)"
   ]
  },
  {
   "cell_type": "code",
   "execution_count": 29,
   "metadata": {
    "scrolled": true
   },
   "outputs": [
    {
     "data": {
      "image/png": "[encoded data removed]",
      "text/plain": [
       "<Figure size 432x288 with 1 Axes>"
      ]
     },
     "metadata": {
      "needs_background": "light"
     },
     "output_type": "display_data"
    }
   ],
   "source": [
    "plt.imshow(masks[0][2]);"
   ]
  },
  {
   "cell_type": "code",
   "execution_count": 30,
   "metadata": {
    "scrolled": true
   },
   "outputs": [
    {
     "data": {
      "image/png": "[encoded data removed]",
      "text/plain": [
       "<Figure size 432x288 with 1 Axes>"
      ]
     },
     "metadata": {
      "needs_background": "light"
     },
     "output_type": "display_data"
    }
   ],
   "source": [
    "plt.imshow(cropped_masks[0][2]);"
   ]
  },
  {
   "cell_type": "code",
   "execution_count": 32,
   "metadata": {},
   "outputs": [
    {
     "data": {
      "text/plain": [
       "(20,)"
      ]
     },
     "execution_count": 32,
     "metadata": {},
     "output_type": "execute_result"
    }
   ],
   "source": [
    "array = np.asarray(cropped_masks)\n",
    "array.shape"
   ]
  },
  {
   "cell_type": "markdown",
   "metadata": {},
   "source": [
    "* 1 mask for 1 image"
   ]
  },
  {
   "cell_type": "markdown",
   "metadata": {},
   "source": [
    "We can also build a unique mask (i.e. with multiple polygons) for each of the original images, by adding up (i.e. merging) the masks corresponding to each image."
   ]
  },
  {
   "cell_type": "code",
   "execution_count": 84,
   "metadata": {
    "scrolled": true
   },
   "outputs": [
    {
     "name": "stderr",
     "output_type": "stream",
     "text": [
      "/Users/Thomas/opt/anaconda3/envs/total/lib/python3.7/site-packages/ipykernel_launcher.py:6: SettingWithCopyWarning: \n",
      "A value is trying to be set on a copy of a slice from a DataFrame.\n",
      "Try using .loc[row_indexer,col_indexer] = value instead\n",
      "\n",
      "See the caveats in the documentation: https://pandas.pydata.org/pandas-docs/stable/user_guide/indexing.html#returning-a-view-versus-a-copy\n",
      "  \n",
      "Lossy conversion from float64 to uint8. Range [0, 1]. Convert image to uint8 prior to saving to suppress this warning.\n"
     ]
    },
    {
     "name": "stdout",
     "output_type": "stream",
     "text": [
      "12 polygons masked for 10sfg735670.tif\n"
     ]
    },
    {
     "name": "stderr",
     "output_type": "stream",
     "text": [
      "Lossy conversion from float64 to uint8. Range [0, 1]. Convert image to uint8 prior to saving to suppress this warning.\n"
     ]
    },
    {
     "name": "stdout",
     "output_type": "stream",
     "text": [
      "7 polygons masked for 10sfg735685.tif\n"
     ]
    },
    {
     "name": "stderr",
     "output_type": "stream",
     "text": [
      "Lossy conversion from float64 to uint8. Range [0, 1]. Convert image to uint8 prior to saving to suppress this warning.\n"
     ]
    },
    {
     "name": "stdout",
     "output_type": "stream",
     "text": [
      "3 polygons masked for 10sfg750655.tif\n"
     ]
    },
    {
     "name": "stderr",
     "output_type": "stream",
     "text": [
      "Lossy conversion from float64 to uint8. Range [0, 1]. Convert image to uint8 prior to saving to suppress this warning.\n"
     ]
    },
    {
     "name": "stdout",
     "output_type": "stream",
     "text": [
      "10 polygons masked for 10sfg750670.tif\n"
     ]
    },
    {
     "name": "stderr",
     "output_type": "stream",
     "text": [
      "Lossy conversion from float64 to uint8. Range [0, 1]. Convert image to uint8 prior to saving to suppress this warning.\n"
     ]
    },
    {
     "name": "stdout",
     "output_type": "stream",
     "text": [
      "60 polygons masked for 10sfg750685.tif\n"
     ]
    },
    {
     "name": "stderr",
     "output_type": "stream",
     "text": [
      "Lossy conversion from float64 to uint8. Range [0, 1]. Convert image to uint8 prior to saving to suppress this warning.\n"
     ]
    },
    {
     "name": "stdout",
     "output_type": "stream",
     "text": [
      "0 polygons masked for 10sfg765655.tif\n"
     ]
    },
    {
     "name": "stderr",
     "output_type": "stream",
     "text": [
      "Lossy conversion from float64 to uint8. Range [0, 1]. Convert image to uint8 prior to saving to suppress this warning.\n"
     ]
    },
    {
     "name": "stdout",
     "output_type": "stream",
     "text": [
      "18 polygons masked for 10sfg765670.tif\n"
     ]
    },
    {
     "name": "stderr",
     "output_type": "stream",
     "text": [
      "Lossy conversion from float64 to uint8. Range [0, 1]. Convert image to uint8 prior to saving to suppress this warning.\n"
     ]
    },
    {
     "name": "stdout",
     "output_type": "stream",
     "text": [
      "41 polygons masked for 10sfg765685.tif\n"
     ]
    },
    {
     "name": "stderr",
     "output_type": "stream",
     "text": [
      "Lossy conversion from float64 to uint8. Range [0, 1]. Convert image to uint8 prior to saving to suppress this warning.\n"
     ]
    },
    {
     "name": "stdout",
     "output_type": "stream",
     "text": [
      "1 polygons masked for 10sfg780655.tif\n"
     ]
    },
    {
     "name": "stderr",
     "output_type": "stream",
     "text": [
      "Lossy conversion from float64 to uint8. Range [0, 1]. Convert image to uint8 prior to saving to suppress this warning.\n"
     ]
    },
    {
     "name": "stdout",
     "output_type": "stream",
     "text": [
      "29 polygons masked for 10sfg780670.tif\n"
     ]
    },
    {
     "name": "stderr",
     "output_type": "stream",
     "text": [
      "Lossy conversion from float64 to uint8. Range [0, 1]. Convert image to uint8 prior to saving to suppress this warning.\n"
     ]
    },
    {
     "name": "stdout",
     "output_type": "stream",
     "text": [
      "40 polygons masked for 10sfg780685.tif\n"
     ]
    },
    {
     "name": "stderr",
     "output_type": "stream",
     "text": [
      "Lossy conversion from float64 to uint8. Range [0, 1]. Convert image to uint8 prior to saving to suppress this warning.\n"
     ]
    },
    {
     "name": "stdout",
     "output_type": "stream",
     "text": [
      "14 polygons masked for 10sfg795655.tif\n"
     ]
    },
    {
     "name": "stderr",
     "output_type": "stream",
     "text": [
      "Lossy conversion from float64 to uint8. Range [0, 1]. Convert image to uint8 prior to saving to suppress this warning.\n"
     ]
    },
    {
     "name": "stdout",
     "output_type": "stream",
     "text": [
      "35 polygons masked for 10sfg795670.tif\n"
     ]
    },
    {
     "name": "stderr",
     "output_type": "stream",
     "text": [
      "Lossy conversion from float64 to uint8. Range [0, 1]. Convert image to uint8 prior to saving to suppress this warning.\n"
     ]
    },
    {
     "name": "stdout",
     "output_type": "stream",
     "text": [
      "74 polygons masked for 10sfg795685.tif\n"
     ]
    },
    {
     "name": "stderr",
     "output_type": "stream",
     "text": [
      "Lossy conversion from float64 to uint8. Range [0, 1]. Convert image to uint8 prior to saving to suppress this warning.\n"
     ]
    },
    {
     "name": "stdout",
     "output_type": "stream",
     "text": [
      "0 polygons masked for 10sfg810655.tif\n"
     ]
    },
    {
     "name": "stderr",
     "output_type": "stream",
     "text": [
      "Lossy conversion from float64 to uint8. Range [0, 1]. Convert image to uint8 prior to saving to suppress this warning.\n"
     ]
    },
    {
     "name": "stdout",
     "output_type": "stream",
     "text": [
      "15 polygons masked for 10sfg810670.tif\n"
     ]
    },
    {
     "name": "stderr",
     "output_type": "stream",
     "text": [
      "Lossy conversion from float64 to uint8. Range [0, 1]. Convert image to uint8 prior to saving to suppress this warning.\n"
     ]
    },
    {
     "name": "stdout",
     "output_type": "stream",
     "text": [
      "156 polygons masked for 10sfg810685.tif\n"
     ]
    },
    {
     "name": "stderr",
     "output_type": "stream",
     "text": [
      "Lossy conversion from float64 to uint8. Range [0, 1]. Convert image to uint8 prior to saving to suppress this warning.\n"
     ]
    },
    {
     "name": "stdout",
     "output_type": "stream",
     "text": [
      "20 polygons masked for 10sfg825655.tif\n"
     ]
    },
    {
     "name": "stderr",
     "output_type": "stream",
     "text": [
      "Lossy conversion from float64 to uint8. Range [0, 1]. Convert image to uint8 prior to saving to suppress this warning.\n"
     ]
    },
    {
     "name": "stdout",
     "output_type": "stream",
     "text": [
      "10 polygons masked for 10sfg825670.tif\n"
     ]
    },
    {
     "name": "stderr",
     "output_type": "stream",
     "text": [
      "Lossy conversion from float64 to uint8. Range [0, 1]. Convert image to uint8 prior to saving to suppress this warning.\n"
     ]
    },
    {
     "name": "stdout",
     "output_type": "stream",
     "text": [
      "37 polygons masked for 10sfg825685.tif\n",
      "\n",
      "20 images masked in total\n"
     ]
    }
   ],
   "source": [
    "masks=[]\n",
    "for image in filenames:\n",
    "    \n",
    "    # Extract pixel coordinates of polygons\n",
    "    polygons = labels[labels['image_name'] == image[-15:-4]]\n",
    "    polygons['pixel_polygons'] = polygons.polygon_vertices_pixels.apply(lambda x: literal_eval(x))\n",
    "    \n",
    "    pixel_coord = []\n",
    "    for sub_list in list(polygons.pixel_polygons):\n",
    "        new_sub_list = [item for tuples in sub_list for item in tuples]\n",
    "        pixel_coord.append(new_sub_list)\n",
    "    \n",
    "    counter = len(pixel_coord)\n",
    "    \n",
    "    # Create mask\n",
    "    width=5000\n",
    "    height=5000\n",
    "    mask = np.zeros((5000,5000))\n",
    "    for i in range(len(pixel_coord)):\n",
    "            img = Image.new('L', (width, height), 0) # 'L' = 8-bit pixels, black and white\n",
    "            ImageDraw.Draw(img).polygon(pixel_coord[i], outline=1, fill=1) # polygon = [(x1,y1),(x2,y2),...] or [x1,y1,x2,y2,...]\n",
    "            mask_i = np.array(img)\n",
    "            mask += mask_i\n",
    "    \n",
    "    # Clip overlapping polygons to binary values\n",
    "    mask = np.clip(mask, 0, 1)\n",
    "    masks.append(mask)\n",
    "\n",
    "    # Write to disk\n",
    "    imageio.imwrite('../Data/Duke/Modesto_masks/{}_mask.png'.format(image[-15:-4]), mask)\n",
    "\n",
    "    print('{} polygons masked for {}'.format(counter, image[-15:]))\n",
    "\n",
    "print('\\n{} images masked in total'.format(len(masks)))"
   ]
  },
  {
   "cell_type": "code",
   "execution_count": 10,
   "metadata": {
    "scrolled": false
   },
   "outputs": [
    {
     "data": {
      "text/plain": [
       "(5000, 5000)"
      ]
     },
     "execution_count": 10,
     "metadata": {},
     "output_type": "execute_result"
    }
   ],
   "source": [
    "masks[0].shape"
   ]
  },
  {
   "cell_type": "code",
   "execution_count": 11,
   "metadata": {
    "scrolled": true
   },
   "outputs": [
    {
     "name": "stdout",
     "output_type": "stream",
     "text": [
      "1.0\n",
      "1.0\n",
      "1.0\n",
      "1.0\n"
     ]
    }
   ],
   "source": [
    "print(masks[1].max())\n",
    "print(masks[4].max())\n",
    "print(masks[13].max())\n",
    "print(masks[17].max())"
   ]
  },
  {
   "cell_type": "code",
   "execution_count": 12,
   "metadata": {
    "scrolled": true
   },
   "outputs": [
    {
     "data": {
      "text/plain": [
       "<matplotlib.image.AxesImage at 0x10cd1ae80>"
      ]
     },
     "execution_count": 12,
     "metadata": {},
     "output_type": "execute_result"
    },
    {
     "data": {
      "image/png": "[encoded data removed]",
      "text/plain": [
       "<Figure size 720x720 with 1 Axes>"
      ]
     },
     "metadata": {
      "needs_background": "light"
     },
     "output_type": "display_data"
    }
   ],
   "source": [
    "plt.figure(figsize=(10,10))\n",
    "plt.imshow(masks[17]);"
   ]
  },
  {
   "cell_type": "markdown",
   "metadata": {},
   "source": [
    "### Final workflow"
   ]
  },
  {
   "cell_type": "markdown",
   "metadata": {},
   "source": [
    "Below are the scripts to build our training dataset and masks with more efficient methods, in particular using the `image_slicer` library, built on `PIL`."
   ]
  },
  {
   "cell_type": "markdown",
   "metadata": {},
   "source": [
    "#### Modesto"
   ]
  },
  {
   "cell_type": "markdown",
   "metadata": {},
   "source": [
    "* Load labels for the city of Modesto"
   ]
  },
  {
   "cell_type": "code",
   "execution_count": 8,
   "metadata": {
    "scrolled": false
   },
   "outputs": [
    {
     "name": "stdout",
     "output_type": "stream",
     "text": [
      "There are 582 PV polygons for Modesto\n"
     ]
    },
    {
     "data": {
      "text/html": [
       "<div>\n",
       "<style scoped>\n",
       "    .dataframe tbody tr th:only-of-type {\n",
       "        vertical-align: middle;\n",
       "    }\n",
       "\n",
       "    .dataframe tbody tr th {\n",
       "        vertical-align: top;\n",
       "    }\n",
       "\n",
       "    .dataframe thead th {\n",
       "        text-align: right;\n",
       "    }\n",
       "</style>\n",
       "<table border=\"1\" class=\"dataframe\">\n",
       "  <thead>\n",
       "    <tr style=\"text-align: right;\">\n",
       "      <th></th>\n",
       "      <th>polygon_id</th>\n",
       "      <th>centroid_latitude</th>\n",
       "      <th>centroid_longitude</th>\n",
       "      <th>centroid_latitude_pixels</th>\n",
       "      <th>centroid_longitude_pixels</th>\n",
       "      <th>city</th>\n",
       "      <th>area_pixels</th>\n",
       "      <th>area_meters</th>\n",
       "      <th>image_name</th>\n",
       "      <th>nw_corner_of_image_latitude</th>\n",
       "      <th>nw_corner_of_image_longitude</th>\n",
       "      <th>se_corner_of_image_latitude</th>\n",
       "      <th>se_corner_of_image_longitude</th>\n",
       "      <th>datum</th>\n",
       "      <th>projection_zone</th>\n",
       "      <th>resolution</th>\n",
       "      <th>jaccard_index</th>\n",
       "      <th>polygon_vertices_pixels</th>\n",
       "      <th>geometry</th>\n",
       "    </tr>\n",
       "  </thead>\n",
       "  <tbody>\n",
       "    <tr>\n",
       "      <th>14710</th>\n",
       "      <td>14804</td>\n",
       "      <td>37.646419</td>\n",
       "      <td>-121.001768</td>\n",
       "      <td>120.907616</td>\n",
       "      <td>4292.078275</td>\n",
       "      <td>Modesto</td>\n",
       "      <td>30.191414</td>\n",
       "      <td>335.460156</td>\n",
       "      <td>10sfg750670</td>\n",
       "      <td>37.646992</td>\n",
       "      <td>-121.016347</td>\n",
       "      <td>37.633194</td>\n",
       "      <td>-120.999714</td>\n",
       "      <td>NAD83</td>\n",
       "      <td>10</td>\n",
       "      <td>0.3</td>\n",
       "      <td>0.903454</td>\n",
       "      <td>[ [ 4306.3662979999999, 119.6673471 ], [ 4307....</td>\n",
       "      <td>POLYGON ((-121.00172 37.64642, -121.00172 37.6...</td>\n",
       "    </tr>\n",
       "  </tbody>\n",
       "</table>\n",
       "</div>"
      ],
      "text/plain": [
       "       polygon_id  centroid_latitude  centroid_longitude  \\\n",
       "14710       14804          37.646419         -121.001768   \n",
       "\n",
       "       centroid_latitude_pixels  centroid_longitude_pixels     city  \\\n",
       "14710                120.907616                4292.078275  Modesto   \n",
       "\n",
       "       area_pixels  area_meters   image_name  nw_corner_of_image_latitude  \\\n",
       "14710    30.191414   335.460156  10sfg750670                    37.646992   \n",
       "\n",
       "       nw_corner_of_image_longitude  se_corner_of_image_latitude  \\\n",
       "14710                   -121.016347                    37.633194   \n",
       "\n",
       "       se_corner_of_image_longitude  datum projection_zone  resolution  \\\n",
       "14710                   -120.999714  NAD83              10         0.3   \n",
       "\n",
       "       jaccard_index                            polygon_vertices_pixels  \\\n",
       "14710       0.903454  [ [ 4306.3662979999999, 119.6673471 ], [ 4307....   \n",
       "\n",
       "                                                geometry  \n",
       "14710  POLYGON ((-121.00172 37.64642, -121.00172 37.6...  "
      ]
     },
     "execution_count": 8,
     "metadata": {},
     "output_type": "execute_result"
    }
   ],
   "source": [
    "labels = gpd.read_file(\"../Data/Duke/3385780_polygons/SolarArrayPolygons.geojson\")\n",
    "labels = labels[labels['city']=='Modesto']\n",
    "print('There are {} PV polygons for Modesto'.format(labels.shape[0]))\n",
    "labels.head(1)"
   ]
  },
  {
   "cell_type": "markdown",
   "metadata": {},
   "source": [
    "* Crop images"
   ]
  },
  {
   "cell_type": "code",
   "execution_count": 41,
   "metadata": {},
   "outputs": [],
   "source": [
    "filenames = glob.glob('../Data/Duke/3385789_Modesto/*.tif') # list image names\n",
    "filenames.sort()\n",
    "\n",
    "for image in filenames:\n",
    "    tiles = image_slicer.slice(image, 100, save=False)\n",
    "    image_slicer.save_tiles(tiles, directory='../Data/Duke/Modesto_cropped/',\n",
    "                            prefix=image[-15:-4], format='png')"
   ]
  },
  {
   "cell_type": "markdown",
   "metadata": {},
   "source": [
    "* Create masks (1 polygon per mask / based on original images)"
   ]
  },
  {
   "cell_type": "code",
   "execution_count": 44,
   "metadata": {},
   "outputs": [
    {
     "name": "stderr",
     "output_type": "stream",
     "text": [
      "/Users/Thomas/opt/anaconda3/envs/total/lib/python3.7/site-packages/ipykernel_launcher.py:7: SettingWithCopyWarning: \n",
      "A value is trying to be set on a copy of a slice from a DataFrame.\n",
      "Try using .loc[row_indexer,col_indexer] = value instead\n",
      "\n",
      "See the caveats in the documentation: https://pandas.pydata.org/pandas-docs/stable/user_guide/indexing.html#returning-a-view-versus-a-copy\n",
      "  import sys\n"
     ]
    },
    {
     "name": "stdout",
     "output_type": "stream",
     "text": [
      "1 polygon masks created for 10sfg780655.tif\n",
      "35 polygon masks created for 10sfg795670.tif\n",
      "10 polygon masks created for 10sfg750670.tif\n",
      "40 polygon masks created for 10sfg780685.tif\n",
      "15 polygon masks created for 10sfg810670.tif\n",
      "41 polygon masks created for 10sfg765685.tif\n",
      "37 polygon masks created for 10sfg825685.tif\n",
      "20 polygon masks created for 10sfg825655.tif\n",
      "12 polygon masks created for 10sfg735670.tif\n",
      "18 polygon masks created for 10sfg765670.tif\n",
      "10 polygon masks created for 10sfg825670.tif\n",
      "7 polygon masks created for 10sfg735685.tif\n",
      "3 polygon masks created for 10sfg750655.tif\n",
      "14 polygon masks created for 10sfg795655.tif\n",
      "60 polygon masks created for 10sfg750685.tif\n",
      "156 polygon masks created for 10sfg810685.tif\n",
      "29 polygon masks created for 10sfg780670.tif\n",
      "74 polygon masks created for 10sfg795685.tif\n",
      "\n",
      "582 masks written in total\n"
     ]
    }
   ],
   "source": [
    "filenames = os.listdir(path)\n",
    "nb_images = len(filenames)\n",
    "\n",
    "for index, image in enumerate(filenames):\n",
    "    \n",
    "    # Extract pixel coordinates of polygons\n",
    "    polygons = labels[labels['image_name'] == image[:-4]]\n",
    "    polygons['pixel_polygons'] = polygons.polygon_vertices_pixels.apply(lambda x: literal_eval(x))\n",
    "    \n",
    "    pixel_coord = []\n",
    "    for sub_list in list(polygons.pixel_polygons):\n",
    "        new_sub_list = [item for tuples in sub_list for item in tuples]\n",
    "        pixel_coord.append(new_sub_list)\n",
    "    \n",
    "    counter = len(pixel_coord)\n",
    "    \n",
    "    # Create mask\n",
    "    width=5000\n",
    "    height=5000\n",
    "    for i in range(len(pixel_coord)):\n",
    "        img = Image.new('L', (width, height), 0) # 'L' = 8-bit pixels, black and white\n",
    "        ImageDraw.Draw(img).polygon(pixel_coord[i], outline=1, fill=1) # polygon = [(x1,y1),(x2,y2),...] or [x1,y1,x2,y2,...]\n",
    "        mask_i = np.array(img)\n",
    "        mask = np.zeros((5000,5000))\n",
    "        mask += mask_i\n",
    "        mask = img_as_ubyte(mask)\n",
    "\n",
    "        # Write to disk\n",
    "        imageio.imwrite('../Data/Duke/Modesto_masks/{}_{}.png'.format(i, image[:-4]), mask)    \n",
    "\n",
    "    # Clip overlapping polygons to binary values\n",
    "    #mask = np.clip(mask, 0, 1)\n",
    "    #masks.append(mask)\n",
    "\n",
    "    print('{}/{} - {} polygon masks created for {}'.format(index, nb_images, counter, image))\n",
    "    total += counter\n",
    "\n",
    "print('\\n{} masks written in total'.format(total))"
   ]
  },
  {
   "cell_type": "markdown",
   "metadata": {},
   "source": [
    "Here, we used `PIL` (`Image` and `ImageDraw` modules) and `imageio` (`imwrite` function) to create the masks. We could also use `skimage`, with the method: `skimage.draw.polygon2mask(image_shape, polygon)` (see more [here](https://scikit-image.org/docs/dev/api/skimage.draw.html#skimage.draw.polygon2mask))."
   ]
  },
  {
   "cell_type": "markdown",
   "metadata": {},
   "source": [
    "* Crop masks through all polygon mask layers and save only non-empty masks"
   ]
  },
  {
   "cell_type": "code",
   "execution_count": 74,
   "metadata": {},
   "outputs": [
    {
     "name": "stdout",
     "output_type": "stream",
     "text": [
      "621 cropped masks saved in total.\n"
     ]
    }
   ],
   "source": [
    "path = '../Data/Duke/Modesto_masks/'\n",
    "counter=0\n",
    "for image in os.listdir(path):\n",
    "    tiles = image_slicer.slice(path+image, 100, save=False)\n",
    "    tiles2=np.asarray(tiles)\n",
    "    for i in range(len(tiles2)):\n",
    "        if np.asarray(tiles2[i].image).max() != 0:\n",
    "            image_slicer.save_tiles(tiles[i:i+1], directory='../Githubs/Mask_RCNN/datasets/solar/Modesto/Modesto_cropped_masks/',\n",
    "                                    prefix=image[:-4], format='png')\n",
    "            counter += 1\n",
    "print(counter,'cropped masks saved in total.')"
   ]
  },
  {
   "cell_type": "code",
   "execution_count": 220,
   "metadata": {},
   "outputs": [],
   "source": [
    "# other method: write all masks, then fill in a list of images to delete\n",
    "\n",
    "path = '../Data/Duke/Modesto_masks_cropped_2/'\n",
    "to_delete = []\n",
    "for image in os.listdir(path):\n",
    "    input_path = os.path.join(path, image)\n",
    "    if io.imread(input_path).max() == 0 : to_delete.append(image)\n",
    "        \n",
    "print(len(to_delete))\n",
    "\n",
    "os.chdir(path)\n",
    "for f in to_delete:\n",
    "    if os.path.isfile(f): os.remove(f)"
   ]
  },
  {
   "cell_type": "markdown",
   "metadata": {},
   "source": [
    "* Compare with image chunks and delete images without solar arrays"
   ]
  },
  {
   "cell_type": "code",
   "execution_count": 40,
   "metadata": {},
   "outputs": [
    {
     "name": "stdout",
     "output_type": "stream",
     "text": [
      "219\n"
     ]
    },
    {
     "data": {
      "text/plain": [
       "['10sfg810685_01_02',\n",
       " '10sfg810685_03_08',\n",
       " '10sfg810685_04_02',\n",
       " '10sfg810685_02_02',\n",
       " '10sfg780685_05_08',\n",
       " '10sfg765685_05_02',\n",
       " '10sfg750685_03_05',\n",
       " '10sfg765685_03_02',\n",
       " '10sfg750685_04_04',\n",
       " '10sfg735685_03_01',\n",
       " '10sfg780685_10_05',\n",
       " '10sfg795685_02_01',\n",
       " '10sfg795685_03_01',\n",
       " '10sfg795655_09_01',\n",
       " '10sfg795655_01_07',\n",
       " '10sfg795670_09_01',\n",
       " '10sfg750685_09_01',\n",
       " '10sfg825655_01_07',\n",
       " '10sfg810685_09_10',\n",
       " '10sfg810685_04_04',\n",
       " '10sfg810685_04_09',\n",
       " '10sfg795670_08_01',\n",
       " '10sfg780685_01_02',\n",
       " '10sfg810685_04_07',\n",
       " '10sfg810685_02_01',\n",
       " '10sfg780685_03_09',\n",
       " '10sfg810685_03_07',\n",
       " '10sfg810685_03_10',\n",
       " '10sfg750685_04_05',\n",
       " '10sfg780685_08_02',\n",
       " '10sfg765670_01_04',\n",
       " '10sfg780685_10_09',\n",
       " '10sfg795685_04_10',\n",
       " '10sfg810670_01_10',\n",
       " '10sfg810685_01_10',\n",
       " '10sfg750685_02_07',\n",
       " '10sfg810685_04_06',\n",
       " '10sfg810685_04_10',\n",
       " '10sfg825655_01_08',\n",
       " '10sfg825685_01_09',\n",
       " '10sfg825685_05_01',\n",
       " '10sfg795685_03_07',\n",
       " '10sfg810670_05_09',\n",
       " '10sfg810670_02_02',\n",
       " '10sfg795685_03_02',\n",
       " '10sfg780670_04_08',\n",
       " '10sfg795685_08_03',\n",
       " '10sfg810685_04_03',\n",
       " '10sfg750685_03_07',\n",
       " '10sfg810685_02_08',\n",
       " '10sfg750685_03_09',\n",
       " '10sfg780685_02_08',\n",
       " '10sfg810685_01_03',\n",
       " '10sfg810685_03_01',\n",
       " '10sfg750685_05_09',\n",
       " '10sfg795685_03_09',\n",
       " '10sfg825670_04_05',\n",
       " '10sfg780670_09_10',\n",
       " '10sfg765685_01_09',\n",
       " '10sfg810685_03_04',\n",
       " '10sfg825685_04_01',\n",
       " '10sfg750685_01_04',\n",
       " '10sfg810685_05_01',\n",
       " '10sfg825685_01_03',\n",
       " '10sfg825685_07_06',\n",
       " '10sfg810685_02_03',\n",
       " '10sfg810685_01_05',\n",
       " '10sfg750685_06_09',\n",
       " '10sfg750670_05_04',\n",
       " '10sfg765685_10_03',\n",
       " '10sfg735670_02_06',\n",
       " '10sfg750685_01_09',\n",
       " '10sfg825685_09_03',\n",
       " '10sfg750685_08_01',\n",
       " '10sfg765685_02_02',\n",
       " '10sfg780685_03_08',\n",
       " '10sfg795685_05_08',\n",
       " '10sfg750685_10_05',\n",
       " '10sfg765685_10_02',\n",
       " '10sfg810685_04_01',\n",
       " '10sfg765685_02_01',\n",
       " '10sfg825685_03_01',\n",
       " '10sfg750685_02_10',\n",
       " '10sfg765685_08_02',\n",
       " '10sfg735670_05_05',\n",
       " '10sfg795685_04_09',\n",
       " '10sfg780670_02_04',\n",
       " '10sfg810670_01_07',\n",
       " '10sfg780685_07_02',\n",
       " '10sfg750685_03_08',\n",
       " '10sfg750685_05_05',\n",
       " '10sfg810685_03_05',\n",
       " '10sfg765685_03_01',\n",
       " '10sfg825670_02_06',\n",
       " '10sfg825670_01_05',\n",
       " '10sfg795685_05_09',\n",
       " '10sfg795685_05_10',\n",
       " '10sfg735685_01_07',\n",
       " '10sfg780655_06_02',\n",
       " '10sfg750685_04_07',\n",
       " '10sfg750685_05_06',\n",
       " '10sfg780670_02_02',\n",
       " '10sfg810670_05_06',\n",
       " '10sfg825685_01_02',\n",
       " '10sfg795670_03_05',\n",
       " '10sfg735670_06_04',\n",
       " '10sfg750655_04_04',\n",
       " '10sfg765685_09_02',\n",
       " '10sfg780685_01_01',\n",
       " '10sfg780685_03_10',\n",
       " '10sfg750685_10_02',\n",
       " '10sfg750670_03_09',\n",
       " '10sfg780670_01_09',\n",
       " '10sfg795685_04_03',\n",
       " '10sfg765685_05_04',\n",
       " '10sfg765685_04_05',\n",
       " '10sfg810685_02_07',\n",
       " '10sfg780685_05_10',\n",
       " '10sfg780670_03_07',\n",
       " '10sfg750670_09_04',\n",
       " '10sfg810670_01_09',\n",
       " '10sfg750670_08_05',\n",
       " '10sfg795685_08_05',\n",
       " '10sfg795685_04_08',\n",
       " '10sfg765670_02_05',\n",
       " '10sfg750685_10_01',\n",
       " '10sfg765670_02_04',\n",
       " '10sfg810685_10_09',\n",
       " '10sfg810670_07_06',\n",
       " '10sfg810685_05_09',\n",
       " '10sfg765685_09_08',\n",
       " '10sfg795670_09_07',\n",
       " '10sfg750685_02_09',\n",
       " '10sfg750685_04_10',\n",
       " '10sfg750685_03_10',\n",
       " '10sfg780685_10_06',\n",
       " '10sfg825670_01_01',\n",
       " '10sfg795685_02_02',\n",
       " '10sfg810685_04_08',\n",
       " '10sfg795685_10_09',\n",
       " '10sfg825685_01_04',\n",
       " '10sfg780670_10_04',\n",
       " '10sfg780670_02_10',\n",
       " '10sfg810670_07_07',\n",
       " '10sfg765670_01_03',\n",
       " '10sfg795685_08_08',\n",
       " '10sfg750685_03_04',\n",
       " '10sfg750685_03_03',\n",
       " '10sfg795685_04_04',\n",
       " '10sfg810670_03_05',\n",
       " '10sfg735685_03_02',\n",
       " '10sfg795685_02_06',\n",
       " '10sfg735670_06_05',\n",
       " '10sfg795655_10_05',\n",
       " '10sfg765685_01_06',\n",
       " '10sfg810685_06_03',\n",
       " '10sfg810685_09_04',\n",
       " '10sfg810685_01_04',\n",
       " '10sfg825685_06_05',\n",
       " '10sfg810685_05_10',\n",
       " '10sfg780685_05_01',\n",
       " '10sfg780670_04_04',\n",
       " '10sfg735670_05_08',\n",
       " '10sfg780685_07_05',\n",
       " '10sfg810685_02_10',\n",
       " '10sfg780685_06_10',\n",
       " '10sfg825685_08_02',\n",
       " '10sfg795685_05_01',\n",
       " '10sfg810670_03_06',\n",
       " '10sfg765670_06_01',\n",
       " '10sfg735685_02_01',\n",
       " '10sfg825685_01_01',\n",
       " '10sfg765685_01_02',\n",
       " '10sfg825685_06_06',\n",
       " '10sfg810685_09_09',\n",
       " '10sfg765670_09_03',\n",
       " '10sfg780670_10_03',\n",
       " '10sfg825670_01_03',\n",
       " '10sfg795685_08_02',\n",
       " '10sfg735685_01_10',\n",
       " '10sfg795685_04_02',\n",
       " '10sfg795685_06_03',\n",
       " '10sfg750655_08_08',\n",
       " '10sfg735670_02_05',\n",
       " '10sfg810685_08_10',\n",
       " '10sfg825685_07_02',\n",
       " '10sfg795685_09_02',\n",
       " '10sfg765685_04_03',\n",
       " '10sfg750685_09_02',\n",
       " '10sfg795670_09_06',\n",
       " '10sfg780685_03_03',\n",
       " '10sfg825685_07_01',\n",
       " '10sfg795685_09_01',\n",
       " '10sfg825685_07_03',\n",
       " '10sfg765685_04_01',\n",
       " '10sfg810685_03_03',\n",
       " '10sfg735670_08_10',\n",
       " '10sfg780670_03_05',\n",
       " '10sfg810685_02_05',\n",
       " '10sfg825685_09_02',\n",
       " '10sfg765685_09_09',\n",
       " '10sfg750670_01_09',\n",
       " '10sfg810670_04_08',\n",
       " '10sfg780685_01_07',\n",
       " '10sfg765685_03_04',\n",
       " '10sfg825685_01_07',\n",
       " '10sfg825670_04_01',\n",
       " '10sfg810670_02_04',\n",
       " '10sfg825685_06_04',\n",
       " '10sfg795670_04_09',\n",
       " '10sfg795685_08_07',\n",
       " '10sfg780670_01_02',\n",
       " '10sfg735670_04_01',\n",
       " '10sfg810685_09_05',\n",
       " '10sfg780670_09_04',\n",
       " '10sfg810685_05_03',\n",
       " '10sfg765670_10_09',\n",
       " '10sfg810670_03_03',\n",
       " '10sfg750670_04_09']"
      ]
     },
     "execution_count": 40,
     "metadata": {},
     "output_type": "execute_result"
    }
   ],
   "source": [
    "path='../Githubs/Mask_RCNN/datasets/solar/Modesto/Modesto_cropped_masks/'\n",
    "to_keep = os.listdir(path)\n",
    "to_keep = [x[:-4] for x in to_keep]\n",
    "to_keep = [x[:16] for x in to_keep]\n",
    "to_keep = list(dict.fromkeys(to_keep)) # Creating a dictionary will automatically delete duplicates!\n",
    "print(len(to_keep))\n",
    "to_keep"
   ]
  },
  {
   "cell_type": "code",
   "execution_count": 42,
   "metadata": {},
   "outputs": [],
   "source": [
    "path='../Data/Duke/Modesto_cropped/'\n",
    "for filename in os.listdir(path):\n",
    "    if filename[:-4] not in to_keep: os.remove(path+filename)"
   ]
  },
  {
   "cell_type": "markdown",
   "metadata": {},
   "source": [
    "* Rename cropped masks properly"
   ]
  },
  {
   "cell_type": "code",
   "execution_count": 76,
   "metadata": {
    "scrolled": true
   },
   "outputs": [
    {
     "name": "stdout",
     "output_type": "stream",
     "text": [
      "622 masks succesfully renamed.\n"
     ]
    }
   ],
   "source": [
    "path='../Githubs/Mask_RCNN/datasets/solar/Modesto/Modesto_cropped_masks/'\n",
    "\n",
    "for counter, filename in enumerate(os.listdir(path)): \n",
    "    if len(filename) == 23:\n",
    "        new_name = filename[2:-4] + '_' + filename[0] + filename[-4:]\n",
    "    elif len(filename) == 24:\n",
    "        new_name = filename[3:-4] + '_' + filename[0:2] + filename[-4:]\n",
    "    elif len(filename) == 25:\n",
    "        new_name = filename[4:-4] + '_' + filename[0:3] + filename[-4:]\n",
    "    else:\n",
    "        new_name = filename[5:-4] + '_' + filename[0:4] + filename[-4:]\n",
    "\n",
    "    os.rename(os.path.join(path, filename), os.path.join(path, new_name))\n",
    "\n",
    "print(counter, 'masks succesfully renamed.')"
   ]
  },
  {
   "cell_type": "markdown",
   "metadata": {},
   "source": [
    "* Train/test split"
   ]
  },
  {
   "cell_type": "markdown",
   "metadata": {},
   "source": [
    "For the first training, using only Modesto images, I organized my dataset folder as follows:\n",
    "* train: 175 images (Modesto)\n",
    "* val: 44 images (20%)\n",
    "* masks: the masks corresponding to each image"
   ]
  },
  {
   "cell_type": "markdown",
   "metadata": {},
   "source": [
    "Here is the code I used to pick 44 random images for validation. When using the `train_test_split` argument in the `load_solar` function, split becomes automatic."
   ]
  },
  {
   "cell_type": "code",
   "execution_count": 36,
   "metadata": {
    "scrolled": true
   },
   "outputs": [
    {
     "data": {
      "text/plain": [
       "['10sfg810670_02_04.png',\n",
       " '10sfg795685_09_02.png',\n",
       " '10sfg810670_02_02.png',\n",
       " '10sfg795670_09_06.png',\n",
       " '10sfg750685_05_06.png',\n",
       " '10sfg825685_07_03.png',\n",
       " '10sfg825670_04_05.png',\n",
       " '10sfg780685_02_08.png',\n",
       " '10sfg780685_03_10.png',\n",
       " '10sfg765685_02_02.png',\n",
       " '10sfg750685_04_04.png',\n",
       " '10sfg795685_09_01.png',\n",
       " '10sfg750670_05_04.png',\n",
       " '10sfg810670_07_06.png',\n",
       " '10sfg750685_03_04.png',\n",
       " '10sfg780685_01_02.png',\n",
       " '10sfg750655_04_04.png',\n",
       " '10sfg795685_04_10.png',\n",
       " '10sfg750685_01_09.png',\n",
       " '10sfg825685_04_01.png',\n",
       " '10sfg780670_03_07.png',\n",
       " '10sfg765685_03_04.png',\n",
       " '10sfg735670_02_06.png',\n",
       " '10sfg780670_01_02.png',\n",
       " '10sfg765670_06_01.png',\n",
       " '10sfg795685_08_07.png',\n",
       " '10sfg810685_04_04.png',\n",
       " '10sfg780685_05_08.png',\n",
       " '10sfg780685_01_01.png',\n",
       " '10sfg810685_04_02.png',\n",
       " '10sfg795655_10_05.png',\n",
       " '10sfg750670_08_05.png',\n",
       " '10sfg750685_03_09.png',\n",
       " '10sfg795685_02_06.png',\n",
       " '10sfg735670_05_05.png',\n",
       " '10sfg765670_10_09.png',\n",
       " '10sfg780685_03_03.png',\n",
       " '10sfg750685_02_09.png',\n",
       " '10sfg750685_03_07.png',\n",
       " '10sfg795685_04_09.png',\n",
       " '10sfg810685_06_03.png',\n",
       " '10sfg810670_07_07.png',\n",
       " '10sfg810685_05_10.png',\n",
       " '10sfg795685_04_08.png']"
      ]
     },
     "execution_count": 36,
     "metadata": {},
     "output_type": "execute_result"
    }
   ],
   "source": [
    "image_dir = '/Users/Thomas/Documents/Data Science X/Stage/Total/Solar Panels/Githubs/Mask_RCNN/datasets/solar/Modesto/Modesto_cropped/'\n",
    "image_ids = os.listdir(image_dir)\n",
    "val_ids = random.sample(image_ids, 44)\n",
    "val_ids"
   ]
  },
  {
   "cell_type": "code",
   "execution_count": 37,
   "metadata": {},
   "outputs": [],
   "source": [
    "val_dir = '/Users/Thomas/Documents/Data Science X/Stage/Total/Solar Panels/Githubs/Mask_RCNN/datasets/solar/val/'\n",
    "for file in val_ids:\n",
    "    shutil.move(image_dir + file, val_dir)"
   ]
  },
  {
   "cell_type": "markdown",
   "metadata": {},
   "source": [
    "#### Stockton"
   ]
  },
  {
   "cell_type": "markdown",
   "metadata": {},
   "source": [
    "* Load labels for the city of Stockton"
   ]
  },
  {
   "cell_type": "code",
   "execution_count": 5,
   "metadata": {
    "scrolled": false
   },
   "outputs": [
    {
     "name": "stdout",
     "output_type": "stream",
     "text": [
      "There are 2546 PV polygons for Stockton\n"
     ]
    },
    {
     "data": {
      "text/html": [
       "<div>\n",
       "<style scoped>\n",
       "    .dataframe tbody tr th:only-of-type {\n",
       "        vertical-align: middle;\n",
       "    }\n",
       "\n",
       "    .dataframe tbody tr th {\n",
       "        vertical-align: top;\n",
       "    }\n",
       "\n",
       "    .dataframe thead th {\n",
       "        text-align: right;\n",
       "    }\n",
       "</style>\n",
       "<table border=\"1\" class=\"dataframe\">\n",
       "  <thead>\n",
       "    <tr style=\"text-align: right;\">\n",
       "      <th></th>\n",
       "      <th>polygon_id</th>\n",
       "      <th>centroid_latitude</th>\n",
       "      <th>centroid_longitude</th>\n",
       "      <th>centroid_latitude_pixels</th>\n",
       "      <th>centroid_longitude_pixels</th>\n",
       "      <th>city</th>\n",
       "      <th>area_pixels</th>\n",
       "      <th>area_meters</th>\n",
       "      <th>image_name</th>\n",
       "      <th>nw_corner_of_image_latitude</th>\n",
       "      <th>nw_corner_of_image_longitude</th>\n",
       "      <th>se_corner_of_image_latitude</th>\n",
       "      <th>se_corner_of_image_longitude</th>\n",
       "      <th>datum</th>\n",
       "      <th>projection_zone</th>\n",
       "      <th>resolution</th>\n",
       "      <th>jaccard_index</th>\n",
       "      <th>polygon_vertices_pixels</th>\n",
       "      <th>geometry</th>\n",
       "    </tr>\n",
       "  </thead>\n",
       "  <tbody>\n",
       "    <tr>\n",
       "      <th>16887</th>\n",
       "      <td>17182</td>\n",
       "      <td>38.061624</td>\n",
       "      <td>-121.257564</td>\n",
       "      <td>3047.873352</td>\n",
       "      <td>1196.21836</td>\n",
       "      <td>Stockton</td>\n",
       "      <td>26.385566</td>\n",
       "      <td>293.172955</td>\n",
       "      <td>10sfh525135</td>\n",
       "      <td>38.069922</td>\n",
       "      <td>-121.261458</td>\n",
       "      <td>38.056156</td>\n",
       "      <td>-121.244686</td>\n",
       "      <td>NAD83</td>\n",
       "      <td>10</td>\n",
       "      <td>0.3</td>\n",
       "      <td>0.885137</td>\n",
       "      <td>[ [ 1202.963254, 3060.528523 ], [ 1203.776805,...</td>\n",
       "      <td>POLYGON ((-121.25754 38.06159, -121.25754 38.0...</td>\n",
       "    </tr>\n",
       "  </tbody>\n",
       "</table>\n",
       "</div>"
      ],
      "text/plain": [
       "       polygon_id  centroid_latitude  centroid_longitude  \\\n",
       "16887       17182          38.061624         -121.257564   \n",
       "\n",
       "       centroid_latitude_pixels  centroid_longitude_pixels      city  \\\n",
       "16887               3047.873352                 1196.21836  Stockton   \n",
       "\n",
       "       area_pixels  area_meters   image_name  nw_corner_of_image_latitude  \\\n",
       "16887    26.385566   293.172955  10sfh525135                    38.069922   \n",
       "\n",
       "       nw_corner_of_image_longitude  se_corner_of_image_latitude  \\\n",
       "16887                   -121.261458                    38.056156   \n",
       "\n",
       "       se_corner_of_image_longitude  datum projection_zone  resolution  \\\n",
       "16887                   -121.244686  NAD83              10         0.3   \n",
       "\n",
       "       jaccard_index                            polygon_vertices_pixels  \\\n",
       "16887       0.885137  [ [ 1202.963254, 3060.528523 ], [ 1203.776805,...   \n",
       "\n",
       "                                                geometry  \n",
       "16887  POLYGON ((-121.25754 38.06159, -121.25754 38.0...  "
      ]
     },
     "execution_count": 5,
     "metadata": {},
     "output_type": "execute_result"
    }
   ],
   "source": [
    "labels = gpd.read_file(\"../Data/Duke/3385780_polygons/SolarArrayPolygons.geojson\")\n",
    "labels = labels[labels['city']=='Stockton']\n",
    "print('There are {} PV polygons for Stockton'.format(labels.shape[0]))\n",
    "labels.head(1)"
   ]
  },
  {
   "cell_type": "code",
   "execution_count": 39,
   "metadata": {},
   "outputs": [],
   "source": [
    "# Write geojson for Stockton labels\n",
    "labels.to_file(\"../Githubs/Mask_RCNN/datasets/solar/polygons/Stockton_polygons.geojson\", driver=\"GeoJSON\")"
   ]
  },
  {
   "cell_type": "markdown",
   "metadata": {},
   "source": [
    "* Crop images"
   ]
  },
  {
   "cell_type": "code",
   "execution_count": 4,
   "metadata": {},
   "outputs": [
    {
     "data": {
      "text/plain": [
       "'10sfg465970'"
      ]
     },
     "execution_count": 4,
     "metadata": {},
     "output_type": "execute_result"
    }
   ],
   "source": [
    "filenames = glob.glob('../Githubs/Mask_RCNN/datasets/other solar/Stockton/Stockton_images/*.tif') # list image names\n",
    "filenames.sort()\n",
    "filenames[0][-15:-4]"
   ]
  },
  {
   "cell_type": "code",
   "execution_count": 6,
   "metadata": {},
   "outputs": [],
   "source": [
    "for image in filenames:\n",
    "    tiles = image_slicer.slice(image, 100, save=False)\n",
    "    image_slicer.save_tiles(tiles, directory='../Githubs/Mask_RCNN/datasets/other solar/Stockton/Stockton_cropped_images/',\n",
    "                            prefix=image[-15:-4], format='png')"
   ]
  },
  {
   "cell_type": "markdown",
   "metadata": {},
   "source": [
    "* Create masks (1 polygon per mask / based on original images)"
   ]
  },
  {
   "cell_type": "code",
   "execution_count": 7,
   "metadata": {
    "scrolled": true
   },
   "outputs": [
    {
     "name": "stderr",
     "output_type": "stream",
     "text": [
      "/Users/Thomas/opt/anaconda3/envs/total/lib/python3.7/site-packages/ipykernel_launcher.py:7: SettingWithCopyWarning: \n",
      "A value is trying to be set on a copy of a slice from a DataFrame.\n",
      "Try using .loc[row_indexer,col_indexer] = value instead\n",
      "\n",
      "See the caveats in the documentation: https://pandas.pydata.org/pandas-docs/stable/user_guide/indexing.html#returning-a-view-versus-a-copy\n",
      "  import sys\n"
     ]
    },
    {
     "name": "stdout",
     "output_type": "stream",
     "text": [
      "7 polygon masks created for 10sfg540970.tif\n",
      "66 polygon masks created for 10sfh450060.tif\n",
      "49 polygon masks created for 10sfh465030.tif\n",
      "9 polygon masks created for 10sfh510120.tif\n",
      "0 polygon masks created for 10sfg510955.tif\n",
      "13 polygon masks created for 10sfh510135.tif\n",
      "91 polygon masks created for 10sfh450075.tif\n",
      "25 polygon masks created for 10sfh495075.tif\n",
      "0 polygon masks created for 10sfh480120.tif\n",
      "32 polygon masks created for 10sfg480955.tif\n",
      "5 polygon masks created for 10sfg555985.tif\n",
      "46 polygon masks created for 10sfh495060.tif\n",
      "22 polygon masks created for 10sfh480045.tif\n",
      "0 polygon masks created for .DS_Store\n",
      "4 polygon masks created for 10sfg510985.tif\n",
      "4 polygon masks created for 10sfg495970.tif\n",
      "7 polygon masks created for 10sfh495105.tif\n",
      "42 polygon masks created for 10sfh510090.tif\n",
      "8 polygon masks created for 10sfh510045.tif\n",
      "3 polygon masks created for 10sfh525015.tif\n",
      "111 polygon masks created for 10sfh450105.tif\n",
      "12 polygon masks created for 10sfh540060.tif\n",
      "13 polygon masks created for 10sfh540075.tif\n",
      "14 polygon masks created for 10sfh480090.tif\n",
      "8 polygon masks created for 10sfg555955.tif\n",
      "18 polygon masks created for 10sfg480985.tif\n",
      "11 polygon masks created for 10sfh525000.tif\n",
      "11 polygon masks created for 10sfh495015.tif\n",
      "6 polygon masks created for 10sfg465985.tif\n",
      "69 polygon masks created for 10sfh465090.tif\n",
      "4 polygon masks created for 10sfh495000.tif\n",
      "21 polygon masks created for 10sfh420120.tif\n",
      "59 polygon masks created for 10sfh435075.tif\n",
      "1 polygon masks created for 10sfh450000.tif\n",
      "78 polygon masks created for 10sfh525105.tif\n",
      "3 polygon masks created for 10sfg525970.tif\n",
      "16 polygon masks created for 10sfh465045.tif\n",
      "28 polygon masks created for 10sfh450015.tif\n",
      "131 polygon masks created for 10sfh435060.tif\n",
      "3 polygon masks created for 10sfh525075.tif\n",
      "12 polygon masks created for 10sfh540000.tif\n",
      "10 polygon masks created for 10sfh540015.tif\n",
      "95 polygon masks created for 10sfh435105.tif\n",
      "101 polygon masks created for 10sfh465120.tif\n",
      "3 polygon masks created for 10sfh525060.tif\n",
      "6 polygon masks created for 10sfh510030.tif\n",
      "0 polygon masks created for 10sfh420090.tif\n",
      "30 polygon masks created for 10sfh480030.tif\n",
      "2 polygon masks created for 10sfh480015.tif\n",
      "3 polygon masks created for 10sfg525985.tif\n",
      "0 polygon masks created for 10sfh480000.tif\n",
      "48 polygon masks created for 10sfh525090.tif\n",
      "15 polygon masks created for 10sfh510015.tif\n",
      "7 polygon masks created for 10sfh525045.tif\n",
      "27 polygon masks created for 10sfg465970.tif\n",
      "50 polygon masks created for 10sfh465105.tif\n",
      "96 polygon masks created for 10sfh435120.tif\n",
      "6 polygon masks created for 10sfh540030.tif\n",
      "42 polygon masks created for 10sfh420075.tif\n",
      "1 polygon masks created for 10sfh510000.tif\n",
      "12 polygon masks created for 10sfh555000.tif\n",
      "64 polygon masks created for 10sfh435045.tif\n",
      "26 polygon masks created for 10sfh450030.tif\n",
      "41 polygon masks created for 10sfh465060.tif\n",
      "65 polygon masks created for 10sfh525120.tif\n",
      "16 polygon masks created for 10sfg525955.tif\n",
      "2 polygon masks created for 10sfh525135.tif\n",
      "53 polygon masks created for 10sfh465075.tif\n",
      "38 polygon masks created for 10sfh420105.tif\n",
      "53 polygon masks created for 10sfh435090.tif\n",
      "13 polygon masks created for 10sfh495030.tif\n",
      "26 polygon masks created for 10sfh510075.tif\n",
      "3 polygon masks created for 10sfg555970.tif\n",
      "2 polygon masks created for 10sfh540045.tif\n",
      "103 polygon masks created for 10sfh450120.tif\n",
      "8 polygon masks created for 10sfh525030.tif\n",
      "3 polygon masks created for 10sfh510060.tif\n",
      "0 polygon masks created for 10sfg540985.tif\n",
      "8 polygon masks created for 10sfh480075.tif\n",
      "26 polygon masks created for 10sfg495955.tif\n",
      "0 polygon masks created for 10sfh495120.tif\n",
      "4 polygon masks created for 10sfh495135.tif\n",
      "37 polygon masks created for 10sfh480060.tif\n",
      "28 polygon masks created for 10sfh495045.tif\n",
      "83 polygon masks created for 10sfh450090.tif\n",
      "21 polygon masks created for 10sfh480105.tif\n",
      "39 polygon masks created for 10sfg480970.tif\n",
      "0 polygon masks created for 10sfh465000.tif\n",
      "0 polygon masks created for 10sfg495985.tif\n",
      "72 polygon masks created for 10sfh510105.tif\n",
      "0 polygon masks created for 10sfg510970.tif\n",
      "4 polygon masks created for 10sfh465015.tif\n",
      "66 polygon masks created for 10sfh450045.tif\n",
      "15 polygon masks created for 10sfh495090.tif\n",
      "11 polygon masks created for 10sfg540955.tif\n",
      "\n",
      "2546 masks written in total\n"
     ]
    }
   ],
   "source": [
    "total = 0\n",
    "path = '../Githubs/Mask_RCNN/datasets/other solar/Stockton/Stockton_images/'\n",
    "filenames = os.listdir(path)\n",
    "nb_images = len(filenames)\n",
    "\n",
    "for index, image in enumerate(filenames):\n",
    "    \n",
    "    # Extract pixel coordinates of polygons\n",
    "    polygons = labels[labels['image_name'] == image[:-4]]\n",
    "    polygons['pixel_polygons'] = polygons.polygon_vertices_pixels.apply(lambda x: literal_eval(x))\n",
    "    \n",
    "    pixel_coord = []\n",
    "    for sub_list in list(polygons.pixel_polygons):\n",
    "        new_sub_list = [item for tuples in sub_list for item in tuples]\n",
    "        pixel_coord.append(new_sub_list)\n",
    "    \n",
    "    counter = len(pixel_coord)\n",
    "    \n",
    "    # Create mask\n",
    "    width=5000\n",
    "    height=5000\n",
    "    for i in range(len(pixel_coord)):\n",
    "        img = Image.new('L', (width, height), 0) # 'L' = 8-bit pixels, black and white\n",
    "        ImageDraw.Draw(img).polygon(pixel_coord[i], outline=1, fill=1) # polygon = [(x1,y1),(x2,y2),...] or [x1,y1,x2,y2,...]\n",
    "        mask_i = np.array(img)\n",
    "        mask = np.zeros((5000,5000))\n",
    "        mask += mask_i\n",
    "        mask = img_as_ubyte(mask)\n",
    "\n",
    "        # Write to disk\n",
    "        imageio.imwrite('../Githubs/Mask_RCNN/datasets/other solar/Stockton/Stockton_masks/{}_{}.png'.format(i, image[:-4]), mask)    \n",
    "\n",
    "    # Clip overlapping polygons to binary values\n",
    "    #mask = np.clip(mask, 0, 1)\n",
    "    #masks.append(mask)\n",
    "\n",
    "    print('{}/{} - {} polygon masks created for {}'.format(index+1, nb_images, counter, image))\n",
    "    total += counter\n",
    "\n",
    "print('\\n{} masks written in total'.format(total))"
   ]
  },
  {
   "cell_type": "markdown",
   "metadata": {},
   "source": [
    "Here, we used `PIL` (`Image` and `ImageDraw` modules) and `imageio` (`imwrite` function) to create the masks. We could also use `skimage`, with the method: `skimage.draw.polygon2mask(image_shape, polygon)` (see more [here](https://scikit-image.org/docs/dev/api/skimage.draw.html#skimage.draw.polygon2mask))."
   ]
  },
  {
   "cell_type": "markdown",
   "metadata": {},
   "source": [
    "* Crop masks through all polygon mask layers and save only non-empty masks"
   ]
  },
  {
   "cell_type": "code",
   "execution_count": 8,
   "metadata": {},
   "outputs": [
    {
     "name": "stdout",
     "output_type": "stream",
     "text": [
      "2790 cropped masks saved in total.\n"
     ]
    }
   ],
   "source": [
    "path = '../Githubs/Mask_RCNN/datasets/other solar/Stockton/Stockton_masks/'\n",
    "counter=0\n",
    "for image in os.listdir(path):\n",
    "    tiles = image_slicer.slice(path+image, 100, save=False)\n",
    "    tiles2=np.asarray(tiles)\n",
    "    for i in range(len(tiles2)):\n",
    "        if np.asarray(tiles2[i].image).max() != 0:\n",
    "            image_slicer.save_tiles(tiles[i:i+1], directory='../Githubs/Mask_RCNN/datasets/other solar/Stockton/Stockton_cropped_masks/',\n",
    "                                    prefix=image[:-4], format='png')\n",
    "            counter += 1\n",
    "print(counter,'cropped masks saved in total.')"
   ]
  },
  {
   "cell_type": "markdown",
   "metadata": {},
   "source": [
    "* Compare with image chunks and delete images without solar arrays"
   ]
  },
  {
   "cell_type": "code",
   "execution_count": 26,
   "metadata": {},
   "outputs": [
    {
     "name": "stdout",
     "output_type": "stream",
     "text": [
      "1204\n"
     ]
    },
    {
     "data": {
      "text/plain": [
       "['10sfh510105_05_08',\n",
       " '10sfh465060_09_02',\n",
       " '10sfh450105_02_06',\n",
       " '10sfh435120_06_07',\n",
       " '10sfh450105_04_10',\n",
       " '10sfh480090_10_05',\n",
       " '10sfh450120_10_03',\n",
       " '10sfh435120_06_04',\n",
       " '10sfh525105_07_06',\n",
       " '10sfh450060_04_08',\n",
       " '10sfh480105_08_01',\n",
       " '10sfg480970_07_05',\n",
       " '10sfh450075_07_09',\n",
       " '10sfh465075_03_05',\n",
       " '10sfh420105_04_08',\n",
       " '10sfh420105_06_08',\n",
       " '10sfh495045_07_08',\n",
       " '10sfh420105_05_07',\n",
       " '10sfh450090_10_02',\n",
       " '10sfh480060_07_06',\n",
       " '10sfh435120_07_08',\n",
       " '10sfh450045_10_09',\n",
       " '10sfh465105_09_08',\n",
       " '10sfh510105_02_06',\n",
       " '10sfh525090_01_01',\n",
       " '10sfh510135_07_03',\n",
       " '10sfh435105_09_04',\n",
       " '10sfh510045_07_06',\n",
       " '10sfh435060_04_03',\n",
       " '10sfh450120_04_04',\n",
       " '10sfh450090_06_09',\n",
       " '10sfh465120_03_08',\n",
       " '10sfh420120_05_01',\n",
       " '10sfh420120_07_08',\n",
       " '10sfh495075_02_04',\n",
       " '10sfh435060_07_05',\n",
       " '10sfh435060_02_02',\n",
       " '10sfh465120_07_03',\n",
       " '10sfh450120_09_04',\n",
       " '10sfh450075_10_02',\n",
       " '10sfh420120_02_06',\n",
       " '10sfg525955_08_07',\n",
       " '10sfh435060_09_07',\n",
       " '10sfh525090_02_07',\n",
       " '10sfh495060_04_08',\n",
       " '10sfh450045_09_02',\n",
       " '10sfh525090_04_10',\n",
       " '10sfh450045_07_07',\n",
       " '10sfh525120_03_09',\n",
       " '10sfh435060_03_06',\n",
       " '10sfh435105_02_02',\n",
       " '10sfh435060_01_04',\n",
       " '10sfh465030_01_07',\n",
       " '10sfh465120_04_07',\n",
       " '10sfh480045_08_03',\n",
       " '10sfh465120_03_03',\n",
       " '10sfh435060_07_04',\n",
       " '10sfh435045_10_09',\n",
       " '10sfh540075_04_10',\n",
       " '10sfh480030_02_03',\n",
       " '10sfh450045_09_01',\n",
       " '10sfh525120_05_08',\n",
       " '10sfh465030_02_03',\n",
       " '10sfh435075_07_02',\n",
       " '10sfh510135_05_03',\n",
       " '10sfh465120_05_09',\n",
       " '10sfh465120_09_01',\n",
       " '10sfh435045_10_07',\n",
       " '10sfg480985_04_03',\n",
       " '10sfh465120_03_09',\n",
       " '10sfh510090_05_04',\n",
       " '10sfh450045_06_08',\n",
       " '10sfh420120_02_01',\n",
       " '10sfh435075_05_02',\n",
       " '10sfh495060_03_06',\n",
       " '10sfh435105_02_07',\n",
       " '10sfh435075_07_01',\n",
       " '10sfg480985_06_01',\n",
       " '10sfh450090_09_04',\n",
       " '10sfg540955_02_01',\n",
       " '10sfg465970_07_07',\n",
       " '10sfh480105_03_09',\n",
       " '10sfg540955_01_09',\n",
       " '10sfh525105_02_09',\n",
       " '10sfh450105_01_09',\n",
       " '10sfh450075_02_06',\n",
       " '10sfh420075_04_09',\n",
       " '10sfh525105_09_07',\n",
       " '10sfg495955_08_01',\n",
       " '10sfh435120_04_06',\n",
       " '10sfh450060_09_10',\n",
       " '10sfh435090_05_08',\n",
       " '10sfh435120_01_04',\n",
       " '10sfh450075_03_09',\n",
       " '10sfh510015_05_01',\n",
       " '10sfh450075_07_08',\n",
       " '10sfh465075_01_04',\n",
       " '10sfg480970_09_02',\n",
       " '10sfh450075_01_03',\n",
       " '10sfh510105_05_02',\n",
       " '10sfh450120_10_04',\n",
       " '10sfh450075_02_08',\n",
       " '10sfh480060_04_01',\n",
       " '10sfh480075_09_03',\n",
       " '10sfg525985_10_08',\n",
       " '10sfh450075_06_07',\n",
       " '10sfh450075_04_10',\n",
       " '10sfh465075_07_01',\n",
       " '10sfh420075_05_09',\n",
       " '10sfh525105_02_08',\n",
       " '10sfh555000_03_05',\n",
       " '10sfh435105_10_02',\n",
       " '10sfh465030_10_02',\n",
       " '10sfh450015_01_01',\n",
       " '10sfg540970_10_10',\n",
       " '10sfh465075_02_08',\n",
       " '10sfg480970_08_07',\n",
       " '10sfh495060_05_06',\n",
       " '10sfh465120_04_03',\n",
       " '10sfh540000_04_10',\n",
       " '10sfh465090_02_10',\n",
       " '10sfh435060_05_01',\n",
       " '10sfh435060_02_03',\n",
       " '10sfh435105_04_07',\n",
       " '10sfh495075_04_06',\n",
       " '10sfh465030_09_05',\n",
       " '10sfg480955_03_04',\n",
       " '10sfh465090_02_01',\n",
       " '10sfh435045_10_08',\n",
       " '10sfh450090_06_05',\n",
       " '10sfh435060_09_05',\n",
       " '10sfh465090_04_02',\n",
       " '10sfh465045_06_02',\n",
       " '10sfh465090_01_02',\n",
       " '10sfh435105_04_03',\n",
       " '10sfh525090_02_10',\n",
       " '10sfh465105_10_03',\n",
       " '10sfh465030_03_10',\n",
       " '10sfh435105_08_06',\n",
       " '10sfh510135_08_06',\n",
       " '10sfg480955_06_04',\n",
       " '10sfh525090_04_08',\n",
       " '10sfh525120_06_05',\n",
       " '10sfh450060_07_06',\n",
       " '10sfh435120_08_10',\n",
       " '10sfh450060_04_05',\n",
       " '10sfh450060_07_05',\n",
       " '10sfh465060_03_01',\n",
       " '10sfh510105_09_08',\n",
       " '10sfg480970_09_04',\n",
       " '10sfh510105_07_04',\n",
       " '10sfh450075_06_09',\n",
       " '10sfh495045_08_08',\n",
       " '10sfh435120_07_07',\n",
       " '10sfh525105_03_07',\n",
       " '10sfh510105_03_02',\n",
       " '10sfh450105_02_07',\n",
       " '10sfh420075_08_09',\n",
       " '10sfh450120_10_05',\n",
       " '10sfh525105_06_07',\n",
       " '10sfh525000_05_05',\n",
       " '10sfg495955_02_03',\n",
       " '10sfh495030_09_10',\n",
       " '10sfh480105_05_10',\n",
       " '10sfh495090_04_10',\n",
       " '10sfh450105_08_07',\n",
       " '10sfh450030_10_02',\n",
       " '10sfh450105_06_10',\n",
       " '10sfh525105_03_04',\n",
       " '10sfh540045_08_07',\n",
       " '10sfh510105_06_07',\n",
       " '10sfh465075_02_03',\n",
       " '10sfh435090_08_09',\n",
       " '10sfh450105_04_09',\n",
       " '10sfh435120_07_01',\n",
       " '10sfh435045_09_08',\n",
       " '10sfh450060_08_09',\n",
       " '10sfh435105_10_09',\n",
       " '10sfh435045_02_05',\n",
       " '10sfh435120_06_03',\n",
       " '10sfh480060_02_05',\n",
       " '10sfh465105_06_05',\n",
       " '10sfh450090_09_05',\n",
       " '10sfh480030_02_07',\n",
       " '10sfh420120_06_01',\n",
       " '10sfh435075_01_03',\n",
       " '10sfh435060_06_08',\n",
       " '10sfh450120_06_06',\n",
       " '10sfh435105_01_06',\n",
       " '10sfh465120_04_08',\n",
       " '10sfg480955_02_05',\n",
       " '10sfh495015_07_07',\n",
       " '10sfh525090_03_07',\n",
       " '10sfh525090_02_05',\n",
       " '10sfh435075_08_02',\n",
       " '10sfh435105_06_02',\n",
       " '10sfh420120_02_05',\n",
       " '10sfh480030_05_09',\n",
       " '10sfh510120_09_09',\n",
       " '10sfh480030_04_03',\n",
       " '10sfh480030_05_02',\n",
       " '10sfh450090_05_10',\n",
       " '10sfh435060_06_04',\n",
       " '10sfh510015_10_02',\n",
       " '10sfh450120_01_02',\n",
       " '10sfh435060_04_05',\n",
       " '10sfh510090_01_08',\n",
       " '10sfh495075_01_04',\n",
       " '10sfh435075_05_09',\n",
       " '10sfg465985_08_09',\n",
       " '10sfh465090_08_08',\n",
       " '10sfh435105_01_04',\n",
       " '10sfg480970_10_02',\n",
       " '10sfh435075_06_03',\n",
       " '10sfh465090_09_09',\n",
       " '10sfh510090_08_09',\n",
       " '10sfg480985_06_02',\n",
       " '10sfh450090_05_03',\n",
       " '10sfh435045_10_06',\n",
       " '10sfh525090_01_08',\n",
       " '10sfh450105_03_03',\n",
       " '10sfh435045_08_01',\n",
       " '10sfh465105_09_02',\n",
       " '10sfh450105_02_09',\n",
       " '10sfh450075_03_05',\n",
       " '10sfg495955_02_04',\n",
       " '10sfg540955_01_01',\n",
       " '10sfh525120_10_04',\n",
       " '10sfg495955_03_05',\n",
       " '10sfh510105_01_10',\n",
       " '10sfh450060_09_09',\n",
       " '10sfh450105_03_09',\n",
       " '10sfh525105_07_01',\n",
       " '10sfh450030_10_03',\n",
       " '10sfh450060_05_03',\n",
       " '10sfh450105_02_05',\n",
       " '10sfh450060_03_03',\n",
       " '10sfh450090_10_06',\n",
       " '10sfh510015_01_08',\n",
       " '10sfh465045_10_03',\n",
       " '10sfh510015_05_02',\n",
       " '10sfh420120_10_10',\n",
       " '10sfh465060_02_07',\n",
       " '10sfh450075_06_08',\n",
       " '10sfh450105_08_04',\n",
       " '10sfh495090_03_10',\n",
       " '10sfh450105_06_08',\n",
       " '10sfh435090_04_08',\n",
       " '10sfh465060_09_03',\n",
       " '10sfg480970_09_01',\n",
       " '10sfh435090_09_07',\n",
       " '10sfg540970_10_09',\n",
       " '10sfh510000_09_07',\n",
       " '10sfg480970_06_04',\n",
       " '10sfh450060_01_03',\n",
       " '10sfg480970_09_09',\n",
       " '10sfh450090_10_08',\n",
       " '10sfh450045_10_01',\n",
       " '10sfh435120_09_04',\n",
       " '10sfh435090_02_04',\n",
       " '10sfg465970_08_08',\n",
       " '10sfh435090_05_04',\n",
       " '10sfh450075_01_10',\n",
       " '10sfh450105_01_07',\n",
       " '10sfh465075_06_03',\n",
       " '10sfh510105_05_06',\n",
       " '10sfh465075_01_03',\n",
       " '10sfh450075_09_08',\n",
       " '10sfh480060_06_04',\n",
       " '10sfh450105_10_04',\n",
       " '10sfh495105_06_02',\n",
       " '10sfh510090_01_07',\n",
       " '10sfh510090_08_08',\n",
       " '10sfh450045_01_09',\n",
       " '10sfh450090_05_02',\n",
       " '10sfh420075_10_09',\n",
       " '10sfh540060_07_03',\n",
       " '10sfh435075_04_09',\n",
       " '10sfh495060_04_06',\n",
       " '10sfh465090_06_05',\n",
       " '10sfh435105_03_07',\n",
       " '10sfh450120_08_09',\n",
       " '10sfh450090_08_06',\n",
       " '10sfh540060_03_02',\n",
       " '10sfg465970_10_08',\n",
       " '10sfh510075_10_04',\n",
       " '10sfh525120_09_05',\n",
       " '10sfh435105_02_08',\n",
       " '10sfh495060_09_05',\n",
       " '10sfh510075_10_06',\n",
       " '10sfh465120_05_07',\n",
       " '10sfg480955_02_09',\n",
       " '10sfg480955_01_09',\n",
       " '10sfh450045_01_06',\n",
       " '10sfh480030_08_10',\n",
       " '10sfh450090_03_10',\n",
       " '10sfh435105_01_02',\n",
       " '10sfh450120_03_03',\n",
       " '10sfh450120_07_08',\n",
       " '10sfh510045_02_01',\n",
       " '10sfg465970_10_09',\n",
       " '10sfh540015_09_05',\n",
       " '10sfh450045_09_03',\n",
       " '10sfh540075_01_10',\n",
       " '10sfh435060_07_03',\n",
       " '10sfh525120_07_10',\n",
       " '10sfh435060_06_02',\n",
       " '10sfh465105_10_10',\n",
       " '10sfg525985_08_10',\n",
       " '10sfh435060_07_02',\n",
       " '10sfh465090_09_08',\n",
       " '10sfh450120_01_10',\n",
       " '10sfh450105_03_02',\n",
       " '10sfh510075_09_05',\n",
       " '10sfh450015_02_01',\n",
       " '10sfg480970_09_10',\n",
       " '10sfh420105_02_07',\n",
       " '10sfh450060_02_10',\n",
       " '10sfh510060_01_01',\n",
       " '10sfh480105_02_09',\n",
       " '10sfh450060_06_06',\n",
       " '10sfh450015_02_03',\n",
       " '10sfh450105_03_08',\n",
       " '10sfh465075_05_03',\n",
       " '10sfh450060_01_09',\n",
       " '10sfh465105_06_02',\n",
       " '10sfh435090_02_08',\n",
       " '10sfh495135_05_08',\n",
       " '10sfh510105_09_05',\n",
       " '10sfh435090_07_08',\n",
       " '10sfh435120_09_03',\n",
       " '10sfh435090_02_03',\n",
       " '10sfh510105_01_02',\n",
       " '10sfh420105_03_08',\n",
       " '10sfg480970_07_08',\n",
       " '10sfh465060_01_03',\n",
       " '10sfg495955_04_05',\n",
       " '10sfg495955_04_04',\n",
       " '10sfh435045_09_06',\n",
       " '10sfh525105_09_09',\n",
       " '10sfh435075_10_06',\n",
       " '10sfh450060_02_03',\n",
       " '10sfh435090_08_06',\n",
       " '10sfh435120_01_05',\n",
       " '10sfh465105_03_02',\n",
       " '10sfh510105_03_03',\n",
       " '10sfg510985_06_08',\n",
       " '10sfh465120_08_06',\n",
       " '10sfh465120_07_04',\n",
       " '10sfg480970_10_10',\n",
       " '10sfh450045_02_07',\n",
       " '10sfh450045_06_10',\n",
       " '10sfh525090_01_09',\n",
       " '10sfh495075_01_06',\n",
       " '10sfh450120_05_07',\n",
       " '10sfh465030_02_02',\n",
       " '10sfh465090_03_04',\n",
       " '10sfh495015_04_01',\n",
       " '10sfh540000_09_09',\n",
       " '10sfh435105_07_06',\n",
       " '10sfh435120_10_05',\n",
       " '10sfh450120_06_04',\n",
       " '10sfh450120_09_02',\n",
       " '10sfh495015_09_10',\n",
       " '10sfh525090_02_08',\n",
       " '10sfh435075_04_03',\n",
       " '10sfh480090_05_01',\n",
       " '10sfh480030_03_10',\n",
       " '10sfh450045_01_01',\n",
       " '10sfh435105_02_05',\n",
       " '10sfh465090_03_07',\n",
       " '10sfh465120_05_08',\n",
       " '10sfh525105_10_07',\n",
       " '10sfh465045_04_02',\n",
       " '10sfh450045_01_04',\n",
       " '10sfg495970_09_02',\n",
       " '10sfg555985_04_03',\n",
       " '10sfh525045_04_07',\n",
       " '10sfh510045_01_01',\n",
       " '10sfh450075_02_02',\n",
       " '10sfh435045_01_01',\n",
       " '10sfh465090_10_03',\n",
       " '10sfh495045_01_06',\n",
       " '10sfh525105_05_04',\n",
       " '10sfh510105_09_06',\n",
       " '10sfh450015_01_02',\n",
       " '10sfh465105_08_02',\n",
       " '10sfh465105_02_04',\n",
       " '10sfg555970_04_10',\n",
       " '10sfh495060_10_05',\n",
       " '10sfh450075_09_07',\n",
       " '10sfh465075_02_01',\n",
       " '10sfh465060_07_01',\n",
       " '10sfh435120_06_08',\n",
       " '10sfh450015_01_03',\n",
       " '10sfh435045_09_02',\n",
       " '10sfg495955_06_05',\n",
       " '10sfh435045_08_02',\n",
       " '10sfh510105_03_05',\n",
       " '10sfh450105_01_05',\n",
       " '10sfh450075_05_08',\n",
       " '10sfh420105_08_10',\n",
       " '10sfh510105_08_05',\n",
       " '10sfh510015_10_08',\n",
       " '10sfh540015_07_02',\n",
       " '10sfh450090_06_10',\n",
       " '10sfh435105_01_10',\n",
       " '10sfh510135_05_04',\n",
       " '10sfh525120_09_07',\n",
       " '10sfh510090_05_03',\n",
       " '10sfh450090_04_06',\n",
       " '10sfg555955_06_10',\n",
       " '10sfh435060_06_05',\n",
       " '10sfh525120_07_08',\n",
       " '10sfh465105_10_02',\n",
       " '10sfh510105_10_02',\n",
       " '10sfh495060_06_05',\n",
       " '10sfh450120_05_05',\n",
       " '10sfh450090_08_05',\n",
       " '10sfh480030_01_07',\n",
       " '10sfh510045_06_07',\n",
       " '10sfg480955_07_04',\n",
       " '10sfh450030_09_02',\n",
       " '10sfh465030_03_09',\n",
       " '10sfh525090_05_02',\n",
       " '10sfh525105_10_08',\n",
       " '10sfh495060_01_09',\n",
       " '10sfh450120_04_01',\n",
       " '10sfh465090_06_03',\n",
       " '10sfh435060_05_04',\n",
       " '10sfh465090_04_03',\n",
       " '10sfh465090_03_01',\n",
       " '10sfh435105_02_03',\n",
       " '10sfh465090_07_02',\n",
       " '10sfh450045_07_04',\n",
       " '10sfh435105_10_10',\n",
       " '10sfg480970_05_05',\n",
       " '10sfh435120_08_01',\n",
       " '10sfg555970_05_03',\n",
       " '10sfh450060_02_02',\n",
       " '10sfh435045_01_09',\n",
       " '10sfh525105_08_02',\n",
       " '10sfh480060_05_01',\n",
       " '10sfh450060_08_03',\n",
       " '10sfh465045_10_05',\n",
       " '10sfh435090_04_07',\n",
       " '10sfh450045_10_02',\n",
       " '10sfh450075_01_07',\n",
       " '10sfh450105_02_02',\n",
       " '10sfh510105_04_07',\n",
       " '10sfh480105_09_05',\n",
       " '10sfg480970_09_07',\n",
       " '10sfg495955_08_03',\n",
       " '10sfh465075_06_04',\n",
       " '10sfh450060_05_02',\n",
       " '10sfh450105_08_05',\n",
       " '10sfh495090_03_05',\n",
       " '10sfh525105_07_10',\n",
       " '10sfh450045_01_07',\n",
       " '10sfh465030_04_07',\n",
       " '10sfh465090_01_01',\n",
       " '10sfh525120_02_08',\n",
       " '10sfh435060_04_04',\n",
       " '10sfh435060_05_02',\n",
       " '10sfh525120_02_06',\n",
       " '10sfh465090_09_02',\n",
       " '10sfh435060_06_01',\n",
       " '10sfh450075_10_03',\n",
       " '10sfh480045_08_07',\n",
       " '10sfh525030_09_03',\n",
       " '10sfh495075_02_05',\n",
       " '10sfg480985_09_05',\n",
       " '10sfh450120_04_06',\n",
       " '10sfh450090_07_08',\n",
       " '10sfg480955_05_10',\n",
       " '10sfh450090_01_05',\n",
       " '10sfh420120_07_10',\n",
       " '10sfh435090_06_09',\n",
       " '10sfh450120_10_01',\n",
       " '10sfh420075_04_10',\n",
       " '10sfh465105_09_10',\n",
       " '10sfg480970_07_07',\n",
       " '10sfh450105_02_03',\n",
       " '10sfh510105_07_09',\n",
       " '10sfh525105_03_06',\n",
       " '10sfh435120_03_08',\n",
       " '10sfh495060_10_06',\n",
       " '10sfh450120_10_09',\n",
       " '10sfh420075_03_08',\n",
       " '10sfh465060_06_03',\n",
       " '10sfh435090_04_04',\n",
       " '10sfh450105_05_02',\n",
       " '10sfh465105_04_04',\n",
       " '10sfh465075_07_02',\n",
       " '10sfh480060_02_04',\n",
       " '10sfh450060_08_08',\n",
       " '10sfh465105_07_04',\n",
       " '10sfh420105_03_07',\n",
       " '10sfh435120_09_06',\n",
       " '10sfh465060_08_04',\n",
       " '10sfh435075_10_03',\n",
       " '10sfh450015_02_02',\n",
       " '10sfh420105_07_10',\n",
       " '10sfh435045_02_04',\n",
       " '10sfh495135_04_08',\n",
       " '10sfh450105_03_04',\n",
       " '10sfh495090_04_04',\n",
       " '10sfh525105_08_08',\n",
       " '10sfh435120_03_06',\n",
       " '10sfh450090_10_05',\n",
       " '10sfg480955_07_09',\n",
       " '10sfh435105_01_03',\n",
       " '10sfh510105_10_08',\n",
       " '10sfh540000_06_03',\n",
       " '10sfh495075_07_02',\n",
       " '10sfh450090_02_07',\n",
       " '10sfh450090_05_05',\n",
       " '10sfg480985_03_05',\n",
       " '10sfh435060_09_04',\n",
       " '10sfh465090_03_08',\n",
       " '10sfh450120_05_06',\n",
       " '10sfh465120_09_02',\n",
       " '10sfh450120_08_03',\n",
       " '10sfh450090_06_08',\n",
       " '10sfh435105_06_05',\n",
       " '10sfh465030_07_02',\n",
       " '10sfh480030_06_06',\n",
       " '10sfh525090_01_02',\n",
       " '10sfh465060_10_01',\n",
       " '10sfh450030_04_05',\n",
       " '10sfh510090_01_06',\n",
       " '10sfh495060_03_05',\n",
       " '10sfh480090_02_03',\n",
       " '10sfh495060_06_07',\n",
       " '10sfh480090_03_02',\n",
       " '10sfh525090_05_01',\n",
       " '10sfh465120_03_10',\n",
       " '10sfh465030_09_09',\n",
       " '10sfh450120_08_04',\n",
       " '10sfh435090_10_08',\n",
       " '10sfg480985_09_03',\n",
       " '10sfh465090_03_02',\n",
       " '10sfh495060_02_03',\n",
       " '10sfh435045_02_09',\n",
       " '10sfh465075_04_04',\n",
       " '10sfh465105_03_03',\n",
       " '10sfh435120_09_10',\n",
       " '10sfh450060_01_02',\n",
       " '10sfh435120_04_05',\n",
       " '10sfh465105_04_02',\n",
       " '10sfh435045_04_04',\n",
       " '10sfh525105_07_08',\n",
       " '10sfh450105_08_03',\n",
       " '10sfh450105_01_01',\n",
       " '10sfh510105_09_09',\n",
       " '10sfh450105_09_01',\n",
       " '10sfg480985_07_04',\n",
       " '10sfh450090_08_02',\n",
       " '10sfh540075_08_02',\n",
       " '10sfh435075_03_10',\n",
       " '10sfh450090_03_06',\n",
       " '10sfg480955_03_01',\n",
       " '10sfh465090_02_04',\n",
       " '10sfh435105_01_09',\n",
       " '10sfh480030_08_03',\n",
       " '10sfh480030_09_08',\n",
       " '10sfg480955_08_09',\n",
       " '10sfh450030_04_06',\n",
       " '10sfh480030_10_07',\n",
       " '10sfh525075_05_04',\n",
       " '10sfh540030_07_02',\n",
       " '10sfh525105_05_08',\n",
       " '10sfh450120_10_08',\n",
       " '10sfh495060_10_07',\n",
       " '10sfh420105_04_10',\n",
       " '10sfh450075_01_06',\n",
       " '10sfh510105_03_07',\n",
       " '10sfh435105_10_07',\n",
       " '10sfh435120_04_04',\n",
       " '10sfh465075_02_05',\n",
       " '10sfh525105_02_06',\n",
       " '10sfh450120_10_06',\n",
       " '10sfg555985_10_09',\n",
       " '10sfh465075_02_04',\n",
       " '10sfh450030_10_01',\n",
       " '10sfh450060_01_01',\n",
       " '10sfh450105_04_02',\n",
       " '10sfh525120_10_06',\n",
       " '10sfh525105_01_09',\n",
       " '10sfh435120_09_05',\n",
       " '10sfh435060_10_04',\n",
       " '10sfh435075_04_08',\n",
       " '10sfh495105_09_07',\n",
       " '10sfh540060_02_02',\n",
       " '10sfh480060_10_04',\n",
       " '10sfh480030_03_05',\n",
       " '10sfh480045_08_05',\n",
       " '10sfg480985_09_06',\n",
       " '10sfh480105_10_01',\n",
       " '10sfh465105_10_06',\n",
       " '10sfh540000_04_06',\n",
       " '10sfh435060_05_03',\n",
       " '10sfh465030_05_08',\n",
       " '10sfh435075_08_01',\n",
       " '10sfg480955_08_04',\n",
       " '10sfh525120_05_09',\n",
       " '10sfh465030_02_04',\n",
       " '10sfh435105_05_08',\n",
       " '10sfh450120_03_01',\n",
       " '10sfh510105_10_09',\n",
       " '10sfh510090_04_09',\n",
       " '10sfg555985_05_08',\n",
       " '10sfh435105_09_06',\n",
       " '10sfh465090_05_10',\n",
       " '10sfh465090_04_05',\n",
       " '10sfh480090_04_01',\n",
       " '10sfh435105_04_04',\n",
       " '10sfh480090_02_02',\n",
       " '10sfh465090_08_09',\n",
       " '10sfh450030_09_03',\n",
       " '10sfh435045_01_05',\n",
       " '10sfh525000_05_03',\n",
       " '10sfh450075_01_04',\n",
       " '10sfg495955_06_04',\n",
       " '10sfh525105_01_08',\n",
       " '10sfh510015_07_04',\n",
       " '10sfh465075_03_04',\n",
       " '10sfh465105_05_02',\n",
       " '10sfh450060_09_06',\n",
       " '10sfh510105_08_04',\n",
       " '10sfh525105_07_04',\n",
       " '10sfh435090_03_09',\n",
       " '10sfh525000_05_04',\n",
       " '10sfh465105_05_03',\n",
       " '10sfh435120_08_03',\n",
       " '10sfh435045_07_03',\n",
       " '10sfh435060_10_09',\n",
       " '10sfg465970_08_06',\n",
       " '10sfh435120_08_07',\n",
       " '10sfh495090_05_01',\n",
       " '10sfh510105_02_07',\n",
       " '10sfh435120_03_03',\n",
       " '10sfh510105_02_10',\n",
       " '10sfh435120_07_03',\n",
       " '10sfh525000_06_03',\n",
       " '10sfh435105_02_06',\n",
       " '10sfg480955_08_08',\n",
       " '10sfh435075_01_02',\n",
       " '10sfh435075_04_02',\n",
       " '10sfh465120_08_02',\n",
       " '10sfg480955_09_09',\n",
       " '10sfh450120_08_02',\n",
       " '10sfg555955_06_08',\n",
       " '10sfh450090_03_09',\n",
       " '10sfh510105_10_07',\n",
       " '10sfh465045_06_03',\n",
       " '10sfh525120_09_06',\n",
       " '10sfh450090_02_06',\n",
       " '10sfg465985_07_09',\n",
       " '10sfh450120_09_10',\n",
       " '10sfh465105_10_01',\n",
       " '10sfh495060_03_01',\n",
       " '10sfh435075_06_04',\n",
       " '10sfh495075_02_08',\n",
       " '10sfh435105_06_08',\n",
       " '10sfh450090_09_02',\n",
       " '10sfh465045_05_09',\n",
       " '10sfh450045_02_01',\n",
       " '10sfh450120_09_01',\n",
       " '10sfh450060_10_04',\n",
       " '10sfh435090_09_02',\n",
       " '10sfh435060_10_07',\n",
       " '10sfg495955_03_04',\n",
       " '10sfh450060_03_10',\n",
       " '10sfh450105_04_08',\n",
       " '10sfh510075_09_06',\n",
       " '10sfh540030_07_01',\n",
       " '10sfh435090_03_05',\n",
       " '10sfh525105_02_04',\n",
       " '10sfh480015_01_04',\n",
       " '10sfg495955_05_02',\n",
       " '10sfh450075_01_02',\n",
       " '10sfh435045_09_07',\n",
       " '10sfh435060_10_03',\n",
       " '10sfh450105_03_10',\n",
       " '10sfh465105_08_04',\n",
       " '10sfh495030_04_03',\n",
       " '10sfg465970_09_07',\n",
       " '10sfg465970_09_09',\n",
       " '10sfh465060_06_02',\n",
       " '10sfh510030_10_02',\n",
       " '10sfh465060_07_03',\n",
       " '10sfg495970_10_03',\n",
       " '10sfh480075_04_04',\n",
       " '10sfh450075_02_07',\n",
       " '10sfh450090_10_03',\n",
       " '10sfh450120_03_06',\n",
       " '10sfh525120_01_07',\n",
       " '10sfh435120_10_07',\n",
       " '10sfh510120_08_06',\n",
       " '10sfh465060_10_02',\n",
       " '10sfh450120_04_07',\n",
       " '10sfh435105_04_08',\n",
       " '10sfh525120_07_01',\n",
       " '10sfh435105_04_01',\n",
       " '10sfh450030_08_10',\n",
       " '10sfh525120_04_09',\n",
       " '10sfh435075_07_06',\n",
       " '10sfh525045_03_07',\n",
       " '10sfh510120_09_08',\n",
       " '10sfh480030_02_02',\n",
       " '10sfh525030_07_02',\n",
       " '10sfh510075_10_05',\n",
       " '10sfh450045_08_02',\n",
       " '10sfh480075_10_04',\n",
       " '10sfh435105_08_10',\n",
       " '10sfh495075_03_04',\n",
       " '10sfh495060_04_05',\n",
       " '10sfh435075_06_01',\n",
       " '10sfh450060_03_05',\n",
       " '10sfh450105_01_08',\n",
       " '10sfh435090_04_10',\n",
       " '10sfh480060_08_04',\n",
       " '10sfh450090_10_07',\n",
       " '10sfh450015_01_04',\n",
       " '10sfg525970_01_05',\n",
       " '10sfh495090_06_07',\n",
       " '10sfh525105_09_02',\n",
       " '10sfh510120_10_06',\n",
       " '10sfh420075_05_10',\n",
       " '10sfh420105_07_08',\n",
       " '10sfh465060_03_07',\n",
       " '10sfh420105_05_08',\n",
       " '10sfh435090_01_03',\n",
       " '10sfg495955_05_03',\n",
       " '10sfh450030_10_06',\n",
       " '10sfh435045_08_03',\n",
       " '10sfh465060_07_02',\n",
       " '10sfh480060_01_04',\n",
       " '10sfh450120_02_10',\n",
       " '10sfh465030_09_06',\n",
       " '10sfh465045_09_01',\n",
       " '10sfh525120_03_06',\n",
       " '10sfh450090_02_05',\n",
       " '10sfh450090_09_03',\n",
       " '10sfh435105_05_03',\n",
       " '10sfh465030_09_08',\n",
       " '10sfh450120_08_05',\n",
       " '10sfh510135_06_06',\n",
       " '10sfg480970_10_04',\n",
       " '10sfg555955_07_10',\n",
       " '10sfh510090_01_03',\n",
       " '10sfh495060_07_07',\n",
       " '10sfh540015_07_07',\n",
       " '10sfh450120_02_09',\n",
       " '10sfh495090_10_08',\n",
       " '10sfh465030_08_10',\n",
       " '10sfh435120_10_02',\n",
       " '10sfh450105_10_03',\n",
       " '10sfh450045_07_06',\n",
       " '10sfh450120_04_08',\n",
       " '10sfh495060_09_06',\n",
       " '10sfh525105_02_05',\n",
       " '10sfh525030_10_03',\n",
       " '10sfh450075_09_06',\n",
       " '10sfh465015_02_02',\n",
       " '10sfh525000_06_04',\n",
       " '10sfh435090_03_10',\n",
       " '10sfh435120_05_03',\n",
       " '10sfh525120_10_07',\n",
       " '10sfh510075_07_03',\n",
       " '10sfh450075_01_05',\n",
       " '10sfh435120_06_01',\n",
       " '10sfh480075_04_06',\n",
       " '10sfh525000_04_02',\n",
       " '10sfh435075_10_02',\n",
       " '10sfg525970_07_09',\n",
       " '10sfh420075_06_10',\n",
       " '10sfh465090_10_02',\n",
       " '10sfh435120_04_07',\n",
       " '10sfh450075_08_10',\n",
       " '10sfh495045_01_05',\n",
       " '10sfh435075_02_04',\n",
       " '10sfh450090_08_03',\n",
       " '10sfh435045_10_01',\n",
       " '10sfh540015_01_08',\n",
       " '10sfh495000_04_06',\n",
       " '10sfh525120_06_08',\n",
       " '10sfh480090_05_06',\n",
       " '10sfh450120_07_06',\n",
       " '10sfh525120_03_04',\n",
       " '10sfh465120_08_03',\n",
       " '10sfh495075_06_05',\n",
       " '10sfh435060_06_03',\n",
       " '10sfh465090_05_04',\n",
       " '10sfh450090_04_02',\n",
       " '10sfh450075_10_06',\n",
       " '10sfh450090_09_01',\n",
       " '10sfh450030_01_09',\n",
       " '10sfh450120_03_10',\n",
       " '10sfh465030_08_08',\n",
       " '10sfh465045_02_02',\n",
       " '10sfh525120_09_10',\n",
       " '10sfh435060_03_07',\n",
       " '10sfh435075_02_05',\n",
       " '10sfh510105_09_04',\n",
       " '10sfh525105_05_10',\n",
       " '10sfh480015_02_04',\n",
       " '10sfh435120_05_10',\n",
       " '10sfg495955_05_01',\n",
       " '10sfg465970_08_07',\n",
       " '10sfh450045_10_04',\n",
       " '10sfh525105_05_09',\n",
       " '10sfh450015_03_01',\n",
       " '10sfh525075_06_07',\n",
       " '10sfh435120_07_02',\n",
       " '10sfh435090_05_05',\n",
       " '10sfh525000_04_03',\n",
       " '10sfh480075_09_01',\n",
       " '10sfh450120_10_07',\n",
       " '10sfh465105_03_04',\n",
       " '10sfg480970_06_05',\n",
       " '10sfh510075_01_04',\n",
       " '10sfh525105_10_05',\n",
       " '10sfh495075_06_08',\n",
       " '10sfh465090_08_10',\n",
       " '10sfh435060_09_03',\n",
       " '10sfh465090_08_01',\n",
       " '10sfh510120_08_05',\n",
       " '10sfh450120_02_08',\n",
       " '10sfh525120_06_04',\n",
       " '10sfh540075_08_10',\n",
       " '10sfh525045_06_02',\n",
       " '10sfh540060_06_04',\n",
       " '10sfh465120_04_06',\n",
       " '10sfh435060_01_05',\n",
       " '10sfg480955_04_09',\n",
       " '10sfh525090_01_07',\n",
       " '10sfh525135_07_03',\n",
       " '10sfh450120_08_10',\n",
       " '10sfh465090_06_08',\n",
       " '10sfh465075_07_06',\n",
       " '10sfh450105_03_06',\n",
       " '10sfh450075_02_03',\n",
       " '10sfh525105_01_05',\n",
       " '10sfh435045_05_05',\n",
       " '10sfh510105_02_05',\n",
       " '10sfh435120_07_09',\n",
       " '10sfh540030_06_08',\n",
       " '10sfg495970_10_02',\n",
       " '10sfh450075_05_07',\n",
       " '10sfh510075_09_07',\n",
       " '10sfh495090_06_01',\n",
       " '10sfh510075_02_02',\n",
       " '10sfh450075_04_07',\n",
       " '10sfg495955_02_01',\n",
       " '10sfh510105_02_02',\n",
       " '10sfh420075_08_08',\n",
       " '10sfh450075_04_08',\n",
       " '10sfg525985_08_09',\n",
       " '10sfh450090_06_04',\n",
       " '10sfh435060_05_05',\n",
       " '10sfh540075_07_10',\n",
       " '10sfh435105_04_09',\n",
       " '10sfh510030_05_10',\n",
       " '10sfh525030_06_04',\n",
       " '10sfh450090_09_10',\n",
       " '10sfh465120_04_09',\n",
       " '10sfh480105_10_03',\n",
       " '10sfh525120_09_09',\n",
       " '10sfh450075_10_08',\n",
       " '10sfg480955_07_10',\n",
       " '10sfh450045_08_03',\n",
       " '10sfg510985_05_03',\n",
       " '10sfh495015_04_07',\n",
       " '10sfh525045_06_04',\n",
       " '10sfh435120_08_09',\n",
       " '10sfh540030_01_07',\n",
       " '10sfh450060_09_05',\n",
       " '10sfh435120_03_10',\n",
       " '10sfh420105_07_09',\n",
       " '10sfg495955_01_03',\n",
       " '10sfh450060_07_04',\n",
       " '10sfh510105_05_10',\n",
       " '10sfh480105_05_09',\n",
       " '10sfh510015_06_05',\n",
       " '10sfh465015_02_07',\n",
       " '10sfh420105_03_10',\n",
       " '10sfh465075_05_02',\n",
       " '10sfh510075_04_02',\n",
       " '10sfh435090_09_08',\n",
       " '10sfh465060_01_02',\n",
       " '10sfh450120_10_02',\n",
       " '10sfh450105_04_01',\n",
       " '10sfh450075_03_07',\n",
       " '10sfh435045_04_03',\n",
       " '10sfh435120_09_07',\n",
       " '10sfh510075_02_04',\n",
       " '10sfh435120_10_09',\n",
       " '10sfh435105_02_01',\n",
       " '10sfg480955_07_03',\n",
       " '10sfh465090_01_03',\n",
       " '10sfh525120_05_10',\n",
       " '10sfh435075_05_03',\n",
       " '10sfh435060_03_03',\n",
       " '10sfh525090_03_09',\n",
       " '10sfh435105_04_06',\n",
       " '10sfh450045_08_04',\n",
       " '10sfh495075_03_03',\n",
       " '10sfh495060_07_08',\n",
       " '10sfh510030_01_05',\n",
       " '10sfh450030_02_03',\n",
       " '10sfh450120_09_09',\n",
       " '10sfh525105_09_10',\n",
       " '10sfh465075_01_02',\n",
       " '10sfg555970_06_03',\n",
       " '10sfh480030_10_08',\n",
       " '10sfh450060_08_10',\n",
       " '10sfh495105_10_07',\n",
       " '10sfh435120_03_07',\n",
       " '10sfh450105_06_04',\n",
       " '10sfh525015_04_07',\n",
       " '10sfh435120_03_09',\n",
       " '10sfh465075_04_03',\n",
       " '10sfh495030_09_01',\n",
       " '10sfg480985_09_04',\n",
       " '10sfh435060_02_07',\n",
       " '10sfh435060_02_06',\n",
       " '10sfh450045_06_07',\n",
       " '10sfh420120_03_05',\n",
       " '10sfh540060_08_01',\n",
       " '10sfh450090_05_04',\n",
       " '10sfg480970_06_03',\n",
       " '10sfh420075_06_08',\n",
       " '10sfh435060_10_05',\n",
       " '10sfh450105_09_03',\n",
       " '10sfh450075_09_10',\n",
       " '10sfh435120_03_04',\n",
       " '10sfh435120_06_02',\n",
       " '10sfh495045_02_06',\n",
       " '10sfh465060_01_07',\n",
       " '10sfh525105_03_05',\n",
       " '10sfh495030_06_03',\n",
       " '10sfh465060_02_06',\n",
       " '10sfh510015_04_02',\n",
       " '10sfg495955_02_05',\n",
       " '10sfh525120_10_05',\n",
       " '10sfh450060_09_08',\n",
       " '10sfh510135_02_08',\n",
       " '10sfh510030_01_04',\n",
       " '10sfh450120_09_03',\n",
       " '10sfh510030_03_06',\n",
       " '10sfh450030_01_01',\n",
       " '10sfh450120_01_01',\n",
       " '10sfh525090_01_06',\n",
       " '10sfh510045_02_04',\n",
       " '10sfh495075_04_07',\n",
       " '10sfh465075_02_02',\n",
       " '10sfh450075_03_06',\n",
       " '10sfh510105_07_05',\n",
       " '10sfh495030_05_06',\n",
       " '10sfh525060_09_10',\n",
       " '10sfh480060_05_10',\n",
       " '10sfh495030_05_05',\n",
       " '10sfg465985_06_06',\n",
       " '10sfh420120_06_02',\n",
       " '10sfh450075_10_01',\n",
       " '10sfh540000_05_03',\n",
       " '10sfh525030_02_01',\n",
       " '10sfh540015_02_08',\n",
       " '10sfh420120_03_06',\n",
       " '10sfh435105_03_03',\n",
       " '10sfh450090_09_07',\n",
       " '10sfh480090_03_09',\n",
       " '10sfh510135_06_08',\n",
       " '10sfh480060_07_07',\n",
       " '10sfg495955_06_03',\n",
       " '10sfh495090_01_10',\n",
       " '10sfh450060_09_07',\n",
       " '10sfh525060_04_03',\n",
       " '10sfh510015_04_01',\n",
       " '10sfh510105_06_05',\n",
       " '10sfg465970_08_09',\n",
       " '10sfh525105_04_09',\n",
       " '10sfh510090_04_05',\n",
       " '10sfh450120_05_04',\n",
       " '10sfh450090_05_08',\n",
       " '10sfg480955_03_10',\n",
       " '10sfh465120_07_05',\n",
       " '10sfh480045_09_04',\n",
       " '10sfh465030_03_08',\n",
       " '10sfh465030_01_06',\n",
       " '10sfh450030_01_02',\n",
       " '10sfh465120_04_05',\n",
       " '10sfh495135_10_02',\n",
       " '10sfh435120_10_08',\n",
       " '10sfh510105_10_04',\n",
       " '10sfh510030_05_09',\n",
       " '10sfh465120_04_02',\n",
       " '10sfg480985_08_01',\n",
       " ...]"
      ]
     },
     "execution_count": 26,
     "metadata": {},
     "output_type": "execute_result"
    }
   ],
   "source": [
    "path='../Githubs/Mask_RCNN/datasets/other solar/Stockton/Stockton_cropped_masks/'\n",
    "to_keep = os.listdir(path)\n",
    "to_keep = [x[:-4] for x in to_keep]\n",
    "to_keep = [x[-17:] for x in to_keep]\n",
    "to_keep = list(dict.fromkeys(to_keep)) # Creating a dictionary will automatically delete duplicates!\n",
    "print(len(to_keep))\n",
    "to_keep"
   ]
  },
  {
   "cell_type": "code",
   "execution_count": 33,
   "metadata": {},
   "outputs": [],
   "source": [
    "path = '../Githubs/Mask_RCNN/datasets/other solar/Stockton/Stockton_cropped_images/'\n",
    "for filename in os.listdir(path):\n",
    "    if filename[:-4] not in to_keep: os.remove(path+filename)"
   ]
  },
  {
   "cell_type": "markdown",
   "metadata": {},
   "source": [
    "* Rename cropped masks properly"
   ]
  },
  {
   "cell_type": "code",
   "execution_count": 38,
   "metadata": {},
   "outputs": [
    {
     "name": "stdout",
     "output_type": "stream",
     "text": [
      "2789 masks succesfully renamed.\n"
     ]
    }
   ],
   "source": [
    "path='../Githubs/Mask_RCNN/datasets/other solar/Stockton/Stockton_cropped_masks/'\n",
    "\n",
    "for counter, filename in enumerate(os.listdir(path)): \n",
    "    if len(filename) == 23:\n",
    "        new_name = filename[2:-4] + '_' + filename[0] + filename[-4:]\n",
    "    elif len(filename) == 24:\n",
    "        new_name = filename[3:-4] + '_' + filename[0:2] + filename[-4:]\n",
    "    elif len(filename) == 25:\n",
    "        new_name = filename[4:-4] + '_' + filename[0:3] + filename[-4:]\n",
    "    else:\n",
    "        new_name = filename[5:-4] + '_' + filename[0:4] + filename[-4:]\n",
    "\n",
    "    os.rename(os.path.join(path, filename), os.path.join(path, new_name))\n",
    "\n",
    "print(counter+1, 'masks succesfully renamed.')"
   ]
  },
  {
   "cell_type": "markdown",
   "metadata": {},
   "source": [
    "#### Oxnard"
   ]
  },
  {
   "cell_type": "markdown",
   "metadata": {},
   "source": [
    "Careful: Oxnard images have a different size, 4000x6000 pixels, and ids of different length (9 characters)."
   ]
  },
  {
   "cell_type": "markdown",
   "metadata": {},
   "source": [
    "* Load labels for the city of Oxnard"
   ]
  },
  {
   "cell_type": "code",
   "execution_count": 22,
   "metadata": {
    "scrolled": true
   },
   "outputs": [
    {
     "name": "stdout",
     "output_type": "stream",
     "text": [
      "There are 1595 PV polygons for Oxnard\n"
     ]
    },
    {
     "data": {
      "text/html": [
       "<div>\n",
       "<style scoped>\n",
       "    .dataframe tbody tr th:only-of-type {\n",
       "        vertical-align: middle;\n",
       "    }\n",
       "\n",
       "    .dataframe tbody tr th {\n",
       "        vertical-align: top;\n",
       "    }\n",
       "\n",
       "    .dataframe thead th {\n",
       "        text-align: right;\n",
       "    }\n",
       "</style>\n",
       "<table border=\"1\" class=\"dataframe\">\n",
       "  <thead>\n",
       "    <tr style=\"text-align: right;\">\n",
       "      <th></th>\n",
       "      <th>polygon_id</th>\n",
       "      <th>centroid_latitude</th>\n",
       "      <th>centroid_longitude</th>\n",
       "      <th>centroid_latitude_pixels</th>\n",
       "      <th>centroid_longitude_pixels</th>\n",
       "      <th>city</th>\n",
       "      <th>area_pixels</th>\n",
       "      <th>area_meters</th>\n",
       "      <th>image_name</th>\n",
       "      <th>nw_corner_of_image_latitude</th>\n",
       "      <th>nw_corner_of_image_longitude</th>\n",
       "      <th>se_corner_of_image_latitude</th>\n",
       "      <th>se_corner_of_image_longitude</th>\n",
       "      <th>datum</th>\n",
       "      <th>projection_zone</th>\n",
       "      <th>resolution</th>\n",
       "      <th>jaccard_index</th>\n",
       "      <th>polygon_vertices_pixels</th>\n",
       "      <th>geometry</th>\n",
       "    </tr>\n",
       "  </thead>\n",
       "  <tbody>\n",
       "    <tr>\n",
       "      <th>0</th>\n",
       "      <td>15417</td>\n",
       "      <td>34.243116</td>\n",
       "      <td>-119.160561</td>\n",
       "      <td>2118.488363</td>\n",
       "      <td>3428.374855</td>\n",
       "      <td>Oxnard</td>\n",
       "      <td>90.020804</td>\n",
       "      <td>1000.231156</td>\n",
       "      <td>621051913</td>\n",
       "      <td>34.248828</td>\n",
       "      <td>-119.171986</td>\n",
       "      <td>34.238028</td>\n",
       "      <td>-119.151981</td>\n",
       "      <td>NAD83</td>\n",
       "      <td>0405</td>\n",
       "      <td>0.3</td>\n",
       "      <td>0.0</td>\n",
       "      <td>[ [ 3431.086221, 2143.6813189999998 ], [ 3414....</td>\n",
       "      <td>POLYGON ((-119.16055 34.24305, -119.16061 34.2...</td>\n",
       "    </tr>\n",
       "  </tbody>\n",
       "</table>\n",
       "</div>"
      ],
      "text/plain": [
       "   polygon_id  centroid_latitude  centroid_longitude  \\\n",
       "0       15417          34.243116         -119.160561   \n",
       "\n",
       "   centroid_latitude_pixels  centroid_longitude_pixels    city  area_pixels  \\\n",
       "0               2118.488363                3428.374855  Oxnard    90.020804   \n",
       "\n",
       "   area_meters image_name  nw_corner_of_image_latitude  \\\n",
       "0  1000.231156  621051913                    34.248828   \n",
       "\n",
       "   nw_corner_of_image_longitude  se_corner_of_image_latitude  \\\n",
       "0                   -119.171986                    34.238028   \n",
       "\n",
       "   se_corner_of_image_longitude  datum projection_zone  resolution  \\\n",
       "0                   -119.151981  NAD83            0405         0.3   \n",
       "\n",
       "   jaccard_index                            polygon_vertices_pixels  \\\n",
       "0            0.0  [ [ 3431.086221, 2143.6813189999998 ], [ 3414....   \n",
       "\n",
       "                                            geometry  \n",
       "0  POLYGON ((-119.16055 34.24305, -119.16061 34.2...  "
      ]
     },
     "execution_count": 22,
     "metadata": {},
     "output_type": "execute_result"
    }
   ],
   "source": [
    "labels = gpd.read_file(\"../Githubs/Mask_RCNN/datasets/solar/polygons/Oxnard_polygons.geojson\")\n",
    "print('There are {} PV polygons for Oxnard'.format(labels.shape[0]))\n",
    "labels.head(1)"
   ]
  },
  {
   "cell_type": "markdown",
   "metadata": {},
   "source": [
    "* Crop images\n",
    "\n",
    "If we use the same method as for other cities, i.e. `image_slicer`, we will get 100 images of size 400x600 pixels. To choose a specific splitting size, we need to use `rasterio.window`:"
   ]
  },
  {
   "cell_type": "code",
   "execution_count": 2,
   "metadata": {},
   "outputs": [],
   "source": [
    "filenames = glob.glob('../Githubs/Mask_RCNN/datasets/other solar/Oxnard/Oxnard_images/*.tif') # list image names\n",
    "filenames.sort()\n",
    "outfile = '../Githubs/Mask_RCNN/datasets/other solar/Oxnard/Oxnard_cropped_images/{}_{}_{}.tif' # define the path for cropped images"
   ]
  },
  {
   "cell_type": "code",
   "execution_count": 3,
   "metadata": {},
   "outputs": [],
   "source": [
    "def get_tiles(ds, width=500, height=500):\n",
    "    ncols, nrows = ds.meta['width'], ds.meta['height']\n",
    "    offsets = product(range(0, ncols, width), range(0, nrows, height))\n",
    "    big_window = rio.windows.Window(col_off=0, row_off=0, width=ncols, height=nrows)\n",
    "    for col_off, row_off in offsets:\n",
    "        window = rio.windows.Window(col_off=col_off, row_off=row_off, width=width, height=height).intersection(big_window)\n",
    "        transform = rio.windows.transform(window, ds.transform)\n",
    "        yield window, transform"
   ]
  },
  {
   "cell_type": "code",
   "execution_count": 9,
   "metadata": {},
   "outputs": [
    {
     "name": "stdout",
     "output_type": "stream",
     "text": [
      "\n",
      "96 images written in total\n"
     ]
    }
   ],
   "source": [
    "counter=0\n",
    "\n",
    "for image in filenames[10:11]:\n",
    "       \n",
    "    with rio.open(image) as inds:\n",
    "\n",
    "        meta = inds.meta.copy()\n",
    "        \n",
    "        for window, transform in get_tiles(inds):\n",
    "            meta['transform'] = transform\n",
    "            meta['width'], meta['height'] = window.width, window.height\n",
    "            outpath = outfile.format(image[-13:-4], int(window.col_off), int(window.row_off))\n",
    "            with rio.open(outpath, 'w', **meta) as outds:\n",
    "                outds.write(inds.read(window=window))\n",
    "            counter += 1\n",
    "\n",
    "print('\\n{} images written in total'.format(counter))"
   ]
  },
  {
   "cell_type": "markdown",
   "metadata": {},
   "source": [
    "But this doesn't give us image names in a correct format. So we will stick with the simpler `image_split` method, and set it to 144 images. We will get rectangular images of size 500x333, and we will just need to pad them with zeros as part of the Mask RCNN workflow."
   ]
  },
  {
   "cell_type": "code",
   "execution_count": 17,
   "metadata": {},
   "outputs": [
    {
     "data": {
      "text/plain": [
       "'618051897'"
      ]
     },
     "execution_count": 17,
     "metadata": {},
     "output_type": "execute_result"
    }
   ],
   "source": [
    "filenames = glob.glob('../Githubs/Mask_RCNN/datasets/other solar/Oxnard/Oxnard_images/*.tif') # list image names\n",
    "filenames.sort()\n",
    "filenames[0][-13:-4]"
   ]
  },
  {
   "cell_type": "code",
   "execution_count": 19,
   "metadata": {
    "scrolled": true
   },
   "outputs": [
    {
     "name": "stdout",
     "output_type": "stream",
     "text": [
      "0/75\n",
      "1/75\n",
      "2/75\n",
      "3/75\n",
      "4/75\n",
      "5/75\n",
      "6/75\n",
      "7/75\n",
      "8/75\n",
      "9/75\n",
      "10/75\n",
      "11/75\n",
      "12/75\n",
      "13/75\n",
      "14/75\n",
      "15/75\n",
      "16/75\n",
      "17/75\n",
      "18/75\n",
      "19/75\n",
      "20/75\n",
      "21/75\n",
      "22/75\n",
      "23/75\n",
      "24/75\n",
      "25/75\n",
      "26/75\n",
      "27/75\n",
      "28/75\n",
      "29/75\n",
      "30/75\n",
      "31/75\n",
      "32/75\n",
      "33/75\n",
      "34/75\n",
      "35/75\n",
      "36/75\n",
      "37/75\n",
      "38/75\n",
      "39/75\n",
      "40/75\n",
      "41/75\n",
      "42/75\n",
      "43/75\n",
      "44/75\n",
      "45/75\n",
      "46/75\n",
      "47/75\n",
      "48/75\n",
      "49/75\n",
      "50/75\n",
      "51/75\n",
      "52/75\n",
      "53/75\n",
      "54/75\n",
      "55/75\n",
      "56/75\n",
      "57/75\n",
      "58/75\n",
      "59/75\n",
      "60/75\n",
      "61/75\n",
      "62/75\n",
      "63/75\n",
      "64/75\n",
      "65/75\n",
      "66/75\n",
      "67/75\n",
      "68/75\n",
      "69/75\n",
      "70/75\n",
      "71/75\n",
      "72/75\n",
      "73/75\n",
      "74/75\n"
     ]
    }
   ],
   "source": [
    "n_images = len(filenames)\n",
    "for index, image in enumerate(filenames):\n",
    "    tiles = image_slicer.slice(image, 144, save=False)\n",
    "    image_slicer.save_tiles(tiles, directory='../Githubs/Mask_RCNN/datasets/other solar/Oxnard/Oxnard_cropped_images/',\n",
    "                            prefix=image[-13:-4], format='png')\n",
    "    print(\"{}/{}\".format(index+1, n_images))"
   ]
  },
  {
   "cell_type": "markdown",
   "metadata": {},
   "source": [
    "* Create masks (1 polygon per mask / based on original images)"
   ]
  },
  {
   "cell_type": "code",
   "execution_count": 25,
   "metadata": {
    "scrolled": true
   },
   "outputs": [
    {
     "name": "stderr",
     "output_type": "stream",
     "text": [
      "/Users/Thomas/opt/anaconda3/envs/total/lib/python3.7/site-packages/ipykernel_launcher.py:10: SettingWithCopyWarning: \n",
      "A value is trying to be set on a copy of a slice from a DataFrame.\n",
      "Try using .loc[row_indexer,col_indexer] = value instead\n",
      "\n",
      "See the caveats in the documentation: https://pandas.pydata.org/pandas-docs/stable/user_guide/indexing.html#returning-a-view-versus-a-copy\n",
      "  # Remove the CWD from sys.path while we load stuff.\n"
     ]
    },
    {
     "name": "stdout",
     "output_type": "stream",
     "text": [
      "1/75 - 2 polygon masks created for 620451913.tif\n",
      "2/75 - 10 polygon masks created for 619251917.tif\n",
      "3/75 - 5 polygon masks created for 619251877.tif\n",
      "4/75 - 0 polygon masks created for 620451873.tif\n",
      "5/75 - 18 polygon masks created for 619251889.tif\n",
      "6/75 - 25 polygon masks created for 619851901.tif\n",
      "7/75 - 0 polygon masks created for 621651881.tif\n",
      "8/75 - 0 polygon masks created for 619851877.tif\n",
      "9/75 - 0 polygon masks created for 621651897.tif\n",
      "10/75 - 29 polygon masks created for 619851917.tif\n",
      "11/75 - 0 polygon masks created for 621651909.tif\n",
      "12/75 - 4 polygon masks created for 619851889.tif\n",
      "13/75 - 160 polygon masks created for 619251901.tif\n",
      "14/75 - 41 polygon masks created for 620451905.tif\n",
      "15/75 - 103 polygon masks created for 620451901.tif\n",
      "16/75 - 7 polygon masks created for 619251905.tif\n",
      "17/75 - 0 polygon masks created for 618051909.tif\n",
      "18/75 - 0 polygon masks created for 619851913.tif\n",
      "19/75 - 0 polygon masks created for 619851873.tif\n",
      "20/75 - 0 polygon masks created for 621651893.tif\n",
      "21/75 - 0 polygon masks created for 618051897.tif\n",
      "22/75 - 1 polygon masks created for 621651885.tif\n",
      "23/75 - 41 polygon masks created for 619851905.tif\n",
      "24/75 - 19 polygon masks created for 620451889.tif\n",
      "25/75 - 40 polygon masks created for 620451877.tif\n",
      "26/75 - 16 polygon masks created for 619251913.tif\n",
      "27/75 - 5 polygon masks created for 620451917.tif\n",
      "28/75 - 0 polygon masks created for 618651909.tif\n",
      "29/75 - 11 polygon masks created for 618651897.tif\n",
      "30/75 - 39 polygon masks created for 621051893.tif\n",
      "31/75 - 25 polygon masks created for 621051885.tif\n",
      "32/75 - 0 polygon masks created for 618651881.tif\n",
      "33/75 - 3 polygon masks created for 618651885.tif\n",
      "34/75 - 8 polygon masks created for 621051881.tif\n",
      "35/75 - 185 polygon masks created for 621051897.tif\n",
      "36/75 - 24 polygon masks created for 618651893.tif\n",
      "37/75 - 9 polygon masks created for 621051909.tif\n",
      "38/75 - 17 polygon masks created for 621051905.tif\n",
      "39/75 - 0 polygon masks created for 618651901.tif\n",
      "40/75 - 0 polygon masks created for 621051873.tif\n",
      "41/75 - 15 polygon masks created for 618651917.tif\n",
      "42/75 - 13 polygon masks created for 621051913.tif\n",
      "43/75 - 4 polygon masks created for 618651889.tif\n",
      "44/75 - 6 polygon masks created for 621051889.tif\n",
      "45/75 - 4 polygon masks created for 621051917.tif\n",
      "46/75 - 0 polygon masks created for 618651913.tif\n",
      "47/75 - 0 polygon masks created for 621051877.tif\n",
      "48/75 - 0 polygon masks created for 618651905.tif\n",
      "49/75 - 48 polygon masks created for 621051901.tif\n",
      "50/75 - 8 polygon masks created for 621651889.tif\n",
      "51/75 - 4 polygon masks created for 619251881.tif\n",
      "52/75 - 20 polygon masks created for 619851909.tif\n",
      "53/75 - 19 polygon masks created for 620451885.tif\n",
      "54/75 - 0 polygon masks created for 618051913.tif\n",
      "55/75 - 4 polygon masks created for 621651917.tif\n",
      "56/75 - 0 polygon masks created for 621651877.tif\n",
      "57/75 - 6 polygon masks created for 619851897.tif\n",
      "58/75 - 13 polygon masks created for 619851881.tif\n",
      "59/75 - 0 polygon masks created for 619251909.tif\n",
      "60/75 - 323 polygon masks created for 621651901.tif\n",
      "61/75 - 0 polygon masks created for 618051905.tif\n",
      "62/75 - 26 polygon masks created for 620451893.tif\n",
      "63/75 - 0 polygon masks created for 619251897.tif\n",
      "64/75 - 17 polygon masks created for 619251893.tif\n",
      "65/75 - 24 polygon masks created for 620451897.tif\n",
      "66/75 - 0 polygon masks created for 618051901.tif\n",
      "67/75 - 4 polygon masks created for 621651905.tif\n",
      "68/75 - 22 polygon masks created for 619851885.tif\n",
      "69/75 - 96 polygon masks created for 620451909.tif\n",
      "70/75 - 0 polygon masks created for 621651873.tif\n",
      "71/75 - 26 polygon masks created for 619851893.tif\n",
      "72/75 - 0 polygon masks created for 621651913.tif\n",
      "73/75 - 15 polygon masks created for 618051917.tif\n",
      "74/75 - 28 polygon masks created for 620451881.tif\n",
      "75/75 - 3 polygon masks created for 619251885.tif\n",
      "\n",
      "1595 masks written in total\n"
     ]
    }
   ],
   "source": [
    "total = 0\n",
    "path = '../Githubs/Mask_RCNN/datasets/other solar/Oxnard/Oxnard_images/'\n",
    "filenames = os.listdir(path)\n",
    "nb_images = len(filenames)\n",
    "\n",
    "for index, image in enumerate(filenames):\n",
    "    \n",
    "    # Extract pixel coordinates of polygons\n",
    "    polygons = labels[labels['image_name'] == image[:-4]]\n",
    "    polygons['pixel_polygons'] = polygons.polygon_vertices_pixels.apply(lambda x: literal_eval(x))\n",
    "    \n",
    "    pixel_coord = []\n",
    "    for sub_list in list(polygons.pixel_polygons):\n",
    "        new_sub_list = [item for tuples in sub_list for item in tuples]\n",
    "        pixel_coord.append(new_sub_list)\n",
    "    \n",
    "    counter = len(pixel_coord)\n",
    "    \n",
    "    # Create mask\n",
    "    width=6000\n",
    "    height=4000\n",
    "    for i in range(len(pixel_coord)):\n",
    "        img = Image.new('L', (width, height), 0) # 'L' = 8-bit pixels, black and white\n",
    "        ImageDraw.Draw(img).polygon(pixel_coord[i], outline=1, fill=1) # polygon = [(x1,y1),(x2,y2),...] or [x1,y1,x2,y2,...]\n",
    "        mask_i = np.array(img)\n",
    "        mask = np.zeros((4000,6000))\n",
    "        mask += mask_i\n",
    "        mask = img_as_ubyte(mask)\n",
    "\n",
    "        # Write to disk\n",
    "        imageio.imwrite('../Githubs/Mask_RCNN/datasets/other solar/Oxnard/Oxnard_masks/{}_{}.png'.format(i, image[:-4]), mask)    \n",
    "\n",
    "    # Clip overlapping polygons to binary values\n",
    "    #mask = np.clip(mask, 0, 1)\n",
    "    #masks.append(mask)\n",
    "\n",
    "    print('{}/{} - {} polygon masks created for {}'.format(index+1, nb_images, counter, image))\n",
    "    total += counter\n",
    "\n",
    "print('\\n{} masks written in total'.format(total))"
   ]
  },
  {
   "cell_type": "markdown",
   "metadata": {},
   "source": [
    "We can remark here that lots of images of Oxnard do not have solar panels!"
   ]
  },
  {
   "cell_type": "markdown",
   "metadata": {},
   "source": [
    "* Crop masks through all polygon mask layers and save only non-empty masks"
   ]
  },
  {
   "cell_type": "code",
   "execution_count": 29,
   "metadata": {
    "scrolled": true
   },
   "outputs": [
    {
     "name": "stdout",
     "output_type": "stream",
     "text": [
      "25/1595\n",
      "50/1595\n",
      "75/1595\n",
      "100/1595\n",
      "125/1595\n",
      "150/1595\n",
      "175/1595\n",
      "200/1595\n",
      "225/1595\n",
      "250/1595\n",
      "275/1595\n",
      "300/1595\n",
      "325/1595\n",
      "350/1595\n",
      "375/1595\n",
      "400/1595\n",
      "425/1595\n",
      "450/1595\n",
      "475/1595\n",
      "500/1595\n",
      "525/1595\n",
      "550/1595\n",
      "575/1595\n",
      "600/1595\n",
      "625/1595\n",
      "650/1595\n",
      "675/1595\n",
      "700/1595\n",
      "725/1595\n",
      "750/1595\n",
      "775/1595\n",
      "800/1595\n",
      "825/1595\n",
      "850/1595\n",
      "875/1595\n",
      "900/1595\n",
      "925/1595\n",
      "950/1595\n",
      "975/1595\n",
      "1000/1595\n",
      "1025/1595\n",
      "1050/1595\n",
      "1075/1595\n",
      "1100/1595\n",
      "1125/1595\n",
      "1150/1595\n",
      "1175/1595\n",
      "1200/1595\n",
      "1225/1595\n",
      "1250/1595\n",
      "1275/1595\n",
      "1300/1595\n",
      "1325/1595\n",
      "1350/1595\n",
      "1375/1595\n",
      "1400/1595\n",
      "1425/1595\n",
      "1450/1595\n",
      "1475/1595\n",
      "1500/1595\n",
      "1525/1595\n",
      "1550/1595\n",
      "1575/1595\n",
      "1806 cropped masks saved in total.\n"
     ]
    }
   ],
   "source": [
    "path = '../Githubs/Mask_RCNN/datasets/other solar/Oxnard/Oxnard_masks/'\n",
    "filenames = os.listdir(path)\n",
    "n_masks = len(filenames)\n",
    "counter=0\n",
    "for index, image in enumerate(filenames):\n",
    "    tiles = image_slicer.slice(path+image, 144, save=False)\n",
    "    tiles2=np.asarray(tiles)\n",
    "    for i in range(len(tiles2)):\n",
    "        if np.asarray(tiles2[i].image).max() != 0:\n",
    "            image_slicer.save_tiles(tiles[i:i+1], directory='../Githubs/Mask_RCNN/datasets/other solar/Oxnard/Oxnard_cropped_masks/',\n",
    "                                    prefix=image[:-4], format='png')\n",
    "            counter += 1\n",
    "    if (index+1)%25 == 0:\n",
    "        print(\"{}/{}\".format(index+1, n_masks)) \n",
    "print(counter,'cropped masks saved in total.')"
   ]
  },
  {
   "cell_type": "markdown",
   "metadata": {},
   "source": [
    "* Compare with image chunks and delete images without solar arrays"
   ]
  },
  {
   "cell_type": "code",
   "execution_count": 31,
   "metadata": {},
   "outputs": [
    {
     "name": "stdout",
     "output_type": "stream",
     "text": [
      "483\n"
     ]
    },
    {
     "data": {
      "text/plain": [
       "['621651901_09_11',\n",
       " '620451901_01_06',\n",
       " '620451897_06_03',\n",
       " '619251901_03_11',\n",
       " '621051897_07_07',\n",
       " '619251901_04_11',\n",
       " '619251893_11_07',\n",
       " '621651901_08_11',\n",
       " '621651901_08_10',\n",
       " '618651917_03_06',\n",
       " '620451897_03_05',\n",
       " '619851893_12_05',\n",
       " '620451901_01_01',\n",
       " '621051901_11_04',\n",
       " '621051893_02_05',\n",
       " '621051897_06_07',\n",
       " '620451909_01_02',\n",
       " '620451909_05_01',\n",
       " '619251901_02_11',\n",
       " '620451901_01_02',\n",
       " '618651897_12_05',\n",
       " '620451909_07_04',\n",
       " '620451909_02_11',\n",
       " '621651901_09_02',\n",
       " '619851885_08_11',\n",
       " '620451893_05_03',\n",
       " '619251881_01_06',\n",
       " '619851905_08_10',\n",
       " '620451877_05_05',\n",
       " '619851917_03_12',\n",
       " '621051897_08_07',\n",
       " '620451897_03_04',\n",
       " '621651901_07_11',\n",
       " '620451877_01_11',\n",
       " '621051901_10_04',\n",
       " '621051893_09_07',\n",
       " '621651901_11_02',\n",
       " '620451881_09_02',\n",
       " '618651893_03_05',\n",
       " '621051893_02_04',\n",
       " '619851885_12_01',\n",
       " '619251889_06_10',\n",
       " '621651901_08_02',\n",
       " '621051905_02_05',\n",
       " '619251889_08_04',\n",
       " '619851905_02_09',\n",
       " '621051909_06_11',\n",
       " '620451901_10_04',\n",
       " '621651901_10_02',\n",
       " '619851901_03_04',\n",
       " '620451905_02_01',\n",
       " '620451893_04_12',\n",
       " '621051905_02_04',\n",
       " '620451909_03_11',\n",
       " '620451901_12_01',\n",
       " '619851905_07_02',\n",
       " '618651893_11_08',\n",
       " '619251901_03_12',\n",
       " '619851909_11_04',\n",
       " '619851905_10_05',\n",
       " '621051901_07_02',\n",
       " '620451901_04_06',\n",
       " '621051881_05_08',\n",
       " '618651893_09_06',\n",
       " '619851917_03_10',\n",
       " '619851885_12_03',\n",
       " '618051917_01_04',\n",
       " '621051909_04_10',\n",
       " '618051917_01_03',\n",
       " '619851917_09_08',\n",
       " '619851905_03_08',\n",
       " '619851901_03_05',\n",
       " '619251889_04_11',\n",
       " '620451901_04_11',\n",
       " '619851885_11_03',\n",
       " '620451889_07_01',\n",
       " '620451889_05_11',\n",
       " '621651901_07_10',\n",
       " '620451901_08_04',\n",
       " '620451885_03_03',\n",
       " '621051901_08_02',\n",
       " '620451909_07_02',\n",
       " '619851889_05_09',\n",
       " '621051909_04_11',\n",
       " '619851893_08_09',\n",
       " '620451905_12_02',\n",
       " '621651901_11_01',\n",
       " '620451881_02_05',\n",
       " '621051885_11_08',\n",
       " '620451901_01_12',\n",
       " '619251889_02_05',\n",
       " '621051889_07_11',\n",
       " '621051917_05_09',\n",
       " '620451881_02_07',\n",
       " '620451901_01_05',\n",
       " '621051901_08_05',\n",
       " '621051913_11_02',\n",
       " '620451905_11_12',\n",
       " '621051897_03_01',\n",
       " '620451877_05_04',\n",
       " '620451889_09_12',\n",
       " '619851905_07_03',\n",
       " '620451901_03_05',\n",
       " '620451897_01_10',\n",
       " '620451893_02_11',\n",
       " '619251889_08_03',\n",
       " '620451913_03_11',\n",
       " '621051913_10_08',\n",
       " '621051897_01_03',\n",
       " '619251889_04_02',\n",
       " '618651889_04_12',\n",
       " '621051905_02_03',\n",
       " '620451913_11_11',\n",
       " '620451913_03_10',\n",
       " '619851909_11_10',\n",
       " '619851893_02_12',\n",
       " '619851917_07_07',\n",
       " '618651885_02_11',\n",
       " '619851917_06_11',\n",
       " '619851889_12_01',\n",
       " '619851893_12_07',\n",
       " '620451905_10_12',\n",
       " '620451897_07_10',\n",
       " '620451885_11_03',\n",
       " '619851905_07_06',\n",
       " '619851893_09_03',\n",
       " '621651901_10_01',\n",
       " '619251905_04_08',\n",
       " '621051885_01_04',\n",
       " '620451905_11_02',\n",
       " '621051909_08_07',\n",
       " '619851905_07_08',\n",
       " '621051881_02_11',\n",
       " '619851881_09_05',\n",
       " '620451901_11_04',\n",
       " '621051917_12_01',\n",
       " '620451905_10_05',\n",
       " '620451909_11_03',\n",
       " '620451885_01_07',\n",
       " '621051885_01_05',\n",
       " '619851917_07_09',\n",
       " '619251877_02_09',\n",
       " '619251893_01_10',\n",
       " '621051901_01_01',\n",
       " '620451885_01_06',\n",
       " '620451909_11_02',\n",
       " '621651885_01_02',\n",
       " '620451901_08_08',\n",
       " '619851893_11_03',\n",
       " '619851893_12_02',\n",
       " '619251905_01_03',\n",
       " '619851893_06_09',\n",
       " '619851881_03_12',\n",
       " '620451885_02_08',\n",
       " '619851917_06_09',\n",
       " '620451901_07_05',\n",
       " '619851905_06_09',\n",
       " '619851909_11_12',\n",
       " '619851897_10_07',\n",
       " '619251901_02_12',\n",
       " '621051893_08_07',\n",
       " '619851885_07_09',\n",
       " '619251889_05_08',\n",
       " '621051913_09_04',\n",
       " '620451901_08_02',\n",
       " '621651889_03_02',\n",
       " '619851905_12_12',\n",
       " '620451901_06_07',\n",
       " '621051885_05_07',\n",
       " '620451901_04_05',\n",
       " '620451901_11_07',\n",
       " '620451917_04_02',\n",
       " '619851909_05_12',\n",
       " '619251877_01_10',\n",
       " '620451901_11_06',\n",
       " '621651889_03_01',\n",
       " '620451889_11_04',\n",
       " '621051913_09_05',\n",
       " '621051885_10_07',\n",
       " '619851885_05_02',\n",
       " '621051909_02_06',\n",
       " '619851885_10_03',\n",
       " '620451885_07_03',\n",
       " '621051881_06_01',\n",
       " '620451909_05_04',\n",
       " '620451901_09_06',\n",
       " '619851917_01_10',\n",
       " '620451901_11_01',\n",
       " '621051889_11_02',\n",
       " '619251893_07_10',\n",
       " '619851901_06_10',\n",
       " '620451905_04_05',\n",
       " '620451901_12_05',\n",
       " '620451901_06_02',\n",
       " '619851889_03_08',\n",
       " '621051909_02_10',\n",
       " '619851905_01_12',\n",
       " '618051917_05_05',\n",
       " '620451901_09_10',\n",
       " '619251889_12_12',\n",
       " '620451905_04_04',\n",
       " '619851889_03_09',\n",
       " '618051917_05_06',\n",
       " '620451889_12_09',\n",
       " '619851909_09_12',\n",
       " '620451885_07_02',\n",
       " '621051901_07_01',\n",
       " '620451905_06_06',\n",
       " '618651893_05_06',\n",
       " '621051905_10_01',\n",
       " '620451889_11_05',\n",
       " '620451901_08_01',\n",
       " '620451905_10_08',\n",
       " '619251885_08_01',\n",
       " '621651917_06_04',\n",
       " '619851901_02_10',\n",
       " '619851901_02_03',\n",
       " '620451905_11_07',\n",
       " '620451905_06_07',\n",
       " '619851909_09_06',\n",
       " '619851905_03_03',\n",
       " '621051901_05_04',\n",
       " '620451901_02_12',\n",
       " '620451881_03_01',\n",
       " '620451893_03_01',\n",
       " '620451889_03_06',\n",
       " '620451893_11_10',\n",
       " '621051889_01_05',\n",
       " '619251905_05_10',\n",
       " '619851917_07_02',\n",
       " '620451901_06_06',\n",
       " '620451905_04_03',\n",
       " '619851909_12_09',\n",
       " '619251917_02_09',\n",
       " '621051913_07_07',\n",
       " '619851893_04_03',\n",
       " '619851905_10_07',\n",
       " '619251901_04_12',\n",
       " '620451885_01_02',\n",
       " '620451901_03_06',\n",
       " '621051885_11_07',\n",
       " '621051905_06_02',\n",
       " '621051905_10_02',\n",
       " '621051905_08_06',\n",
       " '620451881_01_12',\n",
       " '619851917_08_12',\n",
       " '619851885_10_04',\n",
       " '620451909_09_03',\n",
       " '619251889_02_10',\n",
       " '621051905_04_01',\n",
       " '619851917_01_05',\n",
       " '619251905_02_08',\n",
       " '619851917_03_05',\n",
       " '621051893_05_04',\n",
       " '618651893_10_07',\n",
       " '621051905_04_05',\n",
       " '621051885_09_08',\n",
       " '619251913_01_03',\n",
       " '621051901_09_05',\n",
       " '619851905_04_06',\n",
       " '618051917_12_03',\n",
       " '621651905_04_09',\n",
       " '621051917_04_08',\n",
       " '620451893_03_12',\n",
       " '619851917_04_12',\n",
       " '618651897_11_06',\n",
       " '621051901_02_01',\n",
       " '620451885_02_06',\n",
       " '621051901_11_03',\n",
       " '620451881_01_05',\n",
       " '619851885_07_11',\n",
       " '621651905_04_08',\n",
       " '619851893_08_04',\n",
       " '620451885_02_02',\n",
       " '621051893_10_07',\n",
       " '619851917_08_08',\n",
       " '620451877_01_10',\n",
       " '619251917_02_03',\n",
       " '621651901_09_10',\n",
       " '621051901_09_06',\n",
       " '621051885_02_05',\n",
       " '619251893_02_10',\n",
       " '620451917_01_01',\n",
       " '619251877_01_09',\n",
       " '621051905_11_01',\n",
       " '620451893_01_11',\n",
       " '620451905_12_07',\n",
       " '619251917_02_02',\n",
       " '621051893_12_05',\n",
       " '618051917_06_05',\n",
       " '620451893_06_10',\n",
       " '620451905_03_02',\n",
       " '620451889_06_02',\n",
       " '620451897_12_11',\n",
       " '619851893_08_10',\n",
       " '621051901_02_05',\n",
       " '619851893_06_03',\n",
       " '618651885_01_11',\n",
       " '620451901_05_02',\n",
       " '618051917_06_04',\n",
       " '621051909_07_11',\n",
       " '620451885_02_07',\n",
       " '619851893_04_11',\n",
       " '620451905_12_05',\n",
       " '619851909_12_10',\n",
       " '620451901_05_10',\n",
       " '619851905_07_09',\n",
       " '619851905_10_09',\n",
       " '620451897_02_03',\n",
       " '620451901_05_01',\n",
       " '621051885_02_12',\n",
       " '619851881_10_05',\n",
       " '621051905_01_02',\n",
       " '621051881_01_11',\n",
       " '619851917_01_09',\n",
       " '621051885_12_08',\n",
       " '621051913_12_12',\n",
       " '619851905_08_02',\n",
       " '621051901_07_05',\n",
       " '619251905_02_07',\n",
       " '620451901_05_11',\n",
       " '620451889_06_01',\n",
       " '619251893_12_07',\n",
       " '621051917_04_09',\n",
       " '619851885_11_01',\n",
       " '619251889_07_04',\n",
       " '621051909_10_09',\n",
       " '620451905_12_01',\n",
       " '620451909_06_01',\n",
       " '619851909_11_09',\n",
       " '618651893_05_08',\n",
       " '619851881_08_12',\n",
       " '619851905_10_08',\n",
       " '619851885_05_01',\n",
       " '619251905_02_11',\n",
       " '621651901_09_01',\n",
       " '619851909_11_08',\n",
       " '619851885_05_03',\n",
       " '619851905_11_05',\n",
       " '620451909_06_04',\n",
       " '621051897_02_01',\n",
       " '621051885_02_04',\n",
       " '621051905_09_01',\n",
       " '619851881_04_11',\n",
       " '621051901_12_02',\n",
       " '619851901_06_08',\n",
       " '619851909_12_04',\n",
       " '620451905_05_11',\n",
       " '621051913_10_05',\n",
       " '619851917_04_06',\n",
       " '620451885_06_05',\n",
       " '620451885_02_01',\n",
       " '620451889_06_10',\n",
       " '619251917_05_09',\n",
       " '620451885_02_10',\n",
       " '620451897_07_05',\n",
       " '620451901_02_06',\n",
       " '621051889_04_02',\n",
       " '619851909_10_03',\n",
       " '619851909_12_05',\n",
       " '619851901_07_05',\n",
       " '620451881_08_02',\n",
       " '619251905_07_09',\n",
       " '621051913_10_06',\n",
       " '619251889_07_06',\n",
       " '621051889_04_01',\n",
       " '620451909_10_01',\n",
       " '621051913_10_07',\n",
       " '620451909_02_02',\n",
       " '621051905_03_03',\n",
       " '620451897_04_12',\n",
       " '619851917_07_11',\n",
       " '619851917_04_04',\n",
       " '621051905_09_02',\n",
       " '621051881_03_10',\n",
       " '620451905_10_01',\n",
       " '620451909_08_02',\n",
       " '619251893_06_06',\n",
       " '621051893_01_05',\n",
       " '620451881_06_05',\n",
       " '620451901_02_07',\n",
       " '621051905_03_05',\n",
       " '621051885_10_08',\n",
       " '621051893_01_04',\n",
       " '621051893_03_05',\n",
       " '620451889_04_01',\n",
       " '619851901_05_10',\n",
       " '621651889_04_01',\n",
       " '621651901_12_10',\n",
       " '619251881_02_07',\n",
       " '621051893_03_04',\n",
       " '620451897_02_04',\n",
       " '620451877_02_05',\n",
       " '620451909_06_03',\n",
       " '620451917_03_02',\n",
       " '620451909_10_02',\n",
       " '619251889_07_03',\n",
       " '620451905_11_08',\n",
       " '620451897_06_10',\n",
       " '619251885_05_12',\n",
       " '618651897_09_05',\n",
       " '619851909_04_12',\n",
       " '618651893_04_06',\n",
       " '619251893_06_02',\n",
       " '621651917_05_04',\n",
       " '619851905_06_04',\n",
       " '619251893_06_05',\n",
       " '621051897_04_09',\n",
       " '620451885_04_01',\n",
       " '620451897_04_10',\n",
       " '618051917_04_01',\n",
       " '620451909_01_04',\n",
       " '619851901_01_05',\n",
       " '620451901_11_05',\n",
       " '620451893_12_10',\n",
       " '619851893_10_11',\n",
       " '620451881_05_12',\n",
       " '621051881_05_05',\n",
       " '620451901_05_04',\n",
       " '620451909_06_05',\n",
       " '619851901_01_04',\n",
       " '621051901_04_07',\n",
       " '620451901_05_06',\n",
       " '621651889_12_02',\n",
       " '619851897_11_05',\n",
       " '620451901_05_05',\n",
       " '619851905_02_03',\n",
       " '619851897_01_11',\n",
       " '621651905_09_03',\n",
       " '621051901_04_04',\n",
       " '621051881_05_10',\n",
       " '619851917_02_04',\n",
       " '619251885_07_01',\n",
       " '619851909_06_12',\n",
       " '620451897_04_05',\n",
       " '621651889_02_02',\n",
       " '620451909_02_01',\n",
       " '619251889_05_11',\n",
       " '619251889_01_10',\n",
       " '620451885_04_03',\n",
       " '619251893_06_12',\n",
       " '620451905_05_12',\n",
       " '620451909_04_11',\n",
       " '618051917_04_06',\n",
       " '620451917_05_02',\n",
       " '620451877_06_05',\n",
       " '619851917_07_12',\n",
       " '619851905_12_06',\n",
       " '618651889_03_10',\n",
       " '619851881_07_09',\n",
       " '620451889_06_03',\n",
       " '619851885_03_12',\n",
       " '621051913_12_05',\n",
       " '620451905_07_01',\n",
       " '620451881_12_02',\n",
       " '619851917_02_05',\n",
       " '620451885_01_08',\n",
       " '619851905_06_03',\n",
       " '620451889_02_04',\n",
       " '620451889_02_05',\n",
       " '619851901_03_10',\n",
       " '621651917_07_04',\n",
       " '621051909_01_10',\n",
       " '620451909_02_04',\n",
       " '621651901_08_01',\n",
       " '619251881_08_07',\n",
       " '620451905_09_12',\n",
       " '619851905_08_09',\n",
       " '620451885_04_05',\n",
       " '620451885_08_01',\n",
       " '619251905_04_10',\n",
       " '620451905_11_01',\n",
       " '621651905_09_04',\n",
       " '620451905_06_03',\n",
       " '620451905_10_07',\n",
       " '620451901_07_03',\n",
       " '619851893_02_06',\n",
       " '618051917_06_07',\n",
       " '619851901_02_08',\n",
       " '619851905_09_05',\n",
       " '620451909_08_04',\n",
       " '620451901_05_07',\n",
       " '619851905_02_04']"
      ]
     },
     "execution_count": 31,
     "metadata": {},
     "output_type": "execute_result"
    }
   ],
   "source": [
    "path='../Githubs/Mask_RCNN/datasets/other solar/Oxnard/Oxnard_cropped_masks/'\n",
    "to_keep = os.listdir(path)\n",
    "to_keep = [x[:-4] for x in to_keep]\n",
    "to_keep = [x[-15:] for x in to_keep]\n",
    "to_keep = list(dict.fromkeys(to_keep)) # Creating a dictionary will automatically delete duplicates!\n",
    "print(len(to_keep))\n",
    "to_keep"
   ]
  },
  {
   "cell_type": "code",
   "execution_count": 32,
   "metadata": {},
   "outputs": [],
   "source": [
    "path = '../Githubs/Mask_RCNN/datasets/other solar/Oxnard/Oxnard_cropped_images/'\n",
    "for filename in os.listdir(path):\n",
    "    if filename[:-4] not in to_keep: os.remove(path+filename)"
   ]
  },
  {
   "cell_type": "markdown",
   "metadata": {},
   "source": [
    "* Rename cropped masks properly"
   ]
  },
  {
   "cell_type": "code",
   "execution_count": 38,
   "metadata": {},
   "outputs": [
    {
     "name": "stdout",
     "output_type": "stream",
     "text": [
      "1805 masks succesfully renamed.\n"
     ]
    }
   ],
   "source": [
    "path='../Githubs/Mask_RCNN/datasets/other solar/Oxnard/Oxnard_cropped_masks/'\n",
    "\n",
    "for counter, filename in enumerate(os.listdir(path)): \n",
    "    if len(filename) == 21:\n",
    "        new_name = filename[2:-4] + '_' + filename[0] + filename[-4:]\n",
    "    elif len(filename) == 22:\n",
    "        new_name = filename[3:-4] + '_' + filename[0:2] + filename[-4:]\n",
    "    elif len(filename) == 23:\n",
    "        new_name = filename[4:-4] + '_' + filename[0:3] + filename[-4:]\n",
    "    else:\n",
    "        new_name = filename[5:-4] + '_' + filename[0:4] + filename[-4:]\n",
    "\n",
    "    os.rename(os.path.join(path, filename), os.path.join(path, new_name))\n",
    "\n",
    "print(counter+1, 'masks succesfully renamed.')"
   ]
  },
  {
   "cell_type": "markdown",
   "metadata": {},
   "source": [
    "## Functions for Mask R-CNN"
   ]
  },
  {
   "cell_type": "markdown",
   "metadata": {},
   "source": [
    "For training, we will use the free GPU available on Google Colab. You can run the command `!nvidia-smi` in Colab to check GP specs - it's usually a NVIDIA Tesla P100 with 16Gb RAM. Training is also possible on Colab, with an NVIDIA Tesla T4 16Gb RAM, with roughly equivalent performance."
   ]
  },
  {
   "cell_type": "markdown",
   "metadata": {},
   "source": [
    "### Load images and masks from files"
   ]
  },
  {
   "cell_type": "markdown",
   "metadata": {},
   "source": [
    "To adapt the Mask R-CNN `Dataset` class, which loads and prepares the dataset for training, we need:\n",
    "* a `load_images` function that takes as arguments _self_ and _dataset_dir_, and adds the classes and pre-processed images to _self_ (see balloons example)\n",
    "* a `load_masks` function that takes as arguments an image and returns its mask.\n",
    "\n",
    "I used `balloons.py` and other examples to get how it works exactly, and below you will find some experiments that helped me build functions for `solar.py`."
   ]
  },
  {
   "cell_type": "code",
   "execution_count": 21,
   "metadata": {
    "scrolled": true
   },
   "outputs": [],
   "source": [
    "dataset_dir = '/Users/Thomas/Documents/Data Science X/Stage/Total/Solar Panels/Githubs/Mask_RCNN/datasets/solar'\n",
    "subset = 'train'\n",
    "dataset_dir = os.path.join(dataset_dir, subset)"
   ]
  },
  {
   "cell_type": "code",
   "execution_count": 22,
   "metadata": {
    "scrolled": true
   },
   "outputs": [
    {
     "data": {
      "text/plain": [
       "['10sfg735670_02_05.png',\n",
       " '10sfg735670_05_08.png',\n",
       " '10sfg735670_04_01.png',\n",
       " '10sfg735670_02_06.png',\n",
       " '10sfg735670_05_05.png']"
      ]
     },
     "execution_count": 22,
     "metadata": {},
     "output_type": "execute_result"
    }
   ],
   "source": [
    "# All the following lines do the same, i.e. get image ids from file names in directory\n",
    "image_ids = os.listdir(dataset_dir)\n",
    "image_ids = next(os.walk(dataset_dir))[2]\n",
    "image_ids = list(set(image_ids)) # set = unordered list, in {}\n",
    "image_ids"
   ]
  },
  {
   "cell_type": "code",
   "execution_count": 23,
   "metadata": {},
   "outputs": [
    {
     "data": {
      "text/plain": [
       "['10sfg735670_02_05',\n",
       " '10sfg735670_05_08',\n",
       " '10sfg735670_04_01',\n",
       " '10sfg735670_02_06',\n",
       " '10sfg735670_05_05']"
      ]
     },
     "execution_count": 23,
     "metadata": {},
     "output_type": "execute_result"
    }
   ],
   "source": [
    "image_ids = [image_id[:-4] for image_id in image_ids]\n",
    "image_ids"
   ]
  },
  {
   "cell_type": "code",
   "execution_count": 24,
   "metadata": {},
   "outputs": [
    {
     "data": {
      "text/plain": [
       "'/Users/Thomas/Documents/Data Science X/Stage/Total/Solar Panels/Githubs/Mask_RCNN/datasets/solar/train/10sfg735670_02_05.png'"
      ]
     },
     "execution_count": 24,
     "metadata": {},
     "output_type": "execute_result"
    }
   ],
   "source": [
    "os.path.join(dataset_dir, image_ids[0] + \".png\")"
   ]
  },
  {
   "cell_type": "markdown",
   "metadata": {},
   "source": [
    "* Load masks (from .png files)"
   ]
  },
  {
   "cell_type": "code",
   "execution_count": 27,
   "metadata": {},
   "outputs": [
    {
     "data": {
      "text/plain": [
       "'/Users/Thomas/Documents/Data Science X/Stage/Total/Solar Panels/Githubs/Mask_RCNN/datasets/solar/masks'"
      ]
     },
     "execution_count": 27,
     "metadata": {},
     "output_type": "execute_result"
    }
   ],
   "source": [
    "# Get mask directory from image path\n",
    "mask_dir = os.path.join(os.path.dirname(os.path.dirname('/Users/Thomas/Documents/Data Science X/Stage/Total/Solar Panels/Githubs/Mask_RCNN/datasets/solar/train/10sfg735670_02_05.png')), \"masks\") # 2 levels above images\n",
    "mask_dir"
   ]
  },
  {
   "cell_type": "code",
   "execution_count": 40,
   "metadata": {
    "scrolled": true
   },
   "outputs": [
    {
     "data": {
      "text/plain": [
       "(500, 500, 3)"
      ]
     },
     "execution_count": 40,
     "metadata": {},
     "output_type": "execute_result"
    }
   ],
   "source": [
    "# For each image, read mask files from .png images\n",
    "\n",
    "image_id = '10sfg735670_05_05'\n",
    "mask = []\n",
    "for f in next(os.walk(mask_dir))[2]:\n",
    "    if f.startswith(image_id):\n",
    "        m = io.imread(os.path.join(mask_dir, f)).astype(np.bool)\n",
    "        mask.append(m)\n",
    "mask = np.stack(mask, axis=-1)\n",
    "\n",
    "mask.shape"
   ]
  },
  {
   "cell_type": "markdown",
   "metadata": {},
   "source": [
    "### Add relative luminance"
   ]
  },
  {
   "cell_type": "markdown",
   "metadata": {},
   "source": [
    "Relative luminance is a measure of brightness. It could be useful when trying to detect solar panels, which often reflect solar light and appear brighter than their environment in aerial images.\n",
    "\n",
    "Relative luminance, noted Y, is computed as a weighted average of the R, G and B colour channels:\n",
    "\n",
    "$$ Y = 0.2126R + 0.7152G + 0.0722B $$\n",
    "\n",
    "Before training, we will compute and add the Y channel to all the images in our dataset."
   ]
  },
  {
   "cell_type": "code",
   "execution_count": 31,
   "metadata": {
    "scrolled": true
   },
   "outputs": [],
   "source": [
    "def add_rel_lum(image_id):\n",
    "    image = io.imread(image_id)\n",
    "    rel_lum_layer = 0.2126*image[:,:,0] + 0.7152*image[:,:,1] + 0.0722*image[:,:,2]\n",
    "    new_image = np.dstack((image, rel_lum_layer))\n",
    "    return new_image"
   ]
  },
  {
   "cell_type": "markdown",
   "metadata": {},
   "source": [
    "Remark: `skimage` reads images as RGB, same as `PIL`. `opencv` reads them as BGR. With `PIL`, you can check using `image.mode` (returns 'RGB')."
   ]
  },
  {
   "cell_type": "code",
   "execution_count": 23,
   "metadata": {},
   "outputs": [],
   "source": [
    "image_id = '../Githubs/Mask_RCNN/datasets/solar/Modesto/Modesto_cropped/10sfg735670_02_05.png'\n",
    "image = io.imread(image_id)"
   ]
  },
  {
   "cell_type": "code",
   "execution_count": 24,
   "metadata": {},
   "outputs": [
    {
     "data": {
      "text/plain": [
       "(500, 500, 3)"
      ]
     },
     "execution_count": 24,
     "metadata": {},
     "output_type": "execute_result"
    }
   ],
   "source": [
    "image.shape"
   ]
  },
  {
   "cell_type": "code",
   "execution_count": 25,
   "metadata": {
    "scrolled": true
   },
   "outputs": [
    {
     "data": {
      "image/png": "[encoded data removed]",
      "text/plain": [
       "<Figure size 432x288 with 1 Axes>"
      ]
     },
     "metadata": {
      "needs_background": "light"
     },
     "output_type": "display_data"
    }
   ],
   "source": [
    "plt.imshow(image);"
   ]
  },
  {
   "cell_type": "code",
   "execution_count": 32,
   "metadata": {},
   "outputs": [],
   "source": [
    "new_image = add_rel_lum(image_id)"
   ]
  },
  {
   "cell_type": "code",
   "execution_count": 33,
   "metadata": {},
   "outputs": [
    {
     "data": {
      "text/plain": [
       "(500, 500, 4)"
      ]
     },
     "execution_count": 33,
     "metadata": {},
     "output_type": "execute_result"
    }
   ],
   "source": [
    "new_image.shape"
   ]
  },
  {
   "cell_type": "code",
   "execution_count": 40,
   "metadata": {
    "scrolled": true
   },
   "outputs": [
    {
     "data": {
      "image/png": "[encoded data removed]",
      "text/plain": [
       "<Figure size 432x288 with 1 Axes>"
      ]
     },
     "metadata": {
      "needs_background": "light"
     },
     "output_type": "display_data"
    }
   ],
   "source": [
    "plt.imshow(new_image[...,3]); # doesn't show true colors"
   ]
  },
  {
   "cell_type": "code",
   "execution_count": null,
   "metadata": {},
   "outputs": [],
   "source": []
  }
 ],
 "metadata": {
  "kernelspec": {
   "display_name": "Python [conda env:total]",
   "language": "python",
   "name": "conda-env-total-py"
  },
  "language_info": {
   "codemirror_mode": {
    "name": "ipython",
    "version": 3
   },
   "file_extension": ".py",
   "mimetype": "text/x-python",
   "name": "python",
   "nbconvert_exporter": "python",
   "pygments_lexer": "ipython3",
   "version": "3.7.0"
  },
  "toc": {
   "base_numbering": 1,
   "nav_menu": {},
   "number_sections": true,
   "sideBar": true,
   "skip_h1_title": false,
   "title_cell": "Table of Contents",
   "title_sidebar": "Contents",
   "toc_cell": false,
   "toc_position": {},
   "toc_section_display": true,
   "toc_window_display": true
  },
  "varInspector": {
   "cols": {
    "lenName": 16,
    "lenType": 16,
    "lenVar": 40
   },
   "kernels_config": {
    "python": {
     "delete_cmd_postfix": "",
     "delete_cmd_prefix": "del ",
     "library": "var_list.py",
     "varRefreshCmd": "print(var_dic_list())"
    },
    "r": {
     "delete_cmd_postfix": ") ",
     "delete_cmd_prefix": "rm(",
     "library": "var_list.r",
     "varRefreshCmd": "cat(var_dic_list()) "
    }
   },
   "types_to_exclude": [
    "module",
    "function",
    "builtin_function_or_method",
    "instance",
    "_Feature"
   ],
   "window_display": false
  }
 },
 "nbformat": 4,
 "nbformat_minor": 2
}
