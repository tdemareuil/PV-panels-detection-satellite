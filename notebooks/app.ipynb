{
 "cells": [
  {
   "cell_type": "markdown",
   "metadata": {},
   "source": [
    "# App tests\n",
    "\n",
    "Test the Solar Flask app."
   ]
  },
  {
   "cell_type": "markdown",
   "metadata": {},
   "source": [
    "## App code (clean, to copy in .py)"
   ]
  },
  {
   "cell_type": "code",
   "execution_count": 1,
   "metadata": {},
   "outputs": [],
   "source": [
    "import os\n",
    "import sys\n",
    "import flask\n",
    "import requests\n",
    "import skimage\n",
    "import numpy as np\n",
    "import matplotlib.pyplot as plt"
   ]
  },
  {
   "cell_type": "code",
   "execution_count": 2,
   "metadata": {},
   "outputs": [
    {
     "name": "stderr",
     "output_type": "stream",
     "text": [
      "Using TensorFlow backend.\n"
     ]
    }
   ],
   "source": [
    "# Directory of the mrcnn library\n",
    "ROOT_DIR = os.path.abspath(\"../../\")\n",
    "\n",
    "# Import Mask RCNN and solar.py\n",
    "sys.path.append(ROOT_DIR)\n",
    "from mrcnn import visualize\n",
    "from mrcnn.config import Config\n",
    "from mrcnn import model as modellib, utils\n",
    "from samples.solar import solar\n",
    "\n",
    "# Path to trained weights file\n",
    "MODEL_NAME = \"mask_rcnn_solar_0025.h5\"\n",
    "SOLAR_WEIGHTS_PATH = os.path.join(ROOT_DIR, \"logs\", MODEL_NAME)\n",
    "\n",
    "# Path to results directory (TBD)\n",
    "RESULTS_DIR = os.path.join(ROOT_DIR, \"results\")\n",
    "if not os.path.exists(RESULTS_DIR):\n",
    "    os.makedirs(RESULTS_DIR)"
   ]
  },
  {
   "cell_type": "code",
   "execution_count": 3,
   "metadata": {},
   "outputs": [
    {
     "name": "stdout",
     "output_type": "stream",
     "text": [
      "1.15.2\n",
      "2.1.0\n"
     ]
    }
   ],
   "source": [
    "# Check the correct versions of tensorflow (1.15.2) and keras (2.1.0) have been loaded\n",
    "import tensorflow as tf\n",
    "import keras\n",
    "print(tf.__version__)\n",
    "print(keras.__version__)"
   ]
  },
  {
   "cell_type": "code",
   "execution_count": 4,
   "metadata": {},
   "outputs": [],
   "source": [
    "app = flask.Flask(__name__)"
   ]
  },
  {
   "cell_type": "code",
   "execution_count": 5,
   "metadata": {},
   "outputs": [],
   "source": [
    "@app.route('/', methods=[\"POST\", \"GET\"])\n",
    "def home():\n",
    "    \"\"\" Simple view function run when the route specified above \n",
    "        is requested by user. Displays home page based on html template.\n",
    "    \"\"\"\n",
    "    return flask.render_template(\"index.html\")"
   ]
  },
  {
   "cell_type": "code",
   "execution_count": 6,
   "metadata": {},
   "outputs": [],
   "source": [
    "UPLOAD_FOLDER = 'static'\n",
    "app.config['UPLOAD_FOLDER'] = UPLOAD_FOLDER\n",
    "app.config['MAX_CONTENT_LENGTH'] = 16 * 1024 * 1024"
   ]
  },
  {
   "cell_type": "code",
   "execution_count": null,
   "metadata": {},
   "outputs": [],
   "source": [
    "@app.route('/success', methods=[\"POST\", \"GET\"])\n",
    "def predict():\n",
    "\n",
    "    # Check if the post request has either an uploaded or default image\n",
    "    if request.method == 'POST':\n",
    "        \n",
    "        if flask.request.files['file']:\n",
    "            image = flask.request.files['file']\n",
    "            image.save(os.path.join(app.config['UPLOAD_FOLDER'], 'upload.png'))\n",
    "            # If we save the file under its original filename, we should\n",
    "            # run it through secure_filename for security before saving,\n",
    "            # with: filename = secure_filename(image.filename)\n",
    "        \n",
    "        elif flask.request.form.get('default_image'):\n",
    "            image = flask.request.form.get('default_image', None)\n",
    "            if image is None:\n",
    "                flask.flash('No file uploaded')\n",
    "                return redirect(request.url)\n",
    "            \n",
    "        # Read the image as a numpy array and resize it\n",
    "        image = skimage.io.imread(image)\n",
    "        image, window, scale, padding, crop = utils.resize_image(image,\n",
    "                                                min_dim=inference_config.IMAGE_MIN_DIM,\n",
    "                                                min_scale=inference_config.IMAGE_MIN_SCALE,\n",
    "                                                max_dim=inference_config.IMAGE_MAX_DIM,\n",
    "                                                mode=inference_config.IMAGE_RESIZE_MODE)\n",
    "\n",
    "        # Run detection\n",
    "        yhat = model.detect([image], verbose=0)[0]\n",
    "        n_solar = yhat['masks'].shape[2]\n",
    "        print(\"Nb of solar arrays detected: \", n_solar)\n",
    "        pv_surface = compute_mask_to_surface(yhat['masks'])\n",
    "        pv_size_annotation = [str(round(x,1))+\"m^2\" for x in pv_surface]\n",
    "\n",
    "        # Save prediction in static folder\n",
    "        visualize.display_instances(image, yhat['rois'], yhat['masks'],\n",
    "                                    yhat['class_ids'], class_names=['BG', 'solar array'],\n",
    "                                    yhat['scores'], captions=pv_size_annotation,\n",
    "                                    title=\"{} PV arrays detected\".format(n_solar),\n",
    "                                    plot=False, save=\"static/result.png\")\n",
    "        \n",
    "        # Save mask in static folder\n",
    "        mask = yhat['masks'].astype(int)\n",
    "        mask = mask[...,0:1]+mask[...,1:2]\n",
    "        mask = mask.squeeze()\n",
    "        skimage.io.imsave(\"static/mask.png\", mask)\n",
    "   \n",
    "        # Save detection information in static folder\n",
    "        data = {}\n",
    "        data[\"Successful detection\"] = True\n",
    "        data[\"Number of detected solar arrays\"] = str(n_solar)\n",
    "        data[\"Total surface of detected solar arrays\"] = \"≈\"+str(round(pv_surface.sum(),1))+\"m^2\"\n",
    "        data[\"Detection confidence level\"] = \"≈\"+str(round(yhat['scores'].mean()*100,1))+\"%\"\n",
    "        # Save as json\n",
    "        # with open('static/detection_info.json', 'w') as outfile:\n",
    "        #    json.dump(data, outfile)\n",
    "        # Save as Excel (for non-tech people)\n",
    "        df = pd.DataFrame(data, index=[0]).T\n",
    "        df.to_excel('static/detection_info.xlsx', header=False)\n",
    "        \n",
    "        return redirect(url_for('upload')) # not sure if we need this\n",
    "    \n",
    "    return render_template('success_nst.html')"
   ]
  },
  {
   "cell_type": "code",
   "execution_count": 17,
   "metadata": {
    "scrolled": false
   },
   "outputs": [
    {
     "name": "stdout",
     "output_type": "stream",
     "text": [
      "...Loading model and starting server\n",
      "...    please wait until server has fully started\n",
      "Loaded model: /Users/Thomas/Documents/Data Science X/Stage/Total/Solar Panels/Githubs/Mask_RCNN/logs/mask_rcnn_solar_0025.h5\n",
      " * Serving Flask app \"__main__\" (lazy loading)\n",
      " * Environment: production\n",
      "\u001b[31m   WARNING: This is a development server. Do not use it in a production deployment.\u001b[0m\n",
      "\u001b[2m   Use a production WSGI server instead.\u001b[0m\n",
      " * Debug mode: on\n"
     ]
    },
    {
     "name": "stderr",
     "output_type": "stream",
     "text": [
      " * Running on http://0.0.0.0:5000/ (Press CTRL+C to quit)\n"
     ]
    }
   ],
   "source": [
    "if __name__ == '__main__':\n",
    "# the app will run only if it's called as main,\n",
    "# i.e. not if you import the app in another code\n",
    "    print(\"...Loading model and starting server\\n\",\n",
    "          \"...please wait until server has fully started\")\n",
    "     \n",
    "    # Create model in inference mode\n",
    "    inference_config = solar.InferenceConfig()\n",
    "    \n",
    "    # Recreate the model in inference mode\n",
    "    model = modellib.MaskRCNN(mode=\"inference\", \n",
    "                              config=inference_config,\n",
    "                              model_dir=SOLAR_WEIGHTS_PATH)\n",
    "    # Load trained weights\n",
    "    model.load_weights(SOLAR_WEIGHTS_PATH, by_name=True)\n",
    "    print(\"Loaded model:\", MODEL_NAME)\n",
    "    \n",
    "    # Run app\n",
    "    app.run(host='0.0.0.0', port='5000', debug=True, use_reloader=False)"
   ]
  },
  {
   "cell_type": "markdown",
   "metadata": {},
   "source": [
    "## Testing"
   ]
  },
  {
   "cell_type": "markdown",
   "metadata": {},
   "source": [
    "The `dataset.load_image()` function of Mask-RCNN takes as argument an `image_id`, which means the image has to be part of a dataset organized and loaded as a Mask-RCNN `Dataset` instance. To detect solar panels in a single image uploaded by the user, we just use simple skimage functions as part of the script."
   ]
  },
  {
   "cell_type": "code",
   "execution_count": 8,
   "metadata": {},
   "outputs": [
    {
     "name": "stdout",
     "output_type": "stream",
     "text": [
      "WARNING:tensorflow:From /Users/Thomas/opt/anaconda3/envs/total/lib/python3.7/site-packages/keras/backend/tensorflow_backend.py:492: The name tf.placeholder is deprecated. Please use tf.compat.v1.placeholder instead.\n",
      "\n",
      "WARNING:tensorflow:From /Users/Thomas/opt/anaconda3/envs/total/lib/python3.7/site-packages/keras/backend/tensorflow_backend.py:63: The name tf.get_default_graph is deprecated. Please use tf.compat.v1.get_default_graph instead.\n",
      "\n",
      "WARNING:tensorflow:From /Users/Thomas/opt/anaconda3/envs/total/lib/python3.7/site-packages/keras/backend/tensorflow_backend.py:3630: The name tf.random_uniform is deprecated. Please use tf.random.uniform instead.\n",
      "\n",
      "WARNING:tensorflow:From /Users/Thomas/opt/anaconda3/envs/total/lib/python3.7/site-packages/keras/backend/tensorflow_backend.py:3458: The name tf.nn.max_pool is deprecated. Please use tf.nn.max_pool2d instead.\n",
      "\n",
      "WARNING:tensorflow:From /Users/Thomas/opt/anaconda3/envs/total/lib/python3.7/site-packages/keras/backend/tensorflow_backend.py:1822: The name tf.image.resize_nearest_neighbor is deprecated. Please use tf.compat.v1.image.resize_nearest_neighbor instead.\n",
      "\n",
      "WARNING:tensorflow:From /Users/Thomas/opt/anaconda3/envs/total/lib/python3.7/site-packages/keras/backend/tensorflow_backend.py:1208: calling reduce_max_v1 (from tensorflow.python.ops.math_ops) with keep_dims is deprecated and will be removed in a future version.\n",
      "Instructions for updating:\n",
      "keep_dims is deprecated, use keepdims instead\n",
      "WARNING:tensorflow:From /Users/Thomas/opt/anaconda3/envs/total/lib/python3.7/site-packages/keras/backend/tensorflow_backend.py:1242: calling reduce_sum_v1 (from tensorflow.python.ops.math_ops) with keep_dims is deprecated and will be removed in a future version.\n",
      "Instructions for updating:\n",
      "keep_dims is deprecated, use keepdims instead\n",
      "WARNING:tensorflow:From /Users/Thomas/Documents/Data Science X/Stage/Total/Solar Panels/Githubs/Mask_RCNN/mrcnn/model.py:341: The name tf.log is deprecated. Please use tf.math.log instead.\n",
      "\n",
      "WARNING:tensorflow:From /Users/Thomas/Documents/Data Science X/Stage/Total/Solar Panels/Githubs/Mask_RCNN/mrcnn/model.py:399: where (from tensorflow.python.ops.array_ops) is deprecated and will be removed in a future version.\n",
      "Instructions for updating:\n",
      "Use tf.where in 2.0, which has the same broadcast rule as np.where\n",
      "WARNING:tensorflow:From /Users/Thomas/Documents/Data Science X/Stage/Total/Solar Panels/Githubs/Mask_RCNN/mrcnn/model.py:423: calling crop_and_resize_v1 (from tensorflow.python.ops.image_ops_impl) with box_ind is deprecated and will be removed in a future version.\n",
      "Instructions for updating:\n",
      "box_ind is deprecated, use box_indices instead\n",
      "WARNING:tensorflow:From /Users/Thomas/Documents/Data Science X/Stage/Total/Solar Panels/Githubs/Mask_RCNN/mrcnn/model.py:720: The name tf.sets.set_intersection is deprecated. Please use tf.sets.intersection instead.\n",
      "\n",
      "WARNING:tensorflow:From /Users/Thomas/Documents/Data Science X/Stage/Total/Solar Panels/Githubs/Mask_RCNN/mrcnn/model.py:722: The name tf.sparse_tensor_to_dense is deprecated. Please use tf.sparse.to_dense instead.\n",
      "\n",
      "WARNING:tensorflow:From /Users/Thomas/Documents/Data Science X/Stage/Total/Solar Panels/Githubs/Mask_RCNN/mrcnn/model.py:772: to_float (from tensorflow.python.ops.math_ops) is deprecated and will be removed in a future version.\n",
      "Instructions for updating:\n",
      "Use `tf.cast` instead.\n",
      "WARNING:tensorflow:From /Users/Thomas/opt/anaconda3/envs/total/lib/python3.7/site-packages/keras/backend/tensorflow_backend.py:158: The name tf.get_default_session is deprecated. Please use tf.compat.v1.get_default_session instead.\n",
      "\n",
      "WARNING:tensorflow:From /Users/Thomas/opt/anaconda3/envs/total/lib/python3.7/site-packages/keras/backend/tensorflow_backend.py:163: The name tf.ConfigProto is deprecated. Please use tf.compat.v1.ConfigProto instead.\n",
      "\n",
      "WARNING:tensorflow:From /Users/Thomas/opt/anaconda3/envs/total/lib/python3.7/site-packages/keras/backend/tensorflow_backend.py:168: The name tf.Session is deprecated. Please use tf.compat.v1.Session instead.\n",
      "\n",
      "WARNING:tensorflow:From /Users/Thomas/opt/anaconda3/envs/total/lib/python3.7/site-packages/keras/backend/tensorflow_backend.py:172: The name tf.global_variables is deprecated. Please use tf.compat.v1.global_variables instead.\n",
      "\n",
      "WARNING:tensorflow:From /Users/Thomas/opt/anaconda3/envs/total/lib/python3.7/site-packages/keras/backend/tensorflow_backend.py:181: The name tf.is_variable_initialized is deprecated. Please use tf.compat.v1.is_variable_initialized instead.\n",
      "\n",
      "WARNING:tensorflow:From /Users/Thomas/opt/anaconda3/envs/total/lib/python3.7/site-packages/keras/backend/tensorflow_backend.py:188: The name tf.variables_initializer is deprecated. Please use tf.compat.v1.variables_initializer instead.\n",
      "\n",
      "Loaded model: mask_rcnn_solar_0025.h5\n"
     ]
    }
   ],
   "source": [
    "# Create model in inference mode\n",
    "inference_config = solar.InferenceConfig()\n",
    "\n",
    "# Recreate the model in inference mode\n",
    "model = modellib.MaskRCNN(mode=\"inference\", \n",
    "                          config=inference_config,\n",
    "                          model_dir=SOLAR_WEIGHTS_PATH)\n",
    "# Load trained weights\n",
    "model.load_weights(SOLAR_WEIGHTS_PATH, by_name=True)\n",
    "print(\"Loaded model:\", MODEL_NAME)"
   ]
  },
  {
   "cell_type": "code",
   "execution_count": 11,
   "metadata": {},
   "outputs": [
    {
     "name": "stdout",
     "output_type": "stream",
     "text": [
      "Nb of solar arrays detected:  2\n"
     ]
    }
   ],
   "source": [
    "# We read the image as a numpy array and resize it\n",
    "#from skimage import io\n",
    "\n",
    "image = skimage.io.imread(\"/Users/Thomas/Documents/Data Science X/Stage/Total/Solar Panels/Githubs/Mask_RCNN/datasets/solar/images_stockton/10sfg465970_09_09.png\")\n",
    "image, window, scale, padding, crop = utils.resize_image(\n",
    "                                        image,\n",
    "                                        min_dim=inference_config.IMAGE_MIN_DIM,\n",
    "                                        min_scale=inference_config.IMAGE_MIN_SCALE,\n",
    "                                        max_dim=inference_config.IMAGE_MAX_DIM,\n",
    "                                        mode=inference_config.IMAGE_RESIZE_MODE)            \n",
    "\n",
    "# We run detection\n",
    "yhat = model.detect([image], verbose=0)[0]\n",
    "n_solar = yhat['masks'].shape[2]\n",
    "print(\"Nb of solar arrays detected: \", n_solar)"
   ]
  },
  {
   "cell_type": "code",
   "execution_count": 67,
   "metadata": {},
   "outputs": [],
   "source": [
    "visualize.display_instances(image, yhat['rois'], yhat['masks'],\n",
    "                            yhat['class_ids'], ['BG', 'solar array'],\n",
    "                            yhat['scores'], plot=False, save=\"static/result.png\")"
   ]
  },
  {
   "cell_type": "code",
   "execution_count": 37,
   "metadata": {},
   "outputs": [],
   "source": [
    "mask = yhat['masks'].astype(int)\n",
    "mask = mask[...,0:1]+mask[...,1:2]\n",
    "mask = mask.squeeze()\n",
    "skimage.io.imsave(\"static/mask.png\", mask)"
   ]
  },
  {
   "cell_type": "code",
   "execution_count": 59,
   "metadata": {},
   "outputs": [],
   "source": [
    "# Save detection information in static folder\n",
    "data={}\n",
    "pv_surface = solar.compute_mask_to_surface(yhat['masks'])\n",
    "import json\n",
    "\n",
    "data[\"success\"] = True\n",
    "data[\"Number of detected solar arrays\"] = str(n_solar)\n",
    "data[\"Total surface of detected solar arrays\"] = \"≈\"+str(round(pv_surface.sum(),1))+\"m^2\"\n",
    "data[\"Detection confidence level\"] = \"≈\"+str(round(yhat['scores'].mean()*100,1))+\"%\"\n",
    "\n",
    "with open('static/detection_info.json', 'w') as outfile:\n",
    "    json.dump(data, outfile)"
   ]
  },
  {
   "cell_type": "code",
   "execution_count": 64,
   "metadata": {},
   "outputs": [
    {
     "name": "stdout",
     "output_type": "stream",
     "text": [
      "                                              0\n",
      "success                                    True\n",
      "Number of detected solar arrays               2\n",
      "Total surface of detected solar arrays  ≈3.0m^2\n",
      "Detection confidence level               ≈97.5%\n"
     ]
    }
   ],
   "source": [
    "import pandas as pd\n",
    "df = pd.DataFrame(data, index=[0]).T\n",
    "\n",
    "print (df)\n",
    "\n",
    "df.to_excel('static/detection_info.xlsx', header=False)"
   ]
  },
  {
   "cell_type": "code",
   "execution_count": null,
   "metadata": {},
   "outputs": [],
   "source": []
  }
 ],
 "metadata": {
  "kernelspec": {
   "display_name": "Python [conda env:total]",
   "language": "python",
   "name": "conda-env-total-py"
  },
  "language_info": {
   "codemirror_mode": {
    "name": "ipython",
    "version": 3
   },
   "file_extension": ".py",
   "mimetype": "text/x-python",
   "name": "python",
   "nbconvert_exporter": "python",
   "pygments_lexer": "ipython3",
   "version": "3.7.0"
  },
  "toc": {
   "base_numbering": 1,
   "nav_menu": {},
   "number_sections": true,
   "sideBar": true,
   "skip_h1_title": false,
   "title_cell": "Table of Contents",
   "title_sidebar": "Contents",
   "toc_cell": false,
   "toc_position": {},
   "toc_section_display": true,
   "toc_window_display": true
  },
  "varInspector": {
   "cols": {
    "lenName": 16,
    "lenType": 16,
    "lenVar": 40
   },
   "kernels_config": {
    "python": {
     "delete_cmd_postfix": "",
     "delete_cmd_prefix": "del ",
     "library": "var_list.py",
     "varRefreshCmd": "print(var_dic_list())"
    },
    "r": {
     "delete_cmd_postfix": ") ",
     "delete_cmd_prefix": "rm(",
     "library": "var_list.r",
     "varRefreshCmd": "cat(var_dic_list()) "
    }
   },
   "types_to_exclude": [
    "module",
    "function",
    "builtin_function_or_method",
    "instance",
    "_Feature"
   ],
   "window_display": false
  }
 },
 "nbformat": 4,
 "nbformat_minor": 2
}
