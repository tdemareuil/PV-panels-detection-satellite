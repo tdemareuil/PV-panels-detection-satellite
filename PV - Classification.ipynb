{
 "cells": [
  {
   "cell_type": "markdown",
   "metadata": {},
   "source": [
    "# <center> Solar Panels detection - Image classification </center>"
   ]
  },
  {
   "cell_type": "markdown",
   "metadata": {},
   "source": [
    "In this notebook, we build a simple CNN classifier to detect solar panels in aerial images of the South of France."
   ]
  },
  {
   "cell_type": "markdown",
   "metadata": {
    "toc": true
   },
   "source": [
    "<h1>Table of Contents<span class=\"tocSkip\"></span></h1>\n",
    "<div class=\"toc\"><ul class=\"toc-item\"><li><span><a href=\"#Loading-images-&amp;-labels\" data-toc-modified-id=\"Loading-images-&amp;-labels-1\"><span class=\"toc-item-num\">1&nbsp;&nbsp;</span>Loading images &amp; labels</a></span></li><li><span><a href=\"#Preprocessing\" data-toc-modified-id=\"Preprocessing-2\"><span class=\"toc-item-num\">2&nbsp;&nbsp;</span>Preprocessing</a></span><ul class=\"toc-item\"><li><span><a href=\"#Image-engineering\" data-toc-modified-id=\"Image-engineering-2.1\"><span class=\"toc-item-num\">2.1&nbsp;&nbsp;</span>Image engineering</a></span></li><li><span><a href=\"#Class-imbalance\" data-toc-modified-id=\"Class-imbalance-2.2\"><span class=\"toc-item-num\">2.2&nbsp;&nbsp;</span>Class imbalance</a></span></li><li><span><a href=\"#Train-test-split\" data-toc-modified-id=\"Train-test-split-2.3\"><span class=\"toc-item-num\">2.3&nbsp;&nbsp;</span>Train-test-split</a></span></li></ul></li><li><span><a href=\"#Model\" data-toc-modified-id=\"Model-3\"><span class=\"toc-item-num\">3&nbsp;&nbsp;</span>Model</a></span><ul class=\"toc-item\"><li><span><a href=\"#PV-classification---no-data-augmentation\" data-toc-modified-id=\"PV-classification---no-data-augmentation-3.1\"><span class=\"toc-item-num\">3.1&nbsp;&nbsp;</span>PV classification - no data augmentation</a></span><ul class=\"toc-item\"><li><span><a href=\"#Training\" data-toc-modified-id=\"Training-3.1.1\"><span class=\"toc-item-num\">3.1.1&nbsp;&nbsp;</span>Training</a></span></li><li><span><a href=\"#Evaluation\" data-toc-modified-id=\"Evaluation-3.1.2\"><span class=\"toc-item-num\">3.1.2&nbsp;&nbsp;</span>Evaluation</a></span></li></ul></li><li><span><a href=\"#PV-classification---&quot;on-the-fly&quot;-data-augmentation\" data-toc-modified-id=\"PV-classification---&quot;on-the-fly&quot;-data-augmentation-3.2\"><span class=\"toc-item-num\">3.2&nbsp;&nbsp;</span>PV classification - \"on the fly\" data augmentation</a></span><ul class=\"toc-item\"><li><span><a href=\"#Training\" data-toc-modified-id=\"Training-3.2.1\"><span class=\"toc-item-num\">3.2.1&nbsp;&nbsp;</span>Training</a></span></li><li><span><a href=\"#Evaluation\" data-toc-modified-id=\"Evaluation-3.2.2\"><span class=\"toc-item-num\">3.2.2&nbsp;&nbsp;</span>Evaluation</a></span></li><li><span><a href=\"#Other-evaluation-tools\" data-toc-modified-id=\"Other-evaluation-tools-3.2.3\"><span class=\"toc-item-num\">3.2.3&nbsp;&nbsp;</span>Other evaluation tools</a></span></li></ul></li><li><span><a href=\"#Pre-trained-model\" data-toc-modified-id=\"Pre-trained-model-3.3\"><span class=\"toc-item-num\">3.3&nbsp;&nbsp;</span>Pre-trained model</a></span><ul class=\"toc-item\"><li><span><a href=\"#Training\" data-toc-modified-id=\"Training-3.3.1\"><span class=\"toc-item-num\">3.3.1&nbsp;&nbsp;</span>Training</a></span></li><li><span><a href=\"#Evaluation\" data-toc-modified-id=\"Evaluation-3.3.2\"><span class=\"toc-item-num\">3.3.2&nbsp;&nbsp;</span>Evaluation</a></span></li></ul></li><li><span><a href=\"#Cross-validation\" data-toc-modified-id=\"Cross-validation-3.4\"><span class=\"toc-item-num\">3.4&nbsp;&nbsp;</span>Cross-validation</a></span><ul class=\"toc-item\"><li><span><a href=\"#Stratified-K-Fold-Cross-Validation-with-Keras\" data-toc-modified-id=\"Stratified-K-Fold-Cross-Validation-with-Keras-3.4.1\"><span class=\"toc-item-num\">3.4.1&nbsp;&nbsp;</span>Stratified K-Fold Cross Validation with Keras</a></span></li><li><span><a href=\"#Cross-validation-with-&quot;on-the-fly&quot;-augmented-data-generation-[not-implemented]\" data-toc-modified-id=\"Cross-validation-with-&quot;on-the-fly&quot;-augmented-data-generation-[not-implemented]-3.4.2\"><span class=\"toc-item-num\">3.4.2&nbsp;&nbsp;</span>Cross-validation with \"on-the-fly\" augmented data generation [not implemented]</a></span></li></ul></li></ul></li><li><span><a href=\"#Conclusion\" data-toc-modified-id=\"Conclusion-4\"><span class=\"toc-item-num\">4&nbsp;&nbsp;</span>Conclusion</a></span></li></ul></div>"
   ]
  },
  {
   "cell_type": "code",
   "execution_count": 155,
   "metadata": {},
   "outputs": [],
   "source": [
    "# regular ML imports\n",
    "import pandas as pd\n",
    "import matplotlib\n",
    "import matplotlib.pyplot as plt\n",
    "from sklearn import metrics\n",
    "from sklearn.model_selection import train_test_split, KFold, StratifiedKFold, cross_val_score\n",
    "from sklearn.metrics import confusion_matrix, classification_report, accuracy_score\n",
    "import time\n",
    "import random\n",
    "import os\n",
    "from os import listdir\n",
    "import glob\n",
    "import shutil\n",
    "\n",
    "# image manipulation imports\n",
    "import numpy as np\n",
    "from PIL import Image\n",
    "import cv2\n",
    "from scipy import ndarray\n",
    "import skimage as sk\n",
    "from skimage import io \n",
    "from skimage import transform, img_as_ubyte\n",
    "from skimage.transform import resize, rotate, AffineTransform, warp\n",
    "from skimage import util\n",
    "from skimage.util import random_noise\n",
    "from keras.preprocessing.image import load_img, img_to_array, ImageDataGenerator\n",
    "\n",
    "# DL modeling imports\n",
    "from keras.models import Model, Sequential\n",
    "from keras.layers import Dense, Flatten, Activation, Conv2D, MaxPooling2D, Dropout, BatchNormalization\n",
    "from keras.optimizers import SGD\n",
    "from keras.utils.np_utils import to_categorical\n",
    "from keras.callbacks import EarlyStopping\n",
    "from keras.losses import categorical_crossentropy, binary_crossentropy"
   ]
  },
  {
   "cell_type": "markdown",
   "metadata": {},
   "source": [
    "## Loading images & labels"
   ]
  },
  {
   "cell_type": "markdown",
   "metadata": {},
   "source": [
    "Let's load all our images as a list of np arrays, using matplotlib (faster):"
   ]
  },
  {
   "cell_type": "code",
   "execution_count": 25,
   "metadata": {},
   "outputs": [
    {
     "name": "stdout",
     "output_type": "stream",
     "text": [
      "Dataset shape: (193,)\n"
     ]
    }
   ],
   "source": [
    "# Method 2 (final method): load images in alphabetical order, to match with labels' csv file\n",
    "\n",
    "filenames = glob.glob('../Data/Data sud france classif/Images/img_sat_*.png')\n",
    "filenames.sort()\n",
    "\n",
    "loaded_images = [matplotlib.image.imread(img) for img in filenames] # list comprehension rather than loop\n",
    "loaded_images = np.asarray(loaded_images)\n",
    "\n",
    "print('Dataset shape:', loaded_images.shape)"
   ]
  },
  {
   "cell_type": "markdown",
   "metadata": {},
   "source": [
    "And let's load our labels:"
   ]
  },
  {
   "cell_type": "code",
   "execution_count": 3,
   "metadata": {
    "scrolled": false
   },
   "outputs": [
    {
     "data": {
      "text/html": [
       "<div>\n",
       "<style scoped>\n",
       "    .dataframe tbody tr th:only-of-type {\n",
       "        vertical-align: middle;\n",
       "    }\n",
       "\n",
       "    .dataframe tbody tr th {\n",
       "        vertical-align: top;\n",
       "    }\n",
       "\n",
       "    .dataframe thead th {\n",
       "        text-align: right;\n",
       "    }\n",
       "</style>\n",
       "<table border=\"1\" class=\"dataframe\">\n",
       "  <thead>\n",
       "    <tr style=\"text-align: right;\">\n",
       "      <th></th>\n",
       "      <th>image</th>\n",
       "      <th>has_pv</th>\n",
       "      <th>has_pool</th>\n",
       "    </tr>\n",
       "  </thead>\n",
       "  <tbody>\n",
       "    <tr>\n",
       "      <th>0</th>\n",
       "      <td>img_sat_1.png</td>\n",
       "      <td>1</td>\n",
       "      <td>0</td>\n",
       "    </tr>\n",
       "    <tr>\n",
       "      <th>1</th>\n",
       "      <td>img_sat_10.png</td>\n",
       "      <td>0</td>\n",
       "      <td>1</td>\n",
       "    </tr>\n",
       "    <tr>\n",
       "      <th>2</th>\n",
       "      <td>img_sat_100.png</td>\n",
       "      <td>1</td>\n",
       "      <td>1</td>\n",
       "    </tr>\n",
       "    <tr>\n",
       "      <th>3</th>\n",
       "      <td>img_sat_101.png</td>\n",
       "      <td>0</td>\n",
       "      <td>1</td>\n",
       "    </tr>\n",
       "    <tr>\n",
       "      <th>4</th>\n",
       "      <td>img_sat_102.png</td>\n",
       "      <td>0</td>\n",
       "      <td>1</td>\n",
       "    </tr>\n",
       "  </tbody>\n",
       "</table>\n",
       "</div>"
      ],
      "text/plain": [
       "             image  has_pv  has_pool\n",
       "0    img_sat_1.png       1         0\n",
       "1   img_sat_10.png       0         1\n",
       "2  img_sat_100.png       1         1\n",
       "3  img_sat_101.png       0         1\n",
       "4  img_sat_102.png       0         1"
      ]
     },
     "execution_count": 3,
     "metadata": {},
     "output_type": "execute_result"
    }
   ],
   "source": [
    "labels = pd.read_csv('../Data/Data sud france classif/Labels/annotation_boolean.csv', ';')\n",
    "labels.head()"
   ]
  },
  {
   "cell_type": "code",
   "execution_count": 55,
   "metadata": {
    "scrolled": true
   },
   "outputs": [
    {
     "name": "stdout",
     "output_type": "stream",
     "text": [
      "has_pv      30\n",
      "has_pool    86\n",
      "dtype: int64\n",
      "has_pv      0.155440\n",
      "has_pool    0.445596\n",
      "dtype: float64\n"
     ]
    }
   ],
   "source": [
    "# count nb of positive and negative samples\n",
    "print(labels.drop(columns=['image']).sum())\n",
    "print(labels.drop(columns=['image']).sum()/len(labels))"
   ]
  },
  {
   "cell_type": "markdown",
   "metadata": {},
   "source": [
    "Our dataset only has 30 positive PV samples, which represents only 15.5% of the dataset. For pools it's a little higher, but there is still **strong class imbalance**. To train a performant model, we will have to correct this by increasing the proportion of positive samples in the training data."
   ]
  },
  {
   "cell_type": "markdown",
   "metadata": {},
   "source": [
    "We split and reshape label to prepare them for CNN training:"
   ]
  },
  {
   "cell_type": "code",
   "execution_count": 4,
   "metadata": {
    "scrolled": true
   },
   "outputs": [
    {
     "name": "stdout",
     "output_type": "stream",
     "text": [
      "(193, 1)\n",
      "(193, 1)\n"
     ]
    }
   ],
   "source": [
    "# split pool and PV labels\n",
    "has_pv = np.asarray(labels.has_pv)\n",
    "has_pool = np.asarray(labels.has_pool)\n",
    "\n",
    "# reshape pool and PV labels for training\n",
    "has_pv = has_pv.reshape((193,1))\n",
    "has_pool = has_pool.reshape((193,1))\n",
    "print(has_pv.shape)\n",
    "print(has_pool.shape)"
   ]
  },
  {
   "cell_type": "code",
   "execution_count": 5,
   "metadata": {},
   "outputs": [
    {
     "data": {
      "text/plain": [
       "(193, 2)"
      ]
     },
     "execution_count": 5,
     "metadata": {},
     "output_type": "execute_result"
    }
   ],
   "source": [
    "# store all label values\n",
    "label_values = labels.drop(columns=['image']).values\n",
    "label_values.shape"
   ]
  },
  {
   "cell_type": "markdown",
   "metadata": {},
   "source": [
    "## Preprocessing"
   ]
  },
  {
   "cell_type": "markdown",
   "metadata": {},
   "source": [
    "### Image engineering"
   ]
  },
  {
   "cell_type": "markdown",
   "metadata": {},
   "source": [
    "* Normalize our images"
   ]
  },
  {
   "cell_type": "code",
   "execution_count": 26,
   "metadata": {
    "scrolled": true
   },
   "outputs": [
    {
     "name": "stdout",
     "output_type": "stream",
     "text": [
      "Data Type: float32\n",
      "Min: 0.000, Max: 1.000\n"
     ]
    }
   ],
   "source": [
    "# check that images in our dataset are already normalized\n",
    "print('Data Type: %s' % loaded_images[0].dtype)\n",
    "print('Min: %.3f, Max: %.3f' % (loaded_images[0].min(), loaded_images[0].max()))"
   ]
  },
  {
   "cell_type": "markdown",
   "metadata": {},
   "source": [
    "Which means our dataset `loaded_images` is already normalized - good!"
   ]
  },
  {
   "cell_type": "markdown",
   "metadata": {},
   "source": [
    "* Center and standardize\n",
    "\n",
    "Centering and standardizing pixels values could also be useful as an additional step. See blog post:\n",
    "https://machinelearningmastery.com/how-to-manually-scale-image-pixel-data-for-deep-learning/"
   ]
  },
  {
   "cell_type": "markdown",
   "metadata": {},
   "source": [
    "* Resize"
   ]
  },
  {
   "cell_type": "code",
   "execution_count": 27,
   "metadata": {},
   "outputs": [
    {
     "name": "stdout",
     "output_type": "stream",
     "text": [
      "(400, 400, 3)\n"
     ]
    }
   ],
   "source": [
    "# resize all images to 400x400 pixels (smallest size in the dataset)\n",
    "dataset = [resize(image, (400, 400)) for image in loaded_images]\n",
    "print(dataset[0].shape)"
   ]
  },
  {
   "cell_type": "code",
   "execution_count": 28,
   "metadata": {},
   "outputs": [
    {
     "name": "stdout",
     "output_type": "stream",
     "text": [
      "<class 'numpy.ndarray'>\n",
      "(193, 400, 400, 3)\n"
     ]
    }
   ],
   "source": [
    "dataset = np.asarray(dataset)\n",
    "print(type(dataset))\n",
    "print(dataset.shape)"
   ]
  },
  {
   "cell_type": "markdown",
   "metadata": {},
   "source": [
    "### Class imbalance"
   ]
  },
  {
   "cell_type": "markdown",
   "metadata": {},
   "source": [
    "To reduce class imbalance, let's remove from the initial dataset the images for which there is neither pool nor PV panels."
   ]
  },
  {
   "cell_type": "code",
   "execution_count": 124,
   "metadata": {},
   "outputs": [
    {
     "name": "stdout",
     "output_type": "stream",
     "text": [
      "[30 86]\n",
      "0      1\n",
      "1      1\n",
      "2      2\n",
      "3      1\n",
      "4      1\n",
      "      ..\n",
      "188    0\n",
      "189    1\n",
      "190    1\n",
      "191    1\n",
      "192    2\n",
      "Length: 193, dtype: int64\n"
     ]
    }
   ],
   "source": [
    "# sum pool and PV labels\n",
    "labels_imbalanced = labels.drop(columns=['image'])\n",
    "print(sum(labels_imbalanced.values))\n",
    "sum_labels = labels_imbalanced.sum(axis=1)\n",
    "print(sum_labels)"
   ]
  },
  {
   "cell_type": "code",
   "execution_count": 125,
   "metadata": {},
   "outputs": [
    {
     "name": "stdout",
     "output_type": "stream",
     "text": [
      "98\n",
      "95\n"
     ]
    }
   ],
   "source": [
    "# obtain indices where sum = 0\n",
    "indices_nonzero = sum_labels.values.nonzero()[0]\n",
    "indices_zero = np.nonzero(sum_labels.values == 0)[0]\n",
    "print(len(indices_nonzero))\n",
    "print(len(indices_zero))"
   ]
  },
  {
   "cell_type": "code",
   "execution_count": 165,
   "metadata": {},
   "outputs": [
    {
     "name": "stdout",
     "output_type": "stream",
     "text": [
      "98\n",
      "[30 86]\n"
     ]
    }
   ],
   "source": [
    "# delete the corresponding indices from training labels\n",
    "labels_balanced = np.delete(label_values, indices_zero, 0)\n",
    "has_pv_balanced = np.delete(has_pv, indices_zero, 0)\n",
    "has_pool_balanced = np.delete(has_pool, indices_zero, 0)\n",
    "\n",
    "print(len(labels_balanced))\n",
    "print(sum(labels_balanced))"
   ]
  },
  {
   "cell_type": "code",
   "execution_count": 133,
   "metadata": {
    "scrolled": true
   },
   "outputs": [
    {
     "name": "stdout",
     "output_type": "stream",
     "text": [
      "98\n"
     ]
    }
   ],
   "source": [
    "# delete the corresponding indices from training images\n",
    "dataset_balanced = np.delete(dataset, indices_zero, 0)\n",
    "print(len(dataset_balanced))"
   ]
  },
  {
   "cell_type": "markdown",
   "metadata": {},
   "source": [
    "`labels_balanced` now only contains 98 samples, corresponding to those with at least one of PV panels or pool. 30 of them have PV panels, which corresponds to approximately **30%** and **doubles the proportion of positive PV samples** (vs. 15% before)."
   ]
  },
  {
   "cell_type": "markdown",
   "metadata": {},
   "source": [
    "### Train-test-split"
   ]
  },
  {
   "cell_type": "markdown",
   "metadata": {},
   "source": [
    "The cell below creates training and testing sets, for PV classification:"
   ]
  },
  {
   "cell_type": "code",
   "execution_count": 136,
   "metadata": {
    "scrolled": true
   },
   "outputs": [
    {
     "name": "stdout",
     "output_type": "stream",
     "text": [
      "(78, 400, 400, 3) (78, 1)\n",
      "(20, 400, 400, 3) (20, 1)\n"
     ]
    }
   ],
   "source": [
    "x_train, x_test, y_train, y_test = train_test_split(dataset_balanced, has_pv_balanced, \n",
    "                                                    test_size=0.2, random_state=42)\n",
    "print(x_train.shape, y_train.shape)\n",
    "print(x_test.shape, y_test.shape)"
   ]
  },
  {
   "cell_type": "markdown",
   "metadata": {},
   "source": [
    "We also store the full dataset (without split) as `X_train` and `Y_train` (capital letters):"
   ]
  },
  {
   "cell_type": "code",
   "execution_count": 184,
   "metadata": {},
   "outputs": [
    {
     "name": "stdout",
     "output_type": "stream",
     "text": [
      "(98, 400, 400, 3) (98, 1)\n"
     ]
    }
   ],
   "source": [
    "X_train = dataset_balanced\n",
    "Y_train = has_pv_balanced\n",
    "print(X_train.shape, Y_train.shape)"
   ]
  },
  {
   "cell_type": "markdown",
   "metadata": {},
   "source": [
    "Same for classification of PV panels and pool presence together:"
   ]
  },
  {
   "cell_type": "code",
   "execution_count": 185,
   "metadata": {},
   "outputs": [],
   "source": [
    "x_train_both, x_test_both, y_train_both, y_test_both = train_test_split(dataset_balanced, labels_balanced, \n",
    "                                                                        test_size=0.2, random_state=42)\n",
    "Y_train_both = labels_balanced"
   ]
  },
  {
   "cell_type": "markdown",
   "metadata": {},
   "source": [
    "## Model"
   ]
  },
  {
   "cell_type": "markdown",
   "metadata": {},
   "source": [
    "### PV classification - no data augmentation"
   ]
  },
  {
   "cell_type": "markdown",
   "metadata": {},
   "source": [
    "Let's start with a model for PV classification only, and using only the original dataset (no data augmentation). As I don't have a lot of computing power on my personal laptop it's a very small model (only 2 conv layers with relu activation and 3x3 kernel, both followed by max pooling, and 1 dense layer followed by the output layer - no batch normalization or dropout, and rather small layer sizes overall)."
   ]
  },
  {
   "cell_type": "markdown",
   "metadata": {},
   "source": [
    "#### Training"
   ]
  },
  {
   "cell_type": "code",
   "execution_count": 22,
   "metadata": {},
   "outputs": [],
   "source": [
    "# Hyperparameters:\n",
    "input_shape = X_train.shape[1:]\n",
    "batch_size = 16\n",
    "epochs = 4\n",
    "validation_split = 0.2"
   ]
  },
  {
   "cell_type": "code",
   "execution_count": 23,
   "metadata": {},
   "outputs": [
    {
     "name": "stdout",
     "output_type": "stream",
     "text": [
      "Model: \"sequential_1\"\n",
      "_________________________________________________________________\n",
      "Layer (type)                 Output Shape              Param #   \n",
      "=================================================================\n",
      "conv2d_1 (Conv2D)            (None, 398, 398, 32)      896       \n",
      "_________________________________________________________________\n",
      "max_pooling2d_1 (MaxPooling2 (None, 199, 199, 32)      0         \n",
      "_________________________________________________________________\n",
      "conv2d_2 (Conv2D)            (None, 197, 197, 64)      18496     \n",
      "_________________________________________________________________\n",
      "max_pooling2d_2 (MaxPooling2 (None, 98, 98, 64)        0         \n",
      "_________________________________________________________________\n",
      "flatten_1 (Flatten)          (None, 614656)            0         \n",
      "_________________________________________________________________\n",
      "dense_1 (Dense)              (None, 128)               78676096  \n",
      "_________________________________________________________________\n",
      "dense_2 (Dense)              (None, 1)                 129       \n",
      "=================================================================\n",
      "Total params: 78,695,617\n",
      "Trainable params: 78,695,617\n",
      "Non-trainable params: 0\n",
      "_________________________________________________________________\n"
     ]
    }
   ],
   "source": [
    "model = Sequential()\n",
    "    \n",
    "model.add(Conv2D(32, (3, 3), input_shape=input_shape, activation='relu'))\n",
    "model.add(MaxPooling2D(pool_size=(2,2)))\n",
    "model.add(Conv2D(64, (3, 3), activation='relu'))\n",
    "model.add(MaxPooling2D(pool_size=(2,2)))\n",
    "\n",
    "model.add(Flatten())\n",
    "model.add(Dense(128, activation='relu'))\n",
    "model.add(Dense(1, activation='sigmoid'))\n",
    "\n",
    "model.compile(loss=binary_crossentropy,\n",
    "                  optimizer=SGD(), # parameters (lr, momentum) could also be tuned\n",
    "                  metrics=['accuracy'])\n",
    "\n",
    "model.summary()"
   ]
  },
  {
   "cell_type": "code",
   "execution_count": 31,
   "metadata": {},
   "outputs": [
    {
     "name": "stdout",
     "output_type": "stream",
     "text": [
      "Train on 154 samples, validate on 39 samples\n",
      "Epoch 1/4\n",
      "154/154 [==============================] - 56s 363ms/step - loss: 0.5122 - accuracy: 0.8442 - val_loss: 0.4734 - val_accuracy: 0.8462\n",
      "Epoch 2/4\n",
      "154/154 [==============================] - 39s 255ms/step - loss: 0.4677 - accuracy: 0.8442 - val_loss: 0.4712 - val_accuracy: 0.8462\n",
      "Epoch 3/4\n",
      "154/154 [==============================] - 40s 258ms/step - loss: 0.4499 - accuracy: 0.8442 - val_loss: 0.5651 - val_accuracy: 0.8462\n",
      "Epoch 4/4\n",
      "154/154 [==============================] - 37s 240ms/step - loss: 0.4162 - accuracy: 0.8442 - val_loss: 0.4675 - val_accuracy: 0.8462\n"
     ]
    }
   ],
   "source": [
    "cnn_pv_noaug = model.fit(X_train, Y_train, batch_size=batch_size, \n",
    "                         epochs=epochs, verbose=1, validation_split=validation_split)\n",
    "\n",
    "# remark: for validation we can either use the result of `train_test_split`,\n",
    "# with the argument `validation_data = (x_test, y_test)`,\n",
    "# or use the `validation_split` argument, with a chosen split proportion"
   ]
  },
  {
   "cell_type": "markdown",
   "metadata": {},
   "source": [
    "#### Evaluation"
   ]
  },
  {
   "cell_type": "code",
   "execution_count": 32,
   "metadata": {
    "scrolled": true
   },
   "outputs": [
    {
     "data": {
      "image/png": "[encoded data removed]",
      "text/plain": [
       "<matplotlib.figure.Figure at 0x18ae013d0>"
      ]
     },
     "metadata": {
      "needs_background": "light"
     },
     "output_type": "display_data"
    },
    {
     "data": {
      "image/png": "[encoded data removed]",
      "text/plain": [
       "<matplotlib.figure.Figure at 0x110b39dd0>"
      ]
     },
     "metadata": {
      "needs_background": "light"
     },
     "output_type": "display_data"
    }
   ],
   "source": [
    "# plot the training and validation loss and accuracy per epoch (separated plots)\n",
    "\n",
    "history = cnn_pv_noaug\n",
    "\n",
    "plt.plot(history.history['accuracy'])\n",
    "plt.plot(history.history['val_accuracy'])\n",
    "plt.title('Model accuracy')\n",
    "plt.ylabel('Accuracy')\n",
    "plt.xlabel('Epoch')\n",
    "plt.legend(['Train', 'Test'], loc='upper left')\n",
    "plt.show()\n",
    "\n",
    "plt.plot(history.history['loss'])\n",
    "plt.plot(history.history['val_loss'])\n",
    "plt.title('Model loss')\n",
    "plt.ylabel('Loss')\n",
    "plt.xlabel('Epoch')\n",
    "plt.legend(['Train', 'Test'], loc='upper left')\n",
    "plt.show()"
   ]
  },
  {
   "cell_type": "markdown",
   "metadata": {},
   "source": [
    "We did not train on a sufficient number of samples to see differences in accuracy from one epoch to the other, but thes graphs could be very useful for evaluating a model trained on an augmented dataset (with approach 1, not computed here due to computing power limitations)."
   ]
  },
  {
   "cell_type": "code",
   "execution_count": 49,
   "metadata": {
    "scrolled": true
   },
   "outputs": [
    {
     "name": "stdout",
     "output_type": "stream",
     "text": [
      "             precision    recall  f1-score   support\n",
      "\n",
      "PV presence       0.92      1.00      0.96        36\n",
      "\n",
      "avg / total       0.85      0.92      0.89        39\n",
      "\n"
     ]
    },
    {
     "name": "stderr",
     "output_type": "stream",
     "text": [
      "/opt/anaconda3/lib/python3.7/site-packages/sklearn/metrics/classification.py:1428: UserWarning: labels size, 2, does not match size of target_names, 1\n",
      "  .format(len(labels), len(target_names))\n",
      "/opt/anaconda3/lib/python3.7/site-packages/sklearn/metrics/classification.py:1135: UndefinedMetricWarning: Precision and F-score are ill-defined and being set to 0.0 in labels with no predicted samples.\n",
      "  'precision', 'predicted', average, warn_for)\n"
     ]
    }
   ],
   "source": [
    "# print the classification report (from sklearn)\n",
    "predictions = model.predict(x_test, batch_size=batch_size)\n",
    "print(classification_report(y_test, predictions.argmax(axis=1), target_names=['PV presence']))"
   ]
  },
  {
   "cell_type": "markdown",
   "metadata": {},
   "source": [
    "We can see that our scores are high, but this is due to **class imbalance**: as we have much more negative samples (no PV panels) than positive samples, even a model always predicting \"no PV panel\" would get a very high score.\n",
    "\n",
    "To improve this model, we need:\n",
    "* more images $\\rightarrow$ data augmentation, see last section in this notebook\n",
    "* more positive samples $\\rightarrow$ correct class imbalance\n",
    "* a more complex model $\\rightarrow$ possible when we have more data\n",
    "* more performant hyperparameters $\\rightarrow$ smaller batch size, etc."
   ]
  },
  {
   "cell_type": "markdown",
   "metadata": {},
   "source": [
    "### PV classification - \"on the fly\" data augmentation"
   ]
  },
  {
   "cell_type": "markdown",
   "metadata": {},
   "source": [
    "With this \"in-place\" data augmentation approach, new images samples are generated at each epoch, i.e. the model trains on a new set of images (of size equal to original set) at each epoch."
   ]
  },
  {
   "cell_type": "markdown",
   "metadata": {},
   "source": [
    "#### Training"
   ]
  },
  {
   "cell_type": "code",
   "execution_count": 146,
   "metadata": {},
   "outputs": [],
   "source": [
    "# Hyperparameters:\n",
    "input_shape = X_train.shape[1:]\n",
    "batch_size = 4\n",
    "epochs = 12\n",
    "validation_split = 0.2"
   ]
  },
  {
   "cell_type": "code",
   "execution_count": 147,
   "metadata": {},
   "outputs": [
    {
     "name": "stdout",
     "output_type": "stream",
     "text": [
      "Model: \"sequential_8\"\n",
      "_________________________________________________________________\n",
      "Layer (type)                 Output Shape              Param #   \n",
      "=================================================================\n",
      "conv2d_24 (Conv2D)           (None, 398, 398, 32)      896       \n",
      "_________________________________________________________________\n",
      "conv2d_25 (Conv2D)           (None, 396, 396, 32)      9248      \n",
      "_________________________________________________________________\n",
      "max_pooling2d_15 (MaxPooling (None, 198, 198, 32)      0         \n",
      "_________________________________________________________________\n",
      "conv2d_26 (Conv2D)           (None, 196, 196, 64)      18496     \n",
      "_________________________________________________________________\n",
      "conv2d_27 (Conv2D)           (None, 194, 194, 64)      36928     \n",
      "_________________________________________________________________\n",
      "max_pooling2d_16 (MaxPooling (None, 97, 97, 64)        0         \n",
      "_________________________________________________________________\n",
      "flatten_8 (Flatten)          (None, 602176)            0         \n",
      "_________________________________________________________________\n",
      "dense_16 (Dense)             (None, 128)               77078656  \n",
      "_________________________________________________________________\n",
      "dense_17 (Dense)             (None, 32)                4128      \n",
      "_________________________________________________________________\n",
      "dense_18 (Dense)             (None, 1)                 33        \n",
      "=================================================================\n",
      "Total params: 77,148,385\n",
      "Trainable params: 77,148,385\n",
      "Non-trainable params: 0\n",
      "_________________________________________________________________\n"
     ]
    }
   ],
   "source": [
    "model = Sequential()\n",
    "    \n",
    "model.add(Conv2D(32, (3, 3), input_shape=input_shape, activation='relu'))\n",
    "model.add(Conv2D(32, (3, 3), input_shape=input_shape, activation='relu'))\n",
    "model.add(MaxPooling2D(pool_size=(2,2)))\n",
    "model.add(Conv2D(64, (3, 3), activation='relu'))\n",
    "model.add(Conv2D(64, (3, 3), activation='relu'))\n",
    "model.add(MaxPooling2D(pool_size=(2,2)))\n",
    "\n",
    "model.add(Flatten())\n",
    "model.add(Dense(128, activation='relu'))\n",
    "model.add(Dense(32, activation='relu'))\n",
    "model.add(Dense(1, activation='sigmoid'))\n",
    "\n",
    "model.compile(loss=binary_crossentropy,\n",
    "                  optimizer=SGD(),\n",
    "                  metrics=['acc'])\n",
    "\n",
    "model.summary()"
   ]
  },
  {
   "cell_type": "code",
   "execution_count": 157,
   "metadata": {},
   "outputs": [],
   "source": [
    "# initialize data generator (default parameters)\n",
    "datagen = ImageDataGenerator(rotation_range=30, zoom_range=0.15, width_shift_range=0.2, \n",
    "                             height_shift_range=0.2, shear_range=0.15, \n",
    "                             horizontal_flip=True, fill_mode=\"reflect\")"
   ]
  },
  {
   "cell_type": "code",
   "execution_count": 149,
   "metadata": {},
   "outputs": [
    {
     "name": "stdout",
     "output_type": "stream",
     "text": [
      "Epoch 1/12\n",
      "20/20 [==============================] - 55s 3s/step - loss: 0.7346 - acc: 0.6154 - val_loss: 0.5943 - val_acc: 0.8000\n",
      "Epoch 2/12\n",
      "20/20 [==============================] - 51s 3s/step - loss: 0.6633 - acc: 0.6667 - val_loss: 0.5615 - val_acc: 0.8000\n",
      "Epoch 3/12\n",
      "20/20 [==============================] - 51s 3s/step - loss: 0.6735 - acc: 0.6667 - val_loss: 0.6184 - val_acc: 0.8000\n",
      "Epoch 4/12\n",
      "20/20 [==============================] - 49s 2s/step - loss: 0.6567 - acc: 0.6667 - val_loss: 0.6406 - val_acc: 0.8000\n",
      "Epoch 5/12\n",
      "20/20 [==============================] - 48s 2s/step - loss: 0.6620 - acc: 0.6667 - val_loss: 0.5793 - val_acc: 0.8000\n",
      "Epoch 6/12\n",
      "20/20 [==============================] - 48s 2s/step - loss: 0.6562 - acc: 0.6667 - val_loss: 0.5957 - val_acc: 0.8000\n",
      "Epoch 7/12\n",
      "20/20 [==============================] - 53s 3s/step - loss: 0.6589 - acc: 0.6667 - val_loss: 0.5645 - val_acc: 0.8000\n",
      "Epoch 8/12\n",
      "20/20 [==============================] - 54s 3s/step - loss: 0.6504 - acc: 0.6667 - val_loss: 0.5615 - val_acc: 0.8000\n",
      "Epoch 9/12\n",
      "20/20 [==============================] - 48s 2s/step - loss: 0.6432 - acc: 0.6667 - val_loss: 0.5893 - val_acc: 0.8000\n",
      "Epoch 10/12\n",
      "20/20 [==============================] - 47s 2s/step - loss: 0.6611 - acc: 0.6667 - val_loss: 0.5830 - val_acc: 0.8000\n",
      "Epoch 11/12\n",
      "20/20 [==============================] - 47s 2s/step - loss: 0.6513 - acc: 0.6667 - val_loss: 0.5949 - val_acc: 0.8000\n",
      "Epoch 12/12\n",
      "20/20 [==============================] - 48s 2s/step - loss: 0.6443 - acc: 0.6667 - val_loss: 0.5660 - val_acc: 0.8000\n"
     ]
    }
   ],
   "source": [
    "# train the network\n",
    "cnn_pv_aug = model.fit_generator(datagen.flow(x_train, y_train, batch_size=batch_size),\n",
    "                                 validation_data=(x_test,y_test), epochs=epochs, verbose=1)\n",
    "# remark: with fit_generator, we have to use the split from `train_test_split`"
   ]
  },
  {
   "cell_type": "markdown",
   "metadata": {},
   "source": [
    "#### Evaluation"
   ]
  },
  {
   "cell_type": "code",
   "execution_count": 150,
   "metadata": {},
   "outputs": [
    {
     "data": {
      "image/png": "[encoded data removed]",
      "text/plain": [
       "<matplotlib.figure.Figure at 0x154a90150>"
      ]
     },
     "metadata": {},
     "output_type": "display_data"
    }
   ],
   "source": [
    "# plot the training and validation loss and accuracy per epoch (unique plot)\n",
    "N = np.arange(0, epochs)\n",
    "plt.style.use(\"ggplot\")\n",
    "plt.figure()\n",
    "plt.plot(N, cnn_pv_aug.history[\"loss\"], label=\"train_loss\")\n",
    "plt.plot(N, cnn_pv_aug.history[\"val_loss\"], label=\"val_loss\")\n",
    "plt.plot(N, cnn_pv_aug.history[\"acc\"], label=\"train_acc\")\n",
    "plt.plot(N, cnn_pv_aug.history[\"val_acc\"], label=\"val_acc\")\n",
    "plt.title(\"Training Loss and Accuracy on Dataset\")\n",
    "plt.xlabel(\"Epoch #\")\n",
    "plt.ylabel(\"Loss/Accuracy\")\n",
    "plt.legend(loc=\"lower left\")\n",
    "plt.show()"
   ]
  },
  {
   "cell_type": "code",
   "execution_count": 151,
   "metadata": {
    "scrolled": false
   },
   "outputs": [
    {
     "name": "stdout",
     "output_type": "stream",
     "text": [
      "             precision    recall  f1-score   support\n",
      "\n",
      "PV presence       0.80      1.00      0.89        16\n",
      "\n",
      "avg / total       0.64      0.80      0.71        20\n",
      "\n"
     ]
    },
    {
     "name": "stderr",
     "output_type": "stream",
     "text": [
      "/opt/anaconda3/lib/python3.7/site-packages/sklearn/metrics/classification.py:1428: UserWarning: labels size, 2, does not match size of target_names, 1\n",
      "  .format(len(labels), len(target_names))\n",
      "/opt/anaconda3/lib/python3.7/site-packages/sklearn/metrics/classification.py:1135: UndefinedMetricWarning: Precision and F-score are ill-defined and being set to 0.0 in labels with no predicted samples.\n",
      "  'precision', 'predicted', average, warn_for)\n"
     ]
    }
   ],
   "source": [
    "# print the classification report (from sklearn)\n",
    "predictions = model.predict(x_test, batch_size=batch_size)\n",
    "print(classification_report(y_test, predictions.argmax(axis=1), target_names=['PV presence']))"
   ]
  },
  {
   "cell_type": "markdown",
   "metadata": {},
   "source": [
    "We get rather close scores with and without data augmentation, due to the limited number of epochs and to a limited amount of data, even with data augmentation.\n",
    "\n",
    "To improve this model, we need:\n",
    "* more images $\\rightarrow$ add new original data, and perform data augmentation again\n",
    "* more positive samples $\\rightarrow$ correct class imbalance by adding more orignal positive data\n",
    "* a more complex model $\\rightarrow$ possible when we have more data\n",
    "* more performant hyperparameters $\\rightarrow$ smaller batch size, etc.\n",
    "* cross-validation $\\rightarrow$ possible with more computational power."
   ]
  },
  {
   "cell_type": "markdown",
   "metadata": {},
   "source": [
    "#### Other evaluation tools"
   ]
  },
  {
   "cell_type": "markdown",
   "metadata": {},
   "source": [
    "Due to short training and limited data, these tools aren't relevant yet, but once we have more images to train on, they should be tuned and re-run to get useful insights.\n",
    "\n",
    "* Image class probabilities:"
   ]
  },
  {
   "cell_type": "code",
   "execution_count": 189,
   "metadata": {},
   "outputs": [],
   "source": [
    "def predict_probas(y_prob, x, labels, file_name=None):\n",
    "    \n",
    "    fig = plt.figure(figsize=(20, 20))\n",
    "    index=1\n",
    "    for i in range(0,3):\n",
    "        fig.add_subplot(8, 2, index)\n",
    "        plt.imshow(x_test[i])\n",
    "        index+=1\n",
    "        \n",
    "        fig.add_subplot(8, 2, index)\n",
    "        plt.barh(y = labels,width=y_prob[i] )\n",
    "        index+=1\n",
    "        \n",
    "    if file_name:\n",
    "        plt.savefig(file_name)\n",
    "    else:\n",
    "        plt.show()"
   ]
  },
  {
   "cell_type": "code",
   "execution_count": 187,
   "metadata": {},
   "outputs": [
    {
     "data": {
      "image/png": "[encoded data removed]",
      "text/plain": [
       "<matplotlib.figure.Figure at 0x157ce5d90>"
      ]
     },
     "metadata": {},
     "output_type": "display_data"
    }
   ],
   "source": [
    "y_prob = model.predict(x_test_both)\n",
    "labels = ['PV','Pool']\n",
    "\n",
    "predict_probas(y_prob, x_test_both, labels)"
   ]
  },
  {
   "cell_type": "markdown",
   "metadata": {},
   "source": [
    "* Confusion matrix:"
   ]
  },
  {
   "cell_type": "code",
   "execution_count": 182,
   "metadata": {},
   "outputs": [],
   "source": [
    "def get_class_true(y):\n",
    "    y_labeled = []\n",
    "    for ind in y:\n",
    "        i = np.where(ind == 1)\n",
    "        y_labeled.append(labels[i[0][0]])\n",
    "    return y_labeled\n",
    "\n",
    "def get_class_pred(y):\n",
    "    y_labeled = []\n",
    "    for ind in y:\n",
    "        y_labeled.append(labels[ind])\n",
    "    return y_labeled\n",
    "\n",
    "def plot_confusion_matrix(y_true, y_pred, classes,\n",
    "                          normalize=False,\n",
    "                          title=None,\n",
    "                          cmap=plt.cm.Blues):\n",
    "    \n",
    "    pred_true = pd.DataFrame({'y_test': get_class_true(y_true), 'y_pred': get_class_pred(y_pred)})\n",
    "    print(pred_true)\n",
    "    confusion = confusion_matrix(pred_true.y_test, pred_true.y_pred).ravel()\n",
    "    confusion = pd.crosstab(pred_true['y_test'], pred_true['y_pred'], rownames=['Actual'], colnames=['Predicted'])\n",
    "    sns.heatmap(confusion)"
   ]
  },
  {
   "cell_type": "code",
   "execution_count": 188,
   "metadata": {
    "scrolled": true
   },
   "outputs": [
    {
     "name": "stdout",
     "output_type": "stream",
     "text": [
      "   y_test y_pred\n",
      "0      PV   Pool\n",
      "1    Pool   Pool\n",
      "2    Pool   Pool\n",
      "3      PV   Pool\n",
      "4    Pool   Pool\n",
      "5    Pool   Pool\n",
      "6    Pool   Pool\n",
      "7      PV   Pool\n",
      "8    Pool   Pool\n",
      "9      PV   Pool\n",
      "10   Pool   Pool\n",
      "11   Pool   Pool\n",
      "12   Pool   Pool\n",
      "13   Pool   Pool\n",
      "14   Pool   Pool\n",
      "15   Pool   Pool\n",
      "16   Pool   Pool\n",
      "17   Pool   Pool\n",
      "18   Pool   Pool\n",
      "19   Pool   Pool\n"
     ]
    },
    {
     "data": {
      "image/png": "[encoded data removed]",
      "text/plain": [
       "<matplotlib.figure.Figure at 0x158687250>"
      ]
     },
     "metadata": {},
     "output_type": "display_data"
    }
   ],
   "source": [
    "y_pred = model.predict_classes(x_test_both)\n",
    "    \n",
    "plot_confusion_matrix(y_test_both, y_pred, classes = labels)"
   ]
  },
  {
   "cell_type": "markdown",
   "metadata": {},
   "source": [
    "### Pre-trained model"
   ]
  },
  {
   "cell_type": "markdown",
   "metadata": {},
   "source": [
    "Finally, I tried to adapt a pre-trained network (VGG16, trained on the ImageNet dataset) to our problem."
   ]
  },
  {
   "cell_type": "code",
   "execution_count": null,
   "metadata": {},
   "outputs": [],
   "source": [
    "# Import pre-trained model\n",
    "\n",
    "from keras.applications import VGG16\n",
    "\n",
    "conv_base = VGG16(weights='imagenet',\n",
    "                  include_top=False,\n",
    "                  input_shape=x_train.shape[1:])"
   ]
  },
  {
   "cell_type": "code",
   "execution_count": null,
   "metadata": {},
   "outputs": [],
   "source": [
    "conv_base.summary()"
   ]
  },
  {
   "cell_type": "markdown",
   "metadata": {},
   "source": [
    "#### Training"
   ]
  },
  {
   "cell_type": "markdown",
   "metadata": {},
   "source": [
    "Feature extraction consists of using the representations learned by a previous network to extract interesting features from new samples. We will run our data through this conv_base network and then add a densely-connected classifier on top (2 dense layers), which we will train from scratch on our data so that the new model finally becomes adapted to our problem."
   ]
  },
  {
   "cell_type": "code",
   "execution_count": null,
   "metadata": {},
   "outputs": [],
   "source": [
    "features = conv_base.predict(x_test)"
   ]
  },
  {
   "cell_type": "code",
   "execution_count": null,
   "metadata": {},
   "outputs": [],
   "source": [
    "# define the full model\n",
    "\n",
    "model_pretrained = Sequential()\n",
    "\n",
    "model_pretrained.add(conv_base) # add the pre-trained conv_base\n",
    "model_pretrained.add(Flatten()) # flatten output and add 2 final dense layers\n",
    "model_pretrained.add(Dense(512, activation='relu'))\n",
    "model_pretrained.add(Dense(output_dim = 10, activation='softmax'))\n",
    "\n",
    "model_pretrained.summary()"
   ]
  },
  {
   "cell_type": "code",
   "execution_count": null,
   "metadata": {},
   "outputs": [],
   "source": [
    "# freeze the pre-trained conv layers for training\n",
    "\n",
    "print('This is the number of trainable weights '\n",
    "      'before freezing the conv base:', len(model_pretrained.trainable_weights))\n",
    "\n",
    "conv_base.trainable = False\n",
    "\n",
    "print('This is the number of trainable weights '\n",
    "      'after freezing the conv base:', len(model_pretrained.trainable_weights))"
   ]
  },
  {
   "cell_type": "code",
   "execution_count": null,
   "metadata": {},
   "outputs": [],
   "source": [
    "# train the model on our data\n",
    "\n",
    "model_pretrained.compile(loss=categorical_crossentropy,\n",
    "                  optimizer=SGD(),\n",
    "                  metrics=['accuracy'])\n",
    "\n",
    "history = model_pretrained.fit(x_train, y_train, batch_size=32,\n",
    "      epochs=10,\n",
    "      validation_split=0.25,\n",
    "      verbose=1)"
   ]
  },
  {
   "cell_type": "markdown",
   "metadata": {},
   "source": [
    "#### Evaluation"
   ]
  },
  {
   "cell_type": "code",
   "execution_count": null,
   "metadata": {},
   "outputs": [],
   "source": [
    "# plot performance\n",
    "\n",
    "acc = history.history['acc']\n",
    "val_acc = history.history['val_acc']\n",
    "loss = history.history['loss']\n",
    "val_loss = history.history['val_loss']\n",
    "\n",
    "epochs = range(len(acc))\n",
    "\n",
    "plt.plot(epochs, acc, 'bo', label='Training acc')\n",
    "plt.plot(epochs, val_acc, 'b', label='Validation acc')\n",
    "plt.title('Training and validation accuracy')\n",
    "plt.legend()\n",
    "\n",
    "plt.figure()\n",
    "\n",
    "plt.plot(epochs, loss, 'bo', label='Training loss')\n",
    "plt.plot(epochs, val_loss, 'b', label='Validation loss')\n",
    "plt.title('Training and validation loss')\n",
    "plt.legend()\n",
    "\n",
    "plt.show()"
   ]
  },
  {
   "cell_type": "markdown",
   "metadata": {},
   "source": [
    "**Fine-tuning**  \n",
    "\n",
    "To push performance even further, we could also fine-tune the last top layers of the conv_base. We did not do it here because of training time, but here is how and why we could have done it:  \n",
    "* Fine-tuning would consist in unfreezing a few of the top layers of the convolutional model base, so we can slightly re-adjust the more abstract representations and make them more relevant for our problem.\n",
    "* We could fine-tune the entire convolutional base, but we'd rather just unfreeze the top layers - the reason is that the earlier layers encode more generic, reusable features, while layers higher up (the 2-3 top layers) encode more specialized features, which can be repurposed on our new problem.\n",
    "* To train these layers we should use a very low learning rate, in order to limit the magnitude of the modifications we make (updates that are too large may harm the previous representations).\n",
    "* Using a pre-trained model and fine-tuning it to our specific problem allows to reach stronger performance on a small dataset."
   ]
  },
  {
   "cell_type": "markdown",
   "metadata": {},
   "source": [
    "### Cross-validation"
   ]
  },
  {
   "cell_type": "markdown",
   "metadata": {},
   "source": [
    "Regular cross-validation in `sklearn` works as presented in the following short example:\n",
    "\n",
    "> `# Perform 6-fold cross validation\n",
    "scores = cross_val_score(model, x_train, y_train, cv=2)\n",
    "print(\"Cross-validated scores:\", scores)`\n",
    "\n",
    "Unfortunately, this doesn't work with a `keras` model. Below, we present several other cross-validation methods relevant to image analysis with Keras, but not impremented yet - as we don't have enough data for now to use cross-validation in a significant way."
   ]
  },
  {
   "cell_type": "markdown",
   "metadata": {},
   "source": [
    "#### Stratified K-Fold Cross Validation with Keras"
   ]
  },
  {
   "cell_type": "markdown",
   "metadata": {},
   "source": [
    "K-fold cross validation provides a robust estimate of the performance of a model on unseen data. It does this by splitting the training dataset into k subsets and takes turns training models on all subsets except one which is held out, and evaluating model performance on the held out validation dataset. The process is repeated until all subsets are given an opportunity to be the held out as validation set. The performance measure is then averaged across all models that were created.\n",
    "\n",
    "The `StratifiedKFold` class from `scikit-learn` creates stratified folds, meaning that the algorithm attempts to balance the number of instances of each class in each fold.\n",
    "\n",
    "Cross validation implies lots of computational expenses, as 5 or 10 folds imply that 5 or 10 models must be constructed and evaluated. However with enough power it provides a less biased estimate of the performance of your model (average and standard deviation of model performance, outputted at the end of the following script)."
   ]
  },
  {
   "cell_type": "code",
   "execution_count": null,
   "metadata": {},
   "outputs": [],
   "source": [
    "# fix random seed for reproducibility\n",
    "seed = 7\n",
    "numpy.random.seed(seed)\n",
    "\n",
    "# define 10-fold cross validation test harness\n",
    "kfold = StratifiedKFold(n_splits=10, shuffle=True, random_state=seed)\n",
    "\n",
    "# train and evaluate 10 models\n",
    "cvscores = []\n",
    "for train, test in kfold.split(x_train, y_train):\n",
    "  # create model\n",
    "    model = Sequential()\n",
    "    model.add(Dense(12, input_dim=8, activation='relu'))\n",
    "    .\n",
    "    .\n",
    "    .\n",
    "    # Compile model\n",
    "    model.compile(loss='binary_crossentropy', optimizer='adam', metrics=['accuracy'])\n",
    "    # Fit the model\n",
    "    model.fit(x_train, y_train, epochs=5, batch_size=8, verbose=0)\n",
    "    # evaluate the model\n",
    "    scores = model.evaluate(x_test, y_test, verbose=0)\n",
    "    print(\"%s: %.2f%%\" % (model.metrics_names[1], scores[1]*100))\n",
    "    cvscores.append(scores[1] * 100)\n",
    "print(\"%.2f%% (+/- %.2f%%)\" % (numpy.mean(cvscores), numpy.std(cvscores)))"
   ]
  },
  {
   "cell_type": "markdown",
   "metadata": {},
   "source": [
    "To run this cell, we would need more computational power than my personal laptop."
   ]
  },
  {
   "cell_type": "markdown",
   "metadata": {},
   "source": [
    "#### Cross-validation with \"on-the-fly\" augmented data generation [not implemented]"
   ]
  },
  {
   "cell_type": "markdown",
   "metadata": {},
   "source": [
    "If you are using images with data generators, here's one way to do 10-fold cross-validation with Keras and scikit-learn. The strategy is to copy the files to training, validation, and test subfolders according to each fold."
   ]
  },
  {
   "cell_type": "code",
   "execution_count": null,
   "metadata": {},
   "outputs": [],
   "source": [
    "# used to copy files according to each fold\n",
    "def copy_images(df, directory):\n",
    "    destination_directory = \"{path to your data directory}/\" + directory\n",
    "    print(\"copying {} files to {}...\".format(directory, destination_directory))\n",
    "\n",
    "    # remove all files from previous fold\n",
    "    if os.path.exists(destination_directory):\n",
    "        shutil.rmtree(destination_directory)\n",
    "\n",
    "    # create folder for files from this fold\n",
    "    if not os.path.exists(destination_directory):\n",
    "        os.makedirs(destination_directory)\n",
    "\n",
    "    # create subfolders for each class\n",
    "    for c in set(list(df['class'])):\n",
    "        if not os.path.exists(destination_directory + '/' + c):\n",
    "            os.makedirs(destination_directory + '/' + c)\n",
    "\n",
    "    # copy files for this fold from a directory holding all the files\n",
    "    for i, row in df.iterrows():\n",
    "        try:\n",
    "            # this is the path to all of your images kept together in a separate folder\n",
    "            path_from = \"{path to all of your images}\"\n",
    "            path_from = path_from + \"{}.jpg\"\n",
    "            path_to = \"{}/{}\".format(destination_directory, row['class'])\n",
    "\n",
    "            # move from folder keeping all files to training, test, or validation folder (the \"directory\" argument)\n",
    "            shutil.copy(path_from.format(row['filename']), path_to)\n",
    "        except Exception, e:\n",
    "            print(\"Error when copying {}: {}\".format(row['filename'], str(e)))\n",
    "\n",
    "# dataframe containing the filenames of the images (e.g., GUID filenames) and the classes\n",
    "df = pd.read_csv('{path to your data}.csv')\n",
    "df_y = df['class']\n",
    "df_x = df\n",
    "del df_x['class']\n",
    "\n",
    "skf = StratifiedKFold(n_splits = 10)\n",
    "total_actual = []\n",
    "total_predicted = []\n",
    "total_val_accuracy = []\n",
    "total_val_loss = []\n",
    "total_test_accuracy = []\n",
    "\n",
    "for i, (train_index, test_index) in enumerate(skf.split(df_x, df_y)):\n",
    "    x_train, x_test = df_x.iloc[train_index], df_x.iloc[test_index]\n",
    "    y_train, y_test = df_y.iloc[train_index], df_y.iloc[test_index]\n",
    "\n",
    "    train = pd.concat([x_train, y_train], axis=1)\n",
    "    test = pd.concat([x_test, y_test], axis = 1)\n",
    "\n",
    "    # take 20% of the training data from this fold for validation during training\n",
    "    validation = train.sample(frac = 0.2)\n",
    "\n",
    "    # make sure validation data does not include training data\n",
    "    train = train[~train['filename'].isin(list(validation['filename']))]\n",
    "\n",
    "    # copy the images according to the fold\n",
    "    copy_images(train, 'training')\n",
    "    copy_images(validation, 'validation')\n",
    "    copy_images(test, 'test')\n",
    "\n",
    "    print('**** Running fold '+ str(i))\n",
    "\n",
    "    # here you call a function to create and train your model, returning validation accuracy and validation loss\n",
    "    val_accuracy, val_loss = create_train_model();\n",
    "\n",
    "    # append validation accuracy and loss for average calculation later on\n",
    "    total_val_accuracy.append(val_accuracy)\n",
    "    total_val_loss.append(val_loss)\n",
    "\n",
    "    # here you will call a predict() method that will predict the images on the \"test\" subfolder \n",
    "    # this function returns the actual classes and the predicted classes in the same order\n",
    "    actual, predicted = predict()\n",
    "\n",
    "    # append accuracy from the predictions on the test data\n",
    "    total_test_accuracy.append(accuracy_score(actual, predicted))\n",
    "\n",
    "    # append all of the actual and predicted classes for your final evaluation\n",
    "    total_actual = total_actual + actual\n",
    "    total_predicted = total_predicted + predicted\n",
    "\n",
    "    # this is optional, but you can also see the performance on each fold as the process goes on\n",
    "    print(classification_report(total_actual, total_predicted))\n",
    "    print(confusion_matrix(total_actual, total_predicted))\n",
    "\n",
    "print(classification_report(total_actual, total_predicted))\n",
    "print(confusion_matrix(total_actual, total_predicted))\n",
    "print(\"Validation accuracy on each fold:\")\n",
    "print(total_val_accuracy)\n",
    "print(\"Mean validation accuracy: {}%\".format(np.mean(total_val_accuracy) * 100))\n",
    "\n",
    "print(\"Validation loss on each fold:\")\n",
    "print(total_val_loss)\n",
    "print(\"Mean validation loss: {}\".format(np.mean(total_val_loss)))\n",
    "\n",
    "print(\"Test accuracy on each fold:\")\n",
    "print(total_test_accuracy)\n",
    "print(\"Mean test accuracy: {}%\".format(np.mean(total_test_accuracy) * 100))"
   ]
  },
  {
   "cell_type": "markdown",
   "metadata": {},
   "source": [
    "In your predict() function, if you are using a data generator, the only way I could find to keep the predictions in the same order when testing would be to use a batch_size of 1:"
   ]
  },
  {
   "cell_type": "code",
   "execution_count": null,
   "metadata": {},
   "outputs": [],
   "source": [
    "generator = ImageDataGenerator().flow_from_directory(\n",
    "        '{path to your data directory}/test',\n",
    "        target_size = (img_width, img_height),\n",
    "        batch_size = 1,\n",
    "        color_mode = 'rgb',\n",
    "        # categorical for a multiclass problem\n",
    "        class_mode = 'categorical',\n",
    "        # this will also ensure the same order\n",
    "        shuffle = False)"
   ]
  },
  {
   "cell_type": "markdown",
   "metadata": {},
   "source": [
    "With this code, I was able to do 10-fold cross-validation using data generators (so I did not have to keep all files in memory). This can be a lot of work if you have millions of images and the batch_size = 1 could be a bottleneck if your test set is large, but for my project this worked well."
   ]
  },
  {
   "cell_type": "markdown",
   "metadata": {},
   "source": [
    "## Conclusion"
   ]
  },
  {
   "cell_type": "markdown",
   "metadata": {},
   "source": [
    "In this notebook, we finally come out with a minimum viable model to detect solar panels.\n",
    "\n",
    "Due to limited data and computational power, we don't get very performant results, but everything works (pre-processing, modeling, evaluation) and could be used as a basis for further work.\n",
    "\n",
    "Further work could include:\n",
    "* more images $\\rightarrow$ I will try to find more data, and perform data augmentation again\n",
    "* more positive samples $\\rightarrow$ I will especially add more positive date to correct class imbalance\n",
    "* a more complex model, with tuned parameters $\\rightarrow$ I will deepen and tune the models when I get more data and more computational power\n",
    "* a pre-trained network $\\rightarrow$ I will try to transfer learning from a pretrained network\n",
    "* cross-validation $\\rightarrow$ in order to have more computational power, I will try to run this notebook on GPU."
   ]
  },
  {
   "cell_type": "code",
   "execution_count": null,
   "metadata": {},
   "outputs": [],
   "source": []
  }
 ],
 "metadata": {
  "kernelspec": {
   "display_name": "Python 3",
   "language": "python",
   "name": "python3"
  },
  "language_info": {
   "codemirror_mode": {
    "name": "ipython",
    "version": 3
   },
   "file_extension": ".py",
   "mimetype": "text/x-python",
   "name": "python",
   "nbconvert_exporter": "python",
   "pygments_lexer": "ipython3",
   "version": "3.7.7"
  },
  "toc": {
   "base_numbering": 1,
   "nav_menu": {},
   "number_sections": true,
   "sideBar": true,
   "skip_h1_title": true,
   "title_cell": "Table of Contents",
   "title_sidebar": "Contents",
   "toc_cell": true,
   "toc_position": {
    "height": "calc(100% - 180px)",
    "left": "10px",
    "top": "150px",
    "width": "281px"
   },
   "toc_section_display": true,
   "toc_window_display": true
  },
  "varInspector": {
   "cols": {
    "lenName": 16,
    "lenType": 16,
    "lenVar": 40
   },
   "kernels_config": {
    "python": {
     "delete_cmd_postfix": "",
     "delete_cmd_prefix": "del ",
     "library": "var_list.py",
     "varRefreshCmd": "print(var_dic_list())"
    },
    "r": {
     "delete_cmd_postfix": ") ",
     "delete_cmd_prefix": "rm(",
     "library": "var_list.r",
     "varRefreshCmd": "cat(var_dic_list()) "
    }
   },
   "types_to_exclude": [
    "module",
    "function",
    "builtin_function_or_method",
    "instance",
    "_Feature"
   ],
   "window_display": false
  }
 },
 "nbformat": 4,
 "nbformat_minor": 2
}
